{
 "cells": [
  {
   "cell_type": "markdown",
   "metadata": {
    "tags": []
   },
   "source": [
    "# Reporte"
   ]
  },
  {
   "cell_type": "markdown",
   "metadata": {
    "tags": []
   },
   "source": [
    "### [Perfilamiento de Tiempo](https://github.com/optimizacion-2-2021-1-gh-classroom/practica-2-segunda-parte-yefovar/blob/main/perfilamiento/Perfilamiento_tiempo.ipynb)"
   ]
  },
  {
   "cell_type": "markdown",
   "metadata": {
    "tags": []
   },
   "source": [
    "Para esta practica, se optimizó el algoritmo de Simplex por medio de la utilización de Blas, lineprofile y Cython."
   ]
  },
  {
   "cell_type": "markdown",
   "metadata": {
    "tags": []
   },
   "source": [
    "Primero se realizó un perfilamiento del código original, se evaluó con lineprofiler y se realizaron cambios al código en los puntos en donde más tardaba el algoritmo, sustiuyendo por funciones de vectorización para hacerlo más eficiente. "
   ]
  },
  {
   "cell_type": "markdown",
   "metadata": {
    "tags": []
   },
   "source": [
    "De acuerdo a las estadísticas resultantes con line profiler se tienen 7 líneas en el código que tienen un porcentaje elevado de tiempo en ejecución:\n",
    "\n",
    "- Línea 64 - A = np.c_[A,identity_A] que es la parte que construye la matriz completa A al agregar la - identidad por las variables de holgura\n",
    "- Línea 81 - lista.append (-lambda_ + np.dot(nu, A[:, N_list_idx[i]])) para crear la lista de las lambas a evaluar en el método\n",
    "- Línea 88 - d = np.linalg.solve(B, A[:,idx_x_N]) para la solución del problema de ecuaciones\n",
    "- Línea 97 - if np.isnan(lista2).all() == True:para evular una solución ounbounded\n",
    "- Línea 117 - nu = np.linalg.solve(B.T, c_B)solución del problema de ecuaciones\n",
    "- Línea 137 - print(\"Optimization completed successfully !\")para imprimir si la optimización fue correcta"
   ]
  },
  {
   "cell_type": "markdown",
   "metadata": {
    "tags": []
   },
   "source": [
    "Se decidió también mejorar fue la línea 63 con otra función de Pyhton: np.hstack y evaluar los resultados."
   ]
  },
  {
   "cell_type": "markdown",
   "metadata": {
    "tags": []
   },
   "source": [
    "También se decidió cambiar los prints por verbose lo que mejoraban mucho su desempeño, ahora le dejamos al usuarios que si desea ver los print's en la ejecución lo haga poniendo el parámetro verbose=True, de otra manera podría acceder a los valores simplemente imprimiendo : x_result, opt y status"
   ]
  },
  {
   "cell_type": "markdown",
   "metadata": {
    "tags": []
   },
   "source": [
    "Logramos mejorar el tiempo de ejecución del algoritmo y realmente comparado con nuestro benchamark de \"Scipy\" tiene un buen desempeño en tiempo."
   ]
  },
  {
   "cell_type": "markdown",
   "metadata": {
    "tags": []
   },
   "source": [
    "### Perfilamiento de Código tras agregar [OpenBLAS](https://github.com/optimizacion-2-2021-1-gh-classroom/practica-2-segunda-parte-yefovar/blob/main/perfilamiento/Perfilamiento_tiempo_blas.ipynb) "
   ]
  },
  {
   "cell_type": "markdown",
   "metadata": {
    "tags": []
   },
   "source": [
    "Tras agregar algunas operaciones con BLAS e instalar los paquetes logramos reducir el tiempo de ejecución de 0.001188039779663086 segundos a 0.0008554458618164062 segundos. Nuestro paquete ya contaba con algunas operaciones en Blas pero se agregaron operadores de numpy  @ en productos de matrices para hacerlo más eficiente. Además, se logró reducir el tiempo en las líneas donde se implementaron estos algoritmos. Por ejemplo, en la linea 81 pasamos de 37.0 a 33.0 , la 124 de 40.0 a 24.0 y la 45 de 8.0 a 4.0.\n",
    "\n"
   ]
  },
  {
   "cell_type": "markdown",
   "metadata": {
    "tags": []
   },
   "source": [
    "### Perfilamiento de Código tras implemetar [Cython](https://github.com/optimizacion-2-2021-1-gh-classroom/practica-2-segunda-parte-yefovar/blob/main/perfilamiento/Perfilamiento_tiempo_cython.ipynb)"
   ]
  },
  {
   "cell_type": "markdown",
   "metadata": {
    "tags": []
   },
   "source": [
    "Tras agregar algunas operaciones con BLAS e instalar los paquetes logramos reducir el tiempo de ejecución de 0.001188039779663086 segundos a 0.0009770393371582031 segundos que mejora la implementación del algoritmo original y tras las optimizaciones (por un pequeño margen). Se agrega este módulo como opcional para que el usuario decida cual utilizar. "
   ]
  },
  {
   "cell_type": "markdown",
   "metadata": {
    "tags": []
   },
   "source": [
    "### Perfilamiento de Memoria: [Simplex](https://github.com/optimizacion-2-2021-1-gh-classroom/practica-2-segunda-parte-yefovar/blob/main/perfilamiento/Perfilamiento_memoria.ipynb), [Blas](https://github.com/optimizacion-2-2021-1-gh-classroom/practica-2-segunda-parte-yefovar/blob/main/perfilamiento/Perfilamiento_memoria_blas.ipynb) y [Cython](https://github.com/optimizacion-2-2021-1-gh-classroom/practica-2-segunda-parte-yefovar/blob/main/perfilamiento/Perfilamiento_memoria_cython.ipynb)"
   ]
  },
  {
   "cell_type": "markdown",
   "metadata": {
    "tags": []
   },
   "source": [
    "Con las optimizaciones del código por vectorización, se logró reducir el uso de memoria de 74.92578125 a 63.4296875 para resolver el problema seleccionado. El uso de memoria casi no se modificó tras implementar Blas 63.8515625. Sin embargo, al implementar la compilación en C, sí logro reducirse un poco a 62.87890625\n"
   ]
  }
 ],
 "metadata": {
  "kernelspec": {
   "display_name": "Python 3",
   "language": "python",
   "name": "python3"
  },
  "kubeflow_notebook": {
   "autosnapshot": false,
   "docker_image": "",
   "experiment": {
    "id": "",
    "name": ""
   },
   "experiment_name": "",
   "katib_metadata": {
    "algorithm": {
     "algorithmName": "grid"
    },
    "maxFailedTrialCount": 3,
    "maxTrialCount": 12,
    "objective": {
     "objectiveMetricName": "",
     "type": "minimize"
    },
    "parallelTrialCount": 3,
    "parameters": []
   },
   "katib_run": false,
   "pipeline_description": "",
   "pipeline_name": "",
   "snapshot_volumes": false,
   "steps_defaults": [],
   "volume_access_mode": "rwm",
   "volumes": []
  },
  "language_info": {
   "codemirror_mode": {
    "name": "ipython",
    "version": 3
   },
   "file_extension": ".py",
   "mimetype": "text/x-python",
   "name": "python",
   "nbconvert_exporter": "python",
   "pygments_lexer": "ipython3",
   "version": "3.6.9"
  }
 },
 "nbformat": 4,
 "nbformat_minor": 4
}

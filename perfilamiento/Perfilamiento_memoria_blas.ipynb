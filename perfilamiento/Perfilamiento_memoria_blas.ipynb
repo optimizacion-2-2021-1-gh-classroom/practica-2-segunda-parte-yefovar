{
 "cells": [
  {
   "cell_type": "markdown",
   "metadata": {},
   "source": [
    "# Perfilamiento sobre algoritmo Simplex con Blas\n",
    "\n",
    "### 1. Medición de memoria\n",
    "\n",
    "Características de la instancia que utilizamos para el perfilamiento"
   ]
  },
  {
   "cell_type": "code",
   "execution_count": 1,
   "metadata": {},
   "outputs": [
    {
     "name": "stdout",
     "output_type": "stream",
     "text": [
      "Architecture:        x86_64\n",
      "CPU op-mode(s):      32-bit, 64-bit\n",
      "Byte Order:          Little Endian\n",
      "CPU(s):              8\n",
      "On-line CPU(s) list: 0-7\n",
      "Thread(s) per core:  2\n",
      "Core(s) per socket:  4\n",
      "Socket(s):           1\n",
      "NUMA node(s):        1\n",
      "Vendor ID:           GenuineIntel\n",
      "CPU family:          6\n",
      "Model:               85\n",
      "Model name:          Intel(R) Xeon(R) Platinum 8175M CPU @ 2.50GHz\n",
      "Stepping:            4\n",
      "CPU MHz:             3094.639\n",
      "BogoMIPS:            5000.00\n",
      "Hypervisor vendor:   KVM\n",
      "Virtualization type: full\n",
      "L1d cache:           32K\n",
      "L1i cache:           32K\n",
      "L2 cache:            1024K\n",
      "L3 cache:            33792K\n",
      "NUMA node0 CPU(s):   0-7\n",
      "Flags:               fpu vme de pse tsc msr pae mce cx8 apic sep mtrr pge mca cmov pat pse36 clflush mmx fxsr sse sse2 ss ht syscall nx pdpe1gb rdtscp lm constant_tsc rep_good nopl xtopology nonstop_tsc cpuid aperfmperf tsc_known_freq pni pclmulqdq ssse3 fma cx16 pcid sse4_1 sse4_2 x2apic movbe popcnt tsc_deadline_timer aes xsave avx f16c rdrand hypervisor lahf_lm abm 3dnowprefetch invpcid_single pti fsgsbase tsc_adjust bmi1 hle avx2 smep bmi2 erms invpcid rtm mpx avx512f avx512dq rdseed adx smap clflushopt clwb avx512cd avx512bw avx512vl xsaveopt xsavec xgetbv1 xsaves ida arat pku ospke\n"
     ]
    }
   ],
   "source": [
    "%%bash\n",
    "lscpu"
   ]
  },
  {
   "cell_type": "code",
   "execution_count": 2,
   "metadata": {},
   "outputs": [
    {
     "name": "stdout",
     "output_type": "stream",
     "text": [
      "  *-memory\n",
      "       description: System memory\n",
      "       physical id: 0\n",
      "       size: 30GiB\n"
     ]
    }
   ],
   "source": [
    "%%bash\n",
    "sudo lshw -C memory"
   ]
  },
  {
   "cell_type": "markdown",
   "metadata": {
    "tags": []
   },
   "source": [
    "### memory_profiler"
   ]
  },
  {
   "cell_type": "markdown",
   "metadata": {
    "tags": []
   },
   "source": [
    "#### Versión 1"
   ]
  },
  {
   "cell_type": "code",
   "execution_count": 3,
   "metadata": {},
   "outputs": [],
   "source": [
    "from memory_profiler import memory_usage\n",
    "from versiones import Simplex_v0 as Simplex_v0"
   ]
  },
  {
   "cell_type": "code",
   "execution_count": 4,
   "metadata": {},
   "outputs": [
    {
     "name": "stdout",
     "output_type": "stream",
     "text": [
      "Optimization completed successfully !\n",
      "Solution for x vector:\n",
      "[2.0, 6.0]\n",
      "Optimal value:\n",
      "-36.0\n",
      "Optimization completed successfully !\n",
      "Solution for x vector:\n",
      "[0, 0]\n",
      "Optimal value:\n",
      "0\n",
      "Optimization completed successfully !\n",
      "Solution for x vector:\n",
      "[0, 0]\n",
      "Optimal value:\n",
      "0\n",
      "Optimization completed successfully !\n",
      "Solution for x vector:\n",
      "[0, 0]\n",
      "Optimal value:\n",
      "0\n",
      "Optimization completed successfully !\n",
      "Solution for x vector:\n",
      "[0, 0]\n",
      "Optimal value:\n",
      "0\n",
      "Optimization completed successfully !\n",
      "Solution for x vector:\n",
      "[0, 0]\n",
      "Optimal value:\n",
      "0\n",
      "Optimization completed successfully !\n",
      "Solution for x vector:\n",
      "[0, 0]\n",
      "Optimal value:\n",
      "0\n",
      "start mem 63.55859375\n",
      "max mem 64.21484375\n",
      "used mem 0.65625\n",
      "fun output ([0, 0], 0, 0)\n"
     ]
    }
   ],
   "source": [
    "c = [3, 5]\n",
    "b = [4, 12, 18]\n",
    "A = [[1,  0],\n",
    "    [0,  2],\n",
    "    [3, 2]]\n",
    "\n",
    "problema = Simplex_v0.Simplex(c,A,b,problem='Max')\n",
    "t = (problema.solve)\n",
    "\n",
    "start_mem = memory_usage(max_usage=True)\n",
    "res = memory_usage(t, max_usage=True, retval=True)\n",
    "print('start mem', start_mem)\n",
    "print('max mem', res[0])\n",
    "print('used mem', res[0]-start_mem)\n",
    "print('fun output', res[1])"
   ]
  },
  {
   "cell_type": "markdown",
   "metadata": {
    "tags": []
   },
   "source": [
    "#### Versión 1"
   ]
  },
  {
   "cell_type": "markdown",
   "metadata": {
    "tags": []
   },
   "source": [
    "Nota: la versión 1 es considerando las mejoras de tiempo implementadas a partir del perfilamiento."
   ]
  },
  {
   "cell_type": "code",
   "execution_count": 5,
   "metadata": {},
   "outputs": [],
   "source": [
    "import Simplex"
   ]
  },
  {
   "cell_type": "code",
   "execution_count": 6,
   "metadata": {},
   "outputs": [
    {
     "name": "stdout",
     "output_type": "stream",
     "text": [
      "Solution for x vector, optimization value and status:\n",
      "Solution for x vector, optimization value and status:\n",
      "Solution for x vector, optimization value and status:\n",
      "Solution for x vector, optimization value and status:\n",
      "Solution for x vector, optimization value and status:\n",
      "Solution for x vector, optimization value and status:\n",
      "Solution for x vector, optimization value and status:\n",
      "start mem 64.265625\n",
      "max mem 64.2734375\n",
      "used mem 0.0078125\n",
      "fun output ([0, 0], 0, 0)\n"
     ]
    }
   ],
   "source": [
    "c = [3, 5]\n",
    "b = [4, 12, 18]\n",
    "A = [[1,  0],\n",
    "    [0,  2],\n",
    "    [3, 2]]\n",
    "\n",
    "problema = Simplex.Simplex(c,A,b,problem='Max')\n",
    "t = (problema.solve)\n",
    "\n",
    "start_mem = memory_usage(max_usage=True)\n",
    "res = memory_usage(t, max_usage=True, retval=True)\n",
    "print('start mem', start_mem)\n",
    "print('max mem', res[0])\n",
    "print('used mem', res[0]-start_mem)\n",
    "print('fun output', res[1])"
   ]
  },
  {
   "cell_type": "markdown",
   "metadata": {
    "tags": []
   },
   "source": [
    "### Decorador profiler"
   ]
  },
  {
   "cell_type": "code",
   "execution_count": 7,
   "metadata": {},
   "outputs": [],
   "source": [
    "%load_ext memory_profiler"
   ]
  },
  {
   "cell_type": "code",
   "execution_count": 8,
   "metadata": {},
   "outputs": [
    {
     "name": "stdout",
     "output_type": "stream",
     "text": [
      "peak memory: 64.29 MiB, increment: 0.02 MiB\n"
     ]
    }
   ],
   "source": [
    "%memit #how much RAM this process is consuming"
   ]
  },
  {
   "cell_type": "code",
   "execution_count": 9,
   "metadata": {},
   "outputs": [
    {
     "name": "stdout",
     "output_type": "stream",
     "text": [
      "Solution for x vector, optimization value and status:\n",
      "Solution for x vector, optimization value and status:\n",
      "Solution for x vector, optimization value and status:\n",
      "Solution for x vector, optimization value and status:\n",
      "Solution for x vector, optimization value and status:\n",
      "Solution for x vector, optimization value and status:\n",
      "Solution for x vector, optimization value and status:\n",
      "peak memory: 113.45 MiB, increment: 49.16 MiB\n"
     ]
    }
   ],
   "source": [
    "c = [3, 5]\n",
    "b = [4, 12, 18]\n",
    "A = [[1,  0],\n",
    "    [0,  2],\n",
    "    [3, 2]]\n",
    "\n",
    "problema = Simplex.Simplex(c,A,b,problem='Max')\n",
    "%memit -c problema.solve()"
   ]
  },
  {
   "cell_type": "code",
   "execution_count": 10,
   "metadata": {},
   "outputs": [
    {
     "name": "stdout",
     "output_type": "stream",
     "text": [
      "Solution for x vector, optimization value and status:\n",
      "Solution for x vector, optimization value and status:\n",
      "Solution for x vector, optimization value and status:\n",
      "Solution for x vector, optimization value and status:\n",
      "Solution for x vector, optimization value and status:\n",
      "Solution for x vector, optimization value and status:\n",
      "Solution for x vector, optimization value and status:\n",
      "peak memory: 113.48 MiB, increment: 49.17 MiB\n"
     ]
    }
   ],
   "source": [
    "c = [3, 5]\n",
    "b = [4, 12, 18]\n",
    "A = [[1,  0],\n",
    "    [0,  2],\n",
    "    [3, 2]]\n",
    "\n",
    "problema = Simplex.Simplex(c,A,b,problem='Max')\n",
    "%memit -c problema.solve()"
   ]
  },
  {
   "cell_type": "markdown",
   "metadata": {
    "tags": []
   },
   "source": [
    "### guppy"
   ]
  },
  {
   "cell_type": "code",
   "execution_count": 11,
   "metadata": {},
   "outputs": [
    {
     "name": "stdout",
     "output_type": "stream",
     "text": [
      "Writing heapy_ex_1_new\n"
     ]
    }
   ],
   "source": [
    "%%file heapy_ex_1_new\n",
    "import Simplex as Simplex\n",
    "\n",
    "from guppy import hpy\n",
    "\n",
    "hp = hpy()\n",
    "hp.setrelheap() #Everything allocated before this call will not be in the objects you get later.\n",
    "c = [3, 5]\n",
    "b = [4, 12, 18]\n",
    "A = [[1,  0],\n",
    "    [0,  2],\n",
    "    [3, 2]]\n",
    "problema = Simplex.Simplex(c,A,b,problem='Max')\n",
    "method_result, opt, status = problema.solve()\n",
    "h = hp.heap()\n",
    "print(h)"
   ]
  },
  {
   "cell_type": "code",
   "execution_count": 12,
   "metadata": {},
   "outputs": [
    {
     "name": "stdout",
     "output_type": "stream",
     "text": [
      "Solution for x vector, optimization value and status:\n",
      "Partition of a set of 19 objects. Total size = 1936 bytes.\n",
      " Index  Count   %     Size   % Cumulative  % Kind (class / dict of class)\n",
      "     0      8  42      688  36       688  36 list\n",
      "     1      1   5      432  22      1120  58 types.FrameType\n",
      "     2      3  16      392  20      1512  78 numpy.ndarray\n",
      "     3      1   5      152   8      1664  86 dict of Simplex.Simplex\n",
      "     4      2  11      120   6      1784  92 bytes\n",
      "     5      3  16       96   5      1880  97 numpy.float64\n",
      "     6      1   5       56   3      1936 100 Simplex.Simplex\n"
     ]
    }
   ],
   "source": [
    "%%bash\n",
    "python3 heapy_ex_1_new"
   ]
  }
 ],
 "metadata": {
  "kernelspec": {
   "display_name": "Python 3",
   "language": "python",
   "name": "python3"
  },
  "kubeflow_notebook": {
   "autosnapshot": false,
   "docker_image": "",
   "experiment": {
    "id": "",
    "name": ""
   },
   "experiment_name": "",
   "katib_metadata": {
    "algorithm": {
     "algorithmName": "grid"
    },
    "maxFailedTrialCount": 3,
    "maxTrialCount": 12,
    "objective": {
     "objectiveMetricName": "",
     "type": "minimize"
    },
    "parallelTrialCount": 3,
    "parameters": []
   },
   "katib_run": false,
   "pipeline_description": "",
   "pipeline_name": "",
   "snapshot_volumes": false,
   "steps_defaults": [],
   "volume_access_mode": "rwm",
   "volumes": []
  },
  "language_info": {
   "codemirror_mode": {
    "name": "ipython",
    "version": 3
   },
   "file_extension": ".py",
   "mimetype": "text/x-python",
   "name": "python",
   "nbconvert_exporter": "python",
   "pygments_lexer": "ipython3",
   "version": "3.6.9"
  }
 },
 "nbformat": 4,
 "nbformat_minor": 5
}

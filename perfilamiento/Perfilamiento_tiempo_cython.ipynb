{
 "cells": [
  {
   "cell_type": "markdown",
   "metadata": {},
   "source": [
    "# Perfilamiento sobre algoritmo Simplex\n",
    "\n",
    "### 1. Medición de tiempo\n",
    "\n",
    "Características de la instancia que utilizamos para el perfilamiento"
   ]
  },
  {
   "cell_type": "code",
   "execution_count": 1,
   "metadata": {},
   "outputs": [
    {
     "name": "stdout",
     "output_type": "stream",
     "text": [
      "Architecture:        x86_64\n",
      "CPU op-mode(s):      32-bit, 64-bit\n",
      "Byte Order:          Little Endian\n",
      "CPU(s):              8\n",
      "On-line CPU(s) list: 0-7\n",
      "Thread(s) per core:  2\n",
      "Core(s) per socket:  4\n",
      "Socket(s):           1\n",
      "NUMA node(s):        1\n",
      "Vendor ID:           GenuineIntel\n",
      "CPU family:          6\n",
      "Model:               85\n",
      "Model name:          Intel(R) Xeon(R) Platinum 8175M CPU @ 2.50GHz\n",
      "Stepping:            4\n",
      "CPU MHz:             3099.903\n",
      "BogoMIPS:            4999.99\n",
      "Hypervisor vendor:   KVM\n",
      "Virtualization type: full\n",
      "L1d cache:           32K\n",
      "L1i cache:           32K\n",
      "L2 cache:            1024K\n",
      "L3 cache:            33792K\n",
      "NUMA node0 CPU(s):   0-7\n",
      "Flags:               fpu vme de pse tsc msr pae mce cx8 apic sep mtrr pge mca cmov pat pse36 clflush mmx fxsr sse sse2 ss ht syscall nx pdpe1gb rdtscp lm constant_tsc rep_good nopl xtopology nonstop_tsc cpuid aperfmperf tsc_known_freq pni pclmulqdq ssse3 fma cx16 pcid sse4_1 sse4_2 x2apic movbe popcnt tsc_deadline_timer aes xsave avx f16c rdrand hypervisor lahf_lm abm 3dnowprefetch invpcid_single pti fsgsbase tsc_adjust bmi1 hle avx2 smep bmi2 erms invpcid rtm mpx avx512f avx512dq rdseed adx smap clflushopt clwb avx512cd avx512bw avx512vl xsaveopt xsavec xgetbv1 xsaves ida arat pku ospke\n"
     ]
    }
   ],
   "source": [
    "%%bash\n",
    "lscpu"
   ]
  },
  {
   "cell_type": "code",
   "execution_count": 2,
   "metadata": {},
   "outputs": [
    {
     "name": "stdout",
     "output_type": "stream",
     "text": [
      "  *-memory\n",
      "       description: System memory\n",
      "       physical id: 0\n",
      "       size: 30GiB\n"
     ]
    }
   ],
   "source": [
    "%%bash\n",
    "sudo lshw -C memory"
   ]
  },
  {
   "cell_type": "code",
   "execution_count": 3,
   "metadata": {},
   "outputs": [],
   "source": [
    "import math\n",
    "import time\n",
    "import SimplexC\n",
    "import Simplex\n",
    "import numpy as np\n",
    "#from pytest import approx\n",
    "from scipy.optimize import linprog"
   ]
  },
  {
   "cell_type": "markdown",
   "metadata": {},
   "source": [
    "**Módulo time**\n",
    "\n",
    "Ejemplo Maximización para evualuar tiempo de ejecución"
   ]
  },
  {
   "cell_type": "code",
   "execution_count": 4,
   "metadata": {},
   "outputs": [
    {
     "name": "stdout",
     "output_type": "stream",
     "text": [
      "Solution for x vector, optimization value and status:\n",
      "Simplex algorithm tomó 0.0009770393371582031 segundos\n"
     ]
    }
   ],
   "source": [
    "c = [3, 5]\n",
    "b = [4, 12, 18]\n",
    "A = [[1,  0],\n",
    "    [0,  2],\n",
    "    [3, 2]]\n",
    "\n",
    "start_time = time.time()\n",
    "problema = SimplexC.Simplex(c,A,b,problem='Max')\n",
    "method_result, opt, status = problema.solve()\n",
    "end_time = time.time()\n",
    "secs = end_time-start_time\n",
    "print(\"Simplex algorithm tomó\",secs,\"segundos\" )"
   ]
  },
  {
   "cell_type": "code",
   "execution_count": 5,
   "metadata": {},
   "outputs": [
    {
     "name": "stdout",
     "output_type": "stream",
     "text": [
      "Solution for x vector, optimization value and status:\n",
      "Simplex algorithm tomó 0.0009982585906982422 segundos\n"
     ]
    }
   ],
   "source": [
    "c = [3, 5]\n",
    "b = [4, 12, 18]\n",
    "A = [[1,  0],\n",
    "    [0,  2],\n",
    "    [3, 2]]\n",
    "\n",
    "start_time = time.time()\n",
    "problema = Simplex.Simplex(c,A,b,problem='Max')\n",
    "method_result, opt, status = problema.solve()\n",
    "end_time = time.time()\n",
    "secs = end_time-start_time\n",
    "print(\"Simplex algorithm tomó\",secs,\"segundos\" )"
   ]
  },
  {
   "cell_type": "markdown",
   "metadata": {},
   "source": [
    "Con Scipy"
   ]
  },
  {
   "cell_type": "code",
   "execution_count": 6,
   "metadata": {},
   "outputs": [
    {
     "name": "stdout",
     "output_type": "stream",
     "text": [
      "Scipy  tomó 0.004894733428955078 segundos\n"
     ]
    }
   ],
   "source": [
    "c_scipu=[-3, -5]\n",
    "\n",
    "start_time = time.time()\n",
    "opt = linprog(c=c_scipu, A_ub=A, b_ub=b,\n",
    "              method=\"simplex\")\n",
    "end_time = time.time()\n",
    "secs = end_time-start_time\n",
    "print(\"Scipy  tomó\",secs,\"segundos\" )"
   ]
  },
  {
   "cell_type": "markdown",
   "metadata": {},
   "source": [
    "Obs. En esta primera parte nos damos cuenta que el algoritmo implementado es un poco más rápido que el de Scipy."
   ]
  },
  {
   "cell_type": "markdown",
   "metadata": {},
   "source": [
    "**Comando Magic %time**"
   ]
  },
  {
   "cell_type": "code",
   "execution_count": 7,
   "metadata": {},
   "outputs": [
    {
     "name": "stdout",
     "output_type": "stream",
     "text": [
      "Solution for x vector, optimization value and status:\n",
      "CPU times: user 532 µs, sys: 167 µs, total: 699 µs\n",
      "Wall time: 501 µs\n"
     ]
    },
    {
     "data": {
      "text/plain": [
       "([0, 0], 0, 0)"
      ]
     },
     "execution_count": 7,
     "metadata": {},
     "output_type": "execute_result"
    }
   ],
   "source": [
    "%time problema.solve()"
   ]
  },
  {
   "cell_type": "markdown",
   "metadata": {},
   "source": [
    "**Cprofile**\n",
    "\n",
    "Para poder visualizar en que secciones de código se tarda más"
   ]
  },
  {
   "cell_type": "code",
   "execution_count": 8,
   "metadata": {},
   "outputs": [],
   "source": [
    "import cProfile"
   ]
  },
  {
   "cell_type": "code",
   "execution_count": 9,
   "metadata": {},
   "outputs": [
    {
     "name": "stdout",
     "output_type": "stream",
     "text": [
      "Solution for x vector, optimization value and status:\n",
      "         284 function calls (282 primitive calls) in 0.001 seconds\n",
      "\n",
      "   Ordered by: cumulative time\n",
      "\n",
      "   ncalls  tottime  percall  cumtime  percall filename:lineno(function)\n",
      "        3    0.000    0.000    0.001    0.000 interactiveshell.py:3288(run_code)\n",
      "        3    0.000    0.000    0.001    0.000 {built-in method builtins.exec}\n",
      "        1    0.000    0.000    0.001    0.001 <ipython-input-9-9a4092ce7cfb>:4(<module>)\n",
      "        2    0.000    0.000    0.000    0.000 iostream.py:384(write)\n",
      "        3    0.000    0.000    0.000    0.000 iostream.py:195(schedule)\n",
      "    16/14    0.000    0.000    0.000    0.000 {built-in method numpy.core._multiarray_umath.implement_array_function}\n",
      "        3    0.000    0.000    0.000    0.000 socket.py:438(send)\n",
      "        4    0.000    0.000    0.000    0.000 <__array_function__ internals>:2(solve)\n",
      "        4    0.000    0.000    0.000    0.000 linalg.py:314(solve)\n",
      "        2    0.000    0.000    0.000    0.000 twodim_base.py:152(eye)\n",
      "        1    0.000    0.000    0.000    0.000 <__array_function__ internals>:2(hstack)\n",
      "        3    0.000    0.000    0.000    0.000 codeop.py:132(__call__)\n",
      "        1    0.000    0.000    0.000    0.000 shape_base.py:286(hstack)\n",
      "        3    0.000    0.000    0.000    0.000 {built-in method builtins.compile}\n",
      "        2    0.000    0.000    0.000    0.000 {built-in method numpy.zeros}\n",
      "        6    0.000    0.000    0.000    0.000 <__array_function__ internals>:2(dot)\n",
      "        1    0.000    0.000    0.000    0.000 <ipython-input-9-9a4092ce7cfb>:3(<module>)\n",
      "        1    0.000    0.000    0.000    0.000 <__array_function__ internals>:2(concatenate)\n",
      "        4    0.000    0.000    0.000    0.000 linalg.py:135(_commonType)\n",
      "        1    0.000    0.000    0.000    0.000 <__array_function__ internals>:2(copy)\n",
      "       11    0.000    0.000    0.000    0.000 {built-in method numpy.array}\n",
      "        2    0.000    0.000    0.000    0.000 _methods.py:56(_all)\n",
      "        2    0.000    0.000    0.000    0.000 iostream.py:321(_schedule_flush)\n",
      "        8    0.000    0.000    0.000    0.000 linalg.py:107(_makearray)\n",
      "        1    0.000    0.000    0.000    0.000 function_base.py:714(copy)\n",
      "        1    0.000    0.000    0.000    0.000 <__array_function__ internals>:2(atleast_1d)\n",
      "        2    0.000    0.000    0.000    0.000 {method 'reduce' of 'numpy.ufunc' objects}\n",
      "        3    0.000    0.000    0.000    0.000 threading.py:1104(is_alive)\n",
      "        1    0.000    0.000    0.000    0.000 shape_base.py:24(atleast_1d)\n",
      "        3    0.000    0.000    0.000    0.000 contextlib.py:157(helper)\n",
      "       14    0.000    0.000    0.000    0.000 {built-in method builtins.getattr}\n",
      "        6    0.000    0.000    0.000    0.000 {built-in method builtins.next}\n",
      "        2    0.000    0.000    0.000    0.000 <__array_function__ internals>:2(size)\n",
      "       20    0.000    0.000    0.000    0.000 {built-in method builtins.issubclass}\n",
      "       12    0.000    0.000    0.000    0.000 linalg.py:112(isComplexType)\n",
      "        8    0.000    0.000    0.000    0.000 linalg.py:125(_realType)\n",
      "        8    0.000    0.000    0.000    0.000 _asarray.py:14(asarray)\n",
      "        3    0.000    0.000    0.000    0.000 threading.py:1062(_wait_for_tstate_lock)\n",
      "        3    0.000    0.000    0.000    0.000 contextlib.py:85(__exit__)\n",
      "        3    0.000    0.000    0.000    0.000 contextlib.py:59(__init__)\n",
      "        4    0.000    0.000    0.000    0.000 {method 'astype' of 'numpy.ndarray' objects}\n",
      "        2    0.000    0.000    0.000    0.000 iostream.py:308(_is_master_process)\n",
      "        3    0.000    0.000    0.000    0.000 traitlets.py:545(__get__)\n",
      "        6    0.000    0.000    0.000    0.000 compilerop.py:138(extra_flags)\n",
      "        3    0.000    0.000    0.000    0.000 contextlib.py:79(__enter__)\n",
      "        1    0.000    0.000    0.000    0.000 shape_base.py:219(_vhstack_dispatcher)\n",
      "        3    0.000    0.000    0.000    0.000 hooks.py:142(__call__)\n",
      "        1    0.000    0.000    0.000    0.000 <ipython-input-9-9a4092ce7cfb>:5(<module>)\n",
      "        4    0.000    0.000    0.000    0.000 linalg.py:194(_assert_stacked_2d)\n",
      "        4    0.000    0.000    0.000    0.000 linalg.py:200(_assert_stacked_square)\n",
      "        1    0.000    0.000    0.000    0.000 shape_base.py:208(_arrays_for_stack_dispatcher)\n",
      "        2    0.000    0.000    0.000    0.000 _asarray.py:86(asanyarray)\n",
      "        3    0.000    0.000    0.000    0.000 ipstruct.py:125(__getattr__)\n",
      "        3    0.000    0.000    0.000    0.000 traitlets.py:526(get)\n",
      "        8    0.000    0.000    0.000    0.000 {method 'get' of 'dict' objects}\n",
      "        2    0.000    0.000    0.000    0.000 {built-in method posix.getpid}\n",
      "        3    0.000    0.000    0.000    0.000 {method 'acquire' of '_thread.lock' objects}\n",
      "        3    0.000    0.000    0.000    0.000 {method 'append' of 'collections.deque' objects}\n",
      "        4    0.000    0.000    0.000    0.000 linalg.py:102(get_linalg_error_extobj)\n",
      "        2    0.000    0.000    0.000    0.000 fromnumeric.py:3117(size)\n",
      "        3    0.000    0.000    0.000    0.000 iostream.py:91(_event_pipe)\n",
      "        3    0.000    0.000    0.000    0.000 interactiveshell.py:1272(user_global_ns)\n",
      "        3    0.000    0.000    0.000    0.000 interactiveshell.py:117(<lambda>)\n",
      "        2    0.000    0.000    0.000    0.000 {method 'append' of 'list' objects}\n",
      "        4    0.000    0.000    0.000    0.000 linalg.py:310(_solve_dispatcher)\n",
      "        1    0.000    0.000    0.000    0.000 function_base.py:710(_copy_dispatcher)\n",
      "        1    0.000    0.000    0.000    0.000 shape_base.py:20(_atleast_1d_dispatcher)\n",
      "        4    0.000    0.000    0.000    0.000 {method '__array_prepare__' of 'numpy.ndarray' objects}\n",
      "        1    0.000    0.000    0.000    0.000 {built-in method builtins.hasattr}\n",
      "        3    0.000    0.000    0.000    0.000 {built-in method builtins.isinstance}\n",
      "        1    0.000    0.000    0.000    0.000 {built-in method builtins.len}\n",
      "        2    0.000    0.000    0.000    0.000 fromnumeric.py:3113(_size_dispatcher)\n",
      "        1    0.000    0.000    0.000    0.000 multiarray.py:143(concatenate)\n",
      "        6    0.000    0.000    0.000    0.000 multiarray.py:706(dot)\n",
      "        1    0.000    0.000    0.000    0.000 {method 'disable' of '_lsprof.Profiler' objects}\n",
      "        3    0.000    0.000    0.000    0.000 hooks.py:207(pre_run_code_hook)\n",
      "        3    0.000    0.000    0.000    0.000 interactiveshell.py:3230(compare)\n",
      "        3    0.000    0.000    0.000    0.000 threading.py:506(is_set)\n",
      "\n",
      "\n"
     ]
    }
   ],
   "source": [
    "cprof = cProfile.Profile()\n",
    "cprof.enable()\n",
    "problema = SimplexC.Simplex(c,A,b,problem='Max')\n",
    "method_result, opt, status = problema.solve()\n",
    "cprof.disable()\n",
    "cprof.print_stats(sort='cumtime')"
   ]
  },
  {
   "cell_type": "code",
   "execution_count": 10,
   "metadata": {},
   "outputs": [],
   "source": [
    "import pstats\n",
    "\n",
    "cprof.dump_stats(\"Simplex_stats_cython\")"
   ]
  },
  {
   "cell_type": "code",
   "execution_count": 11,
   "metadata": {},
   "outputs": [
    {
     "name": "stdout",
     "output_type": "stream",
     "text": [
      "Sat May  8 22:40:34 2021    Simplex_stats_cython\n",
      "\n",
      "         284 function calls (282 primitive calls) in 0.001 seconds\n",
      "\n",
      "   Ordered by: cumulative time\n",
      "   List reduced from 78 to 10 due to restriction <10>\n",
      "\n",
      "   ncalls  tottime  percall  cumtime  percall filename:lineno(function)\n",
      "        3    0.000    0.000    0.001    0.000 /usr/local/lib/python3.6/dist-packages/IPython/core/interactiveshell.py:3288(run_code)\n",
      "        3    0.000    0.000    0.001    0.000 {built-in method builtins.exec}\n",
      "        1    0.000    0.000    0.001    0.001 <ipython-input-9-9a4092ce7cfb>:4(<module>)\n",
      "        2    0.000    0.000    0.000    0.000 /usr/local/lib/python3.6/dist-packages/ipykernel/iostream.py:384(write)\n",
      "        3    0.000    0.000    0.000    0.000 /usr/local/lib/python3.6/dist-packages/ipykernel/iostream.py:195(schedule)\n",
      "    16/14    0.000    0.000    0.000    0.000 {built-in method numpy.core._multiarray_umath.implement_array_function}\n",
      "        3    0.000    0.000    0.000    0.000 /usr/local/lib/python3.6/dist-packages/zmq/sugar/socket.py:438(send)\n",
      "        4    0.000    0.000    0.000    0.000 <__array_function__ internals>:2(solve)\n",
      "        4    0.000    0.000    0.000    0.000 /usr/local/lib/python3.6/dist-packages/numpy/linalg/linalg.py:314(solve)\n",
      "        2    0.000    0.000    0.000    0.000 /usr/local/lib/python3.6/dist-packages/numpy/lib/twodim_base.py:152(eye)\n",
      "\n",
      "\n",
      "<pstats.Stats object at 0x7f20c3798c18>\n"
     ]
    }
   ],
   "source": [
    "p_simplex_stats = pstats.Stats(\"Simplex_stats_cython\")\n",
    "print(p_simplex_stats.sort_stats(\"cumulative\").print_stats(10))"
   ]
  },
  {
   "cell_type": "code",
   "execution_count": 12,
   "metadata": {},
   "outputs": [
    {
     "name": "stdout",
     "output_type": "stream",
     "text": [
      "Sat May  8 22:40:34 2021    Simplex_stats_cython\n",
      "\n",
      "         284 function calls (282 primitive calls) in 0.001 seconds\n",
      "\n",
      "   Ordered by: cumulative time\n",
      "   List reduced from 78 to 6 due to restriction <'solve|module'>\n",
      "\n",
      "   ncalls  tottime  percall  cumtime  percall filename:lineno(function)\n",
      "        1    0.000    0.000    0.001    0.001 <ipython-input-9-9a4092ce7cfb>:4(<module>)\n",
      "        4    0.000    0.000    0.000    0.000 <__array_function__ internals>:2(solve)\n",
      "        4    0.000    0.000    0.000    0.000 /usr/local/lib/python3.6/dist-packages/numpy/linalg/linalg.py:314(solve)\n",
      "        1    0.000    0.000    0.000    0.000 <ipython-input-9-9a4092ce7cfb>:3(<module>)\n",
      "        1    0.000    0.000    0.000    0.000 <ipython-input-9-9a4092ce7cfb>:5(<module>)\n",
      "        4    0.000    0.000    0.000    0.000 /usr/local/lib/python3.6/dist-packages/numpy/linalg/linalg.py:310(_solve_dispatcher)\n",
      "\n",
      "\n",
      "<pstats.Stats object at 0x7f20c3798c18>\n"
     ]
    }
   ],
   "source": [
    "print(p_simplex_stats.sort_stats(\"cumulative\").print_stats(\"solve|module\"))"
   ]
  },
  {
   "cell_type": "code",
   "execution_count": 13,
   "metadata": {},
   "outputs": [
    {
     "name": "stdout",
     "output_type": "stream",
     "text": [
      "282\n"
     ]
    }
   ],
   "source": [
    "#numero de llamadas a funciones primitivas\n",
    "print(p_simplex_stats.prim_calls)"
   ]
  },
  {
   "cell_type": "code",
   "execution_count": 14,
   "metadata": {},
   "outputs": [
    {
     "name": "stdout",
     "output_type": "stream",
     "text": [
      "   Ordered by: cumulative time\n",
      "   List reduced from 78 to 10 due to restriction <10>\n",
      "\n",
      "Function                                                                 was called by...\n",
      "                                                                             ncalls  tottime  cumtime\n",
      "interactiveshell.py:3288(run_code)                                       <- \n",
      "{built-in method builtins.exec}                                          <-       3    0.000    0.001  interactiveshell.py:3288(run_code)\n",
      "<ipython-input-9-9a4092ce7cfb>:4(<module>)                               <-       1    0.000    0.001  {built-in method builtins.exec}\n",
      "iostream.py:384(write)                                                   <-       2    0.000    0.000  <ipython-input-9-9a4092ce7cfb>:4(<module>)\n",
      "iostream.py:195(schedule)                                                <-       1    0.000    0.000  iostream.py:321(_schedule_flush)\n",
      "                                                                                  2    0.000    0.000  iostream.py:384(write)\n",
      "{built-in method numpy.core._multiarray_umath.implement_array_function}  <-       1    0.000    0.000  <__array_function__ internals>:2(atleast_1d)\n",
      "                                                                                  1    0.000    0.000  <__array_function__ internals>:2(concatenate)\n",
      "                                                                                  1    0.000    0.000  <__array_function__ internals>:2(copy)\n",
      "                                                                                  6    0.000    0.000  <__array_function__ internals>:2(dot)\n",
      "                                                                                  1    0.000    0.000  <__array_function__ internals>:2(hstack)\n",
      "                                                                                  2    0.000    0.000  <__array_function__ internals>:2(size)\n",
      "                                                                                  4    0.000    0.000  <__array_function__ internals>:2(solve)\n",
      "socket.py:438(send)                                                      <-       3    0.000    0.000  iostream.py:195(schedule)\n",
      "<__array_function__ internals>:2(solve)                                  <-       4    0.000    0.000  <ipython-input-9-9a4092ce7cfb>:4(<module>)\n",
      "linalg.py:314(solve)                                                     <-       4    0.000    0.000  {built-in method numpy.core._multiarray_umath.implement_array_function}\n",
      "twodim_base.py:152(eye)                                                  <-       2    0.000    0.000  <ipython-input-9-9a4092ce7cfb>:4(<module>)\n",
      "\n",
      "\n"
     ]
    },
    {
     "data": {
      "text/plain": [
       "<pstats.Stats at 0x7f20c3798c18>"
      ]
     },
     "execution_count": 14,
     "metadata": {},
     "output_type": "execute_result"
    }
   ],
   "source": [
    "p_simplex_stats.strip_dirs().sort_stats(\"cumulative\").print_callers(10)"
   ]
  },
  {
   "cell_type": "code",
   "execution_count": 15,
   "metadata": {},
   "outputs": [
    {
     "name": "stdout",
     "output_type": "stream",
     "text": [
      "   Ordered by: cumulative time\n",
      "   List reduced from 78 to 5 due to restriction <'print|dot|ndim|solve'>\n",
      "\n",
      "Function                                 called...\n",
      "                                             ncalls  tottime  cumtime\n",
      "<__array_function__ internals>:2(solve)  ->       4    0.000    0.000  linalg.py:310(_solve_dispatcher)\n",
      "                                                  4    0.000    0.000  {built-in method numpy.core._multiarray_umath.implement_array_function}\n",
      "linalg.py:314(solve)                     ->       4    0.000    0.000  linalg.py:102(get_linalg_error_extobj)\n",
      "                                                  8    0.000    0.000  linalg.py:107(_makearray)\n",
      "                                                  4    0.000    0.000  linalg.py:112(isComplexType)\n",
      "                                                  4    0.000    0.000  linalg.py:135(_commonType)\n",
      "                                                  4    0.000    0.000  linalg.py:194(_assert_stacked_2d)\n",
      "                                                  4    0.000    0.000  linalg.py:200(_assert_stacked_square)\n",
      "                                                  4    0.000    0.000  {method '__array_prepare__' of 'numpy.ndarray' objects}\n",
      "                                                  4    0.000    0.000  {method 'astype' of 'numpy.ndarray' objects}\n",
      "<__array_function__ internals>:2(dot)    ->       6    0.000    0.000  multiarray.py:706(dot)\n",
      "                                                  6    0.000    0.000  {built-in method numpy.core._multiarray_umath.implement_array_function}\n",
      "linalg.py:310(_solve_dispatcher)         -> \n",
      "multiarray.py:706(dot)                   -> \n",
      "\n",
      "\n"
     ]
    },
    {
     "data": {
      "text/plain": [
       "<pstats.Stats at 0x7f20c3798c18>"
      ]
     },
     "execution_count": 15,
     "metadata": {},
     "output_type": "execute_result"
    }
   ],
   "source": [
    "p_simplex_stats.strip_dirs().sort_stats(\"cumulative\").print_callees(\"print|dot|ndim|solve\")"
   ]
  }
 ],
 "metadata": {
  "kernelspec": {
   "display_name": "Python 3",
   "language": "python",
   "name": "python3"
  },
  "kubeflow_notebook": {
   "autosnapshot": false,
   "docker_image": "",
   "experiment": {
    "id": "",
    "name": ""
   },
   "experiment_name": "",
   "katib_metadata": {
    "algorithm": {
     "algorithmName": "grid"
    },
    "maxFailedTrialCount": 3,
    "maxTrialCount": 12,
    "objective": {
     "objectiveMetricName": "",
     "type": "minimize"
    },
    "parallelTrialCount": 3,
    "parameters": []
   },
   "katib_run": false,
   "pipeline_description": "",
   "pipeline_name": "",
   "snapshot_volumes": false,
   "steps_defaults": [],
   "volume_access_mode": "rwm",
   "volumes": []
  },
  "language_info": {
   "codemirror_mode": {
    "name": "ipython",
    "version": 3
   },
   "file_extension": ".py",
   "mimetype": "text/x-python",
   "name": "python",
   "nbconvert_exporter": "python",
   "pygments_lexer": "ipython3",
   "version": "3.6.9"
  }
 },
 "nbformat": 4,
 "nbformat_minor": 5
}

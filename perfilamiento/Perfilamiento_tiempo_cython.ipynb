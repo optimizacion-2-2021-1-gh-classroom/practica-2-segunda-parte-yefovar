{
 "cells": [
  {
   "cell_type": "markdown",
   "id": "quality-fusion",
   "metadata": {},
   "source": [
    "# Perfilamiento sobre algoritmo Simplex\n",
    "\n",
    "### 1. Medición de tiempo\n",
    "\n",
    "Características de la instancia que utilizamos para el perfilamiento"
   ]
  },
  {
   "cell_type": "code",
   "execution_count": 18,
   "id": "direct-package",
   "metadata": {},
   "outputs": [
    {
     "name": "stdout",
     "output_type": "stream",
     "text": [
      "Architecture:        x86_64\n",
      "CPU op-mode(s):      32-bit, 64-bit\n",
      "Byte Order:          Little Endian\n",
      "Address sizes:       36 bits physical, 48 bits virtual\n",
      "CPU(s):              8\n",
      "On-line CPU(s) list: 0-7\n",
      "Thread(s) per core:  2\n",
      "Core(s) per socket:  4\n",
      "Socket(s):           1\n",
      "Vendor ID:           GenuineIntel\n",
      "CPU family:          6\n",
      "Model:               142\n",
      "Model name:          Intel(R) Core(TM) i7-8550U CPU @ 1.80GHz\n",
      "Stepping:            10\n",
      "CPU MHz:             1992.000\n",
      "CPU max MHz:         1992.0000\n",
      "BogoMIPS:            3984.00\n",
      "Virtualization:      VT-x\n",
      "Hypervisor vendor:   Windows Subsystem for Linux\n",
      "Virtualization type: container\n",
      "Flags:               fpu vme de pse tsc msr pae mce cx8 apic sep mtrr pge mca cmov pat pse36 clflush dts acpi mmx fxsr sse sse2 ss ht tm pbe syscall nx pdpe1gb rdtscp lm pni pclmulqdq dtes64 monitor ds_cpl vmx est tm2 ssse3 fma cx16 xtpr pdcm pcid sse4_1 sse4_2 x2apic movbe popcnt tsc_deadline_timer aes xsave osxsave avx f16c rdrand lahf_lm abm 3dnowprefetch fsgsbase tsc_adjust bmi1 avx2 smep bmi2 erms invpcid mpx rdseed adx smap clflushopt intel_pt ibrs ibpb stibp ssbd\n"
     ]
    }
   ],
   "source": [
    "%%bash\n",
    "lscpu"
   ]
  },
  {
   "cell_type": "code",
   "execution_count": 19,
   "id": "distant-chapel",
   "metadata": {},
   "outputs": [
    {
     "name": "stderr",
     "output_type": "stream",
     "text": [
      "sudo: a terminal is required to read the password; either use the -S option to read from standard input or configure an askpass helper\n"
     ]
    },
    {
     "ename": "CalledProcessError",
     "evalue": "Command 'b'sudo lshw -C memory\\n'' returned non-zero exit status 1.",
     "output_type": "error",
     "traceback": [
      "\u001b[0;31m---------------------------------------------------------------------------\u001b[0m",
      "\u001b[0;31mCalledProcessError\u001b[0m                        Traceback (most recent call last)",
      "\u001b[0;32m<ipython-input-19-ae6bd34fcc5b>\u001b[0m in \u001b[0;36m<module>\u001b[0;34m\u001b[0m\n\u001b[0;32m----> 1\u001b[0;31m \u001b[0mget_ipython\u001b[0m\u001b[0;34m(\u001b[0m\u001b[0;34m)\u001b[0m\u001b[0;34m.\u001b[0m\u001b[0mrun_cell_magic\u001b[0m\u001b[0;34m(\u001b[0m\u001b[0;34m'bash'\u001b[0m\u001b[0;34m,\u001b[0m \u001b[0;34m''\u001b[0m\u001b[0;34m,\u001b[0m \u001b[0;34m'sudo lshw -C memory\\n'\u001b[0m\u001b[0;34m)\u001b[0m\u001b[0;34m\u001b[0m\u001b[0;34m\u001b[0m\u001b[0m\n\u001b[0m",
      "\u001b[0;32m~/.pyenv/versions/3.9.2/envs/itam/lib/python3.9/site-packages/IPython/core/interactiveshell.py\u001b[0m in \u001b[0;36mrun_cell_magic\u001b[0;34m(self, magic_name, line, cell)\u001b[0m\n\u001b[1;32m   2389\u001b[0m             \u001b[0;32mwith\u001b[0m \u001b[0mself\u001b[0m\u001b[0;34m.\u001b[0m\u001b[0mbuiltin_trap\u001b[0m\u001b[0;34m:\u001b[0m\u001b[0;34m\u001b[0m\u001b[0;34m\u001b[0m\u001b[0m\n\u001b[1;32m   2390\u001b[0m                 \u001b[0margs\u001b[0m \u001b[0;34m=\u001b[0m \u001b[0;34m(\u001b[0m\u001b[0mmagic_arg_s\u001b[0m\u001b[0;34m,\u001b[0m \u001b[0mcell\u001b[0m\u001b[0;34m)\u001b[0m\u001b[0;34m\u001b[0m\u001b[0;34m\u001b[0m\u001b[0m\n\u001b[0;32m-> 2391\u001b[0;31m                 \u001b[0mresult\u001b[0m \u001b[0;34m=\u001b[0m \u001b[0mfn\u001b[0m\u001b[0;34m(\u001b[0m\u001b[0;34m*\u001b[0m\u001b[0margs\u001b[0m\u001b[0;34m,\u001b[0m \u001b[0;34m**\u001b[0m\u001b[0mkwargs\u001b[0m\u001b[0;34m)\u001b[0m\u001b[0;34m\u001b[0m\u001b[0;34m\u001b[0m\u001b[0m\n\u001b[0m\u001b[1;32m   2392\u001b[0m             \u001b[0;32mreturn\u001b[0m \u001b[0mresult\u001b[0m\u001b[0;34m\u001b[0m\u001b[0;34m\u001b[0m\u001b[0m\n\u001b[1;32m   2393\u001b[0m \u001b[0;34m\u001b[0m\u001b[0m\n",
      "\u001b[0;32m~/.pyenv/versions/3.9.2/envs/itam/lib/python3.9/site-packages/IPython/core/magics/script.py\u001b[0m in \u001b[0;36mnamed_script_magic\u001b[0;34m(line, cell)\u001b[0m\n\u001b[1;32m    140\u001b[0m             \u001b[0;32melse\u001b[0m\u001b[0;34m:\u001b[0m\u001b[0;34m\u001b[0m\u001b[0;34m\u001b[0m\u001b[0m\n\u001b[1;32m    141\u001b[0m                 \u001b[0mline\u001b[0m \u001b[0;34m=\u001b[0m \u001b[0mscript\u001b[0m\u001b[0;34m\u001b[0m\u001b[0;34m\u001b[0m\u001b[0m\n\u001b[0;32m--> 142\u001b[0;31m             \u001b[0;32mreturn\u001b[0m \u001b[0mself\u001b[0m\u001b[0;34m.\u001b[0m\u001b[0mshebang\u001b[0m\u001b[0;34m(\u001b[0m\u001b[0mline\u001b[0m\u001b[0;34m,\u001b[0m \u001b[0mcell\u001b[0m\u001b[0;34m)\u001b[0m\u001b[0;34m\u001b[0m\u001b[0;34m\u001b[0m\u001b[0m\n\u001b[0m\u001b[1;32m    143\u001b[0m \u001b[0;34m\u001b[0m\u001b[0m\n\u001b[1;32m    144\u001b[0m         \u001b[0;31m# write a basic docstring:\u001b[0m\u001b[0;34m\u001b[0m\u001b[0;34m\u001b[0m\u001b[0;34m\u001b[0m\u001b[0m\n",
      "\u001b[0;32m<decorator-gen-103>\u001b[0m in \u001b[0;36mshebang\u001b[0;34m(self, line, cell)\u001b[0m\n",
      "\u001b[0;32m~/.pyenv/versions/3.9.2/envs/itam/lib/python3.9/site-packages/IPython/core/magic.py\u001b[0m in \u001b[0;36m<lambda>\u001b[0;34m(f, *a, **k)\u001b[0m\n\u001b[1;32m    185\u001b[0m     \u001b[0;31m# but it's overkill for just that one bit of state.\u001b[0m\u001b[0;34m\u001b[0m\u001b[0;34m\u001b[0m\u001b[0;34m\u001b[0m\u001b[0m\n\u001b[1;32m    186\u001b[0m     \u001b[0;32mdef\u001b[0m \u001b[0mmagic_deco\u001b[0m\u001b[0;34m(\u001b[0m\u001b[0marg\u001b[0m\u001b[0;34m)\u001b[0m\u001b[0;34m:\u001b[0m\u001b[0;34m\u001b[0m\u001b[0;34m\u001b[0m\u001b[0m\n\u001b[0;32m--> 187\u001b[0;31m         \u001b[0mcall\u001b[0m \u001b[0;34m=\u001b[0m \u001b[0;32mlambda\u001b[0m \u001b[0mf\u001b[0m\u001b[0;34m,\u001b[0m \u001b[0;34m*\u001b[0m\u001b[0ma\u001b[0m\u001b[0;34m,\u001b[0m \u001b[0;34m**\u001b[0m\u001b[0mk\u001b[0m\u001b[0;34m:\u001b[0m \u001b[0mf\u001b[0m\u001b[0;34m(\u001b[0m\u001b[0;34m*\u001b[0m\u001b[0ma\u001b[0m\u001b[0;34m,\u001b[0m \u001b[0;34m**\u001b[0m\u001b[0mk\u001b[0m\u001b[0;34m)\u001b[0m\u001b[0;34m\u001b[0m\u001b[0;34m\u001b[0m\u001b[0m\n\u001b[0m\u001b[1;32m    188\u001b[0m \u001b[0;34m\u001b[0m\u001b[0m\n\u001b[1;32m    189\u001b[0m         \u001b[0;32mif\u001b[0m \u001b[0mcallable\u001b[0m\u001b[0;34m(\u001b[0m\u001b[0marg\u001b[0m\u001b[0;34m)\u001b[0m\u001b[0;34m:\u001b[0m\u001b[0;34m\u001b[0m\u001b[0;34m\u001b[0m\u001b[0m\n",
      "\u001b[0;32m~/.pyenv/versions/3.9.2/envs/itam/lib/python3.9/site-packages/IPython/core/magics/script.py\u001b[0m in \u001b[0;36mshebang\u001b[0;34m(self, line, cell)\u001b[0m\n\u001b[1;32m    243\u001b[0m             \u001b[0msys\u001b[0m\u001b[0;34m.\u001b[0m\u001b[0mstderr\u001b[0m\u001b[0;34m.\u001b[0m\u001b[0mflush\u001b[0m\u001b[0;34m(\u001b[0m\u001b[0;34m)\u001b[0m\u001b[0;34m\u001b[0m\u001b[0;34m\u001b[0m\u001b[0m\n\u001b[1;32m    244\u001b[0m         \u001b[0;32mif\u001b[0m \u001b[0margs\u001b[0m\u001b[0;34m.\u001b[0m\u001b[0mraise_error\u001b[0m \u001b[0;32mand\u001b[0m \u001b[0mp\u001b[0m\u001b[0;34m.\u001b[0m\u001b[0mreturncode\u001b[0m\u001b[0;34m!=\u001b[0m\u001b[0;36m0\u001b[0m\u001b[0;34m:\u001b[0m\u001b[0;34m\u001b[0m\u001b[0;34m\u001b[0m\u001b[0m\n\u001b[0;32m--> 245\u001b[0;31m             \u001b[0;32mraise\u001b[0m \u001b[0mCalledProcessError\u001b[0m\u001b[0;34m(\u001b[0m\u001b[0mp\u001b[0m\u001b[0;34m.\u001b[0m\u001b[0mreturncode\u001b[0m\u001b[0;34m,\u001b[0m \u001b[0mcell\u001b[0m\u001b[0;34m,\u001b[0m \u001b[0moutput\u001b[0m\u001b[0;34m=\u001b[0m\u001b[0mout\u001b[0m\u001b[0;34m,\u001b[0m \u001b[0mstderr\u001b[0m\u001b[0;34m=\u001b[0m\u001b[0merr\u001b[0m\u001b[0;34m)\u001b[0m\u001b[0;34m\u001b[0m\u001b[0;34m\u001b[0m\u001b[0m\n\u001b[0m\u001b[1;32m    246\u001b[0m \u001b[0;34m\u001b[0m\u001b[0m\n\u001b[1;32m    247\u001b[0m     \u001b[0;32mdef\u001b[0m \u001b[0m_run_script\u001b[0m\u001b[0;34m(\u001b[0m\u001b[0mself\u001b[0m\u001b[0;34m,\u001b[0m \u001b[0mp\u001b[0m\u001b[0;34m,\u001b[0m \u001b[0mcell\u001b[0m\u001b[0;34m,\u001b[0m \u001b[0mto_close\u001b[0m\u001b[0;34m)\u001b[0m\u001b[0;34m:\u001b[0m\u001b[0;34m\u001b[0m\u001b[0;34m\u001b[0m\u001b[0m\n",
      "\u001b[0;31mCalledProcessError\u001b[0m: Command 'b'sudo lshw -C memory\\n'' returned non-zero exit status 1."
     ]
    }
   ],
   "source": [
    "%%bash\n",
    "sudo lshw -C memory"
   ]
  },
  {
   "cell_type": "code",
   "execution_count": 20,
   "id": "general-baltimore",
   "metadata": {},
   "outputs": [],
   "source": [
    "import math\n",
    "import time\n",
    "import SimplexC\n",
    "import numpy as np\n",
    "#from pytest import approx\n",
    "from scipy.optimize import linprog"
   ]
  },
  {
   "cell_type": "markdown",
   "id": "heavy-phrase",
   "metadata": {},
   "source": [
    "**Módulo time**\n",
    "\n",
    "Ejemplo Maximización para evualuar tiempo de ejecución"
   ]
  },
  {
   "cell_type": "code",
   "execution_count": 21,
   "id": "anonymous-sequence",
   "metadata": {},
   "outputs": [
    {
     "name": "stdout",
     "output_type": "stream",
     "text": [
      "Optimization completed successfully !\n",
      "Solution for x vector:\n",
      "[2.0, 6.0]\n",
      "Optimal value:\n",
      "-36.0\n",
      "Simplex algorithm tomó 0.002106189727783203 segundos\n"
     ]
    }
   ],
   "source": [
    "c = [3, 5]\n",
    "b = [4, 12, 18]\n",
    "A = [[1,  0],\n",
    "    [0,  2],\n",
    "    [3, 2]]\n",
    "\n",
    "start_time = time.time()\n",
    "problema = SimplexC.Simplex(c,A,b,problem='Max')\n",
    "method_result, opt, status = problema.solve()\n",
    "end_time = time.time()\n",
    "secs = end_time-start_time\n",
    "print(\"Simplex algorithm tomó\",secs,\"segundos\" )"
   ]
  },
  {
   "cell_type": "markdown",
   "id": "general-gathering",
   "metadata": {},
   "source": [
    "Con Scipy"
   ]
  },
  {
   "cell_type": "code",
   "execution_count": 22,
   "id": "scientific-newark",
   "metadata": {},
   "outputs": [
    {
     "name": "stdout",
     "output_type": "stream",
     "text": [
      "Scipy  tomó 0.007745981216430664 segundos\n"
     ]
    }
   ],
   "source": [
    "c_scipu=[-3, -5]\n",
    "\n",
    "start_time = time.time()\n",
    "opt = linprog(c=c_scipu, A_ub=A, b_ub=b,\n",
    "              method=\"simplex\")\n",
    "end_time = time.time()\n",
    "secs = end_time-start_time\n",
    "print(\"Scipy  tomó\",secs,\"segundos\" )"
   ]
  },
  {
   "cell_type": "markdown",
   "id": "proud-prevention",
   "metadata": {},
   "source": [
    "Obs. En esta primera parte nos damos cuenta que el algoritmo implementado es un poco más rápido que el de Scipy."
   ]
  },
  {
   "cell_type": "markdown",
   "id": "human-football",
   "metadata": {},
   "source": [
    "**Comando Magic %time**"
   ]
  },
  {
   "cell_type": "code",
   "execution_count": 23,
   "id": "banner-hanging",
   "metadata": {},
   "outputs": [
    {
     "name": "stdout",
     "output_type": "stream",
     "text": [
      "Optimization completed successfully !\n",
      "Solution for x vector:\n",
      "[0, 0]\n",
      "Optimal value:\n",
      "0\n",
      "CPU times: user 0 ns, sys: 0 ns, total: 0 ns\n",
      "Wall time: 884 µs\n"
     ]
    },
    {
     "data": {
      "text/plain": [
       "([0, 0], 0, 0)"
      ]
     },
     "execution_count": 23,
     "metadata": {},
     "output_type": "execute_result"
    }
   ],
   "source": [
    "%time problema.solve()"
   ]
  },
  {
   "cell_type": "markdown",
   "id": "solid-juvenile",
   "metadata": {},
   "source": [
    "**Cprofile**\n",
    "\n",
    "Para poder visualizar en que secciones de código se tarda más"
   ]
  },
  {
   "cell_type": "code",
   "execution_count": 24,
   "id": "informal-salad",
   "metadata": {},
   "outputs": [],
   "source": [
    "import cProfile"
   ]
  },
  {
   "cell_type": "code",
   "execution_count": 25,
   "id": "inappropriate-boating",
   "metadata": {},
   "outputs": [
    {
     "name": "stdout",
     "output_type": "stream",
     "text": [
      "Optimization completed successfully !\n",
      "Solution for x vector:\n",
      "[2.0, 6.0]\n",
      "Optimal value:\n",
      "-36.0\n",
      "         425 function calls in 0.003 seconds\n",
      "\n",
      "   Ordered by: cumulative time\n",
      "\n",
      "   ncalls  tottime  percall  cumtime  percall filename:lineno(function)\n",
      "        3    0.000    0.000    0.002    0.001 interactiveshell.py:3386(run_code)\n",
      "        3    0.000    0.000    0.002    0.001 {built-in method builtins.exec}\n",
      "        1    0.000    0.000    0.002    0.002 <ipython-input-25-9a4092ce7cfb>:4(<module>)\n",
      "       16    0.000    0.000    0.001    0.000 {built-in method numpy.core._multiarray_umath.implement_array_function}\n",
      "       10    0.000    0.000    0.001    0.000 iostream.py:384(write)\n",
      "        4    0.000    0.000    0.001    0.000 <__array_function__ internals>:2(solve)\n",
      "        4    0.000    0.000    0.001    0.000 linalg.py:313(solve)\n",
      "       11    0.000    0.000    0.000    0.000 iostream.py:195(schedule)\n",
      "        1    0.000    0.000    0.000    0.000 index_tricks.py:317(__getitem__)\n",
      "        6    0.000    0.000    0.000    0.000 <__array_function__ internals>:2(dot)\n",
      "        4    0.000    0.000    0.000    0.000 linalg.py:135(_commonType)\n",
      "       11    0.000    0.000    0.000    0.000 threading.py:1093(is_alive)\n",
      "        1    0.000    0.000    0.000    0.000 numerictypes.py:599(find_common_type)\n",
      "        2    0.000    0.000    0.000    0.000 numerictypes.py:575(_can_coerce_all)\n",
      "        3    0.000    0.000    0.000    0.000 codeop.py:142(__call__)\n",
      "        1    0.000    0.000    0.000    0.000 <__array_function__ internals>:2(concatenate)\n",
      "        8    0.000    0.000    0.000    0.000 linalg.py:107(_makearray)\n",
      "       11    0.000    0.000    0.000    0.000 socket.py:438(send)\n",
      "        3    0.000    0.000    0.000    0.000 {built-in method builtins.compile}\n",
      "       10    0.000    0.000    0.000    0.000 iostream.py:308(_is_master_process)\n",
      "       11    0.000    0.000    0.000    0.000 threading.py:1039(_wait_for_tstate_lock)\n",
      "       12    0.000    0.000    0.000    0.000 linalg.py:112(isComplexType)\n",
      "       10    0.000    0.000    0.000    0.000 iostream.py:321(_schedule_flush)\n",
      "        1    0.000    0.000    0.000    0.000 <ipython-input-25-9a4092ce7cfb>:3(<module>)\n",
      "        8    0.000    0.000    0.000    0.000 _asarray.py:23(asarray)\n",
      "        8    0.000    0.000    0.000    0.000 linalg.py:125(_realType)\n",
      "        6    0.000    0.000    0.000    0.000 {built-in method builtins.next}\n",
      "        3    0.000    0.000    0.000    0.000 contextlib.py:242(helper)\n",
      "       11    0.000    0.000    0.000    0.000 {built-in method numpy.array}\n",
      "        1    0.000    0.000    0.000    0.000 <__array_function__ internals>:2(copy)\n",
      "        3    0.000    0.000    0.000    0.000 contextlib.py:121(__exit__)\n",
      "       20    0.000    0.000    0.000    0.000 {built-in method builtins.issubclass}\n",
      "        2    0.000    0.000    0.000    0.000 <__array_function__ internals>:2(size)\n",
      "        3    0.000    0.000    0.000    0.000 contextlib.py:112(__enter__)\n",
      "       18    0.000    0.000    0.000    0.000 {built-in method builtins.isinstance}\n",
      "        2    0.000    0.000    0.000    0.000 _methods.py:59(_all)\n",
      "       10    0.000    0.000    0.000    0.000 {built-in method posix.getpid}\n",
      "        2    0.000    0.000    0.000    0.000 twodim_base.py:156(eye)\n",
      "        2    0.000    0.000    0.000    0.000 <__array_function__ internals>:2(ndim)\n",
      "       14    0.000    0.000    0.000    0.000 numerictypes.py:584(<listcomp>)\n",
      "       14    0.000    0.000    0.000    0.000 {built-in method builtins.getattr}\n",
      "       16    0.000    0.000    0.000    0.000 {built-in method builtins.len}\n",
      "       11    0.000    0.000    0.000    0.000 {method 'acquire' of '_thread.lock' objects}\n",
      "       11    0.000    0.000    0.000    0.000 iostream.py:91(_event_pipe)\n",
      "        3    0.000    0.000    0.000    0.000 contextlib.py:86(__init__)\n",
      "        3    0.000    0.000    0.000    0.000 hooks.py:103(__call__)\n",
      "        2    0.000    0.000    0.000    0.000 {method 'reduce' of 'numpy.ufunc' objects}\n",
      "        3    0.000    0.000    0.000    0.000 traitlets.py:564(__get__)\n",
      "       11    0.000    0.000    0.000    0.000 threading.py:529(is_set)\n",
      "       11    0.000    0.000    0.000    0.000 {method 'append' of 'collections.deque' objects}\n",
      "        1    0.000    0.000    0.000    0.000 function_base.py:715(copy)\n",
      "        4    0.000    0.000    0.000    0.000 {method 'astype' of 'numpy.ndarray' objects}\n",
      "        6    0.000    0.000    0.000    0.000 compilerop.py:138(extra_flags)\n",
      "        8    0.000    0.000    0.000    0.000 {method 'get' of 'dict' objects}\n",
      "        4    0.000    0.000    0.000    0.000 linalg.py:199(_assert_stacked_square)\n",
      "        6    0.000    0.000    0.000    0.000 multiarray.py:716(dot)\n",
      "        4    0.000    0.000    0.000    0.000 linalg.py:102(get_linalg_error_extobj)\n",
      "        4    0.000    0.000    0.000    0.000 linalg.py:193(_assert_stacked_2d)\n",
      "        1    0.000    0.000    0.000    0.000 <ipython-input-25-9a4092ce7cfb>:5(<module>)\n",
      "        2    0.000    0.000    0.000    0.000 {built-in method numpy.zeros}\n",
      "        4    0.000    0.000    0.000    0.000 linalg.py:309(_solve_dispatcher)\n",
      "        4    0.000    0.000    0.000    0.000 {method '__array_prepare__' of 'numpy.ndarray' objects}\n",
      "        3    0.000    0.000    0.000    0.000 interactiveshell.py:3324(compare)\n",
      "        3    0.000    0.000    0.000    0.000 ipstruct.py:125(__getattr__)\n",
      "        3    0.000    0.000    0.000    0.000 traitlets.py:533(get)\n",
      "        4    0.000    0.000    0.000    0.000 {method 'append' of 'list' objects}\n",
      "        2    0.000    0.000    0.000    0.000 fromnumeric.py:3148(size)\n",
      "        3    0.000    0.000    0.000    0.000 interactiveshell.py:1277(user_global_ns)\n",
      "        3    0.000    0.000    0.000    0.000 hooks.py:168(pre_run_code_hook)\n",
      "        2    0.000    0.000    0.000    0.000 fromnumeric.py:3106(ndim)\n",
      "        1    0.000    0.000    0.000    0.000 numerictypes.py:651(<listcomp>)\n",
      "        2    0.000    0.000    0.000    0.000 fromnumeric.py:3144(_size_dispatcher)\n",
      "        2    0.000    0.000    0.000    0.000 fromnumeric.py:3102(_ndim_dispatcher)\n",
      "        1    0.000    0.000    0.000    0.000 function_base.py:711(_copy_dispatcher)\n",
      "        1    0.000    0.000    0.000    0.000 multiarray.py:143(concatenate)\n",
      "        1    0.000    0.000    0.000    0.000 {method 'disable' of '_lsprof.Profiler' objects}\n",
      "        1    0.000    0.000    0.000    0.000 numerictypes.py:652(<listcomp>)\n",
      "\n",
      "\n"
     ]
    }
   ],
   "source": [
    "cprof = cProfile.Profile()\n",
    "cprof.enable()\n",
    "problema = SimplexC.Simplex(c,A,b,problem='Max')\n",
    "method_result, opt, status = problema.solve()\n",
    "cprof.disable()\n",
    "cprof.print_stats(sort='cumtime')"
   ]
  },
  {
   "cell_type": "code",
   "execution_count": 26,
   "id": "owned-campbell",
   "metadata": {},
   "outputs": [],
   "source": [
    "import pstats\n",
    "\n",
    "cprof.dump_stats(\"Simplex_stats_cython\")"
   ]
  },
  {
   "cell_type": "code",
   "execution_count": 27,
   "id": "responsible-northwest",
   "metadata": {},
   "outputs": [
    {
     "name": "stdout",
     "output_type": "stream",
     "text": [
      "Sat May  8 15:56:11 2021    Simplex_stats_cython\n",
      "\n",
      "         425 function calls in 0.003 seconds\n",
      "\n",
      "   Ordered by: cumulative time\n",
      "   List reduced from 77 to 10 due to restriction <10>\n",
      "\n",
      "   ncalls  tottime  percall  cumtime  percall filename:lineno(function)\n",
      "        3    0.000    0.000    0.002    0.001 /home/jreyesgar93/.pyenv/versions/3.9.2/envs/itam/lib/python3.9/site-packages/IPython/core/interactiveshell.py:3386(run_code)\n",
      "        3    0.000    0.000    0.002    0.001 {built-in method builtins.exec}\n",
      "        1    0.000    0.000    0.002    0.002 <ipython-input-25-9a4092ce7cfb>:4(<module>)\n",
      "       16    0.000    0.000    0.001    0.000 {built-in method numpy.core._multiarray_umath.implement_array_function}\n",
      "       10    0.000    0.000    0.001    0.000 /home/jreyesgar93/.pyenv/versions/3.9.2/envs/itam/lib/python3.9/site-packages/ipykernel/iostream.py:384(write)\n",
      "        4    0.000    0.000    0.001    0.000 <__array_function__ internals>:2(solve)\n",
      "        4    0.000    0.000    0.001    0.000 /home/jreyesgar93/.pyenv/versions/3.9.2/envs/itam/lib/python3.9/site-packages/numpy/linalg/linalg.py:313(solve)\n",
      "       11    0.000    0.000    0.000    0.000 /home/jreyesgar93/.pyenv/versions/3.9.2/envs/itam/lib/python3.9/site-packages/ipykernel/iostream.py:195(schedule)\n",
      "        1    0.000    0.000    0.000    0.000 /home/jreyesgar93/.pyenv/versions/3.9.2/envs/itam/lib/python3.9/site-packages/numpy/lib/index_tricks.py:317(__getitem__)\n",
      "        6    0.000    0.000    0.000    0.000 <__array_function__ internals>:2(dot)\n",
      "\n",
      "\n",
      "<pstats.Stats object at 0x7fb3a0938ee0>\n"
     ]
    }
   ],
   "source": [
    "p_simplex_stats = pstats.Stats(\"Simplex_stats_cython\")\n",
    "print(p_simplex_stats.sort_stats(\"cumulative\").print_stats(10))"
   ]
  },
  {
   "cell_type": "code",
   "execution_count": 28,
   "id": "piano-intervention",
   "metadata": {},
   "outputs": [
    {
     "name": "stdout",
     "output_type": "stream",
     "text": [
      "Sat May  8 15:56:11 2021    Simplex_stats_cython\n",
      "\n",
      "         425 function calls in 0.003 seconds\n",
      "\n",
      "   Ordered by: cumulative time\n",
      "   List reduced from 77 to 6 due to restriction <'solve|module'>\n",
      "\n",
      "   ncalls  tottime  percall  cumtime  percall filename:lineno(function)\n",
      "        1    0.000    0.000    0.002    0.002 <ipython-input-25-9a4092ce7cfb>:4(<module>)\n",
      "        4    0.000    0.000    0.001    0.000 <__array_function__ internals>:2(solve)\n",
      "        4    0.000    0.000    0.001    0.000 /home/jreyesgar93/.pyenv/versions/3.9.2/envs/itam/lib/python3.9/site-packages/numpy/linalg/linalg.py:313(solve)\n",
      "        1    0.000    0.000    0.000    0.000 <ipython-input-25-9a4092ce7cfb>:3(<module>)\n",
      "        1    0.000    0.000    0.000    0.000 <ipython-input-25-9a4092ce7cfb>:5(<module>)\n",
      "        4    0.000    0.000    0.000    0.000 /home/jreyesgar93/.pyenv/versions/3.9.2/envs/itam/lib/python3.9/site-packages/numpy/linalg/linalg.py:309(_solve_dispatcher)\n",
      "\n",
      "\n",
      "<pstats.Stats object at 0x7fb3a0938ee0>\n"
     ]
    }
   ],
   "source": [
    "print(p_simplex_stats.sort_stats(\"cumulative\").print_stats(\"solve|module\"))"
   ]
  },
  {
   "cell_type": "code",
   "execution_count": 29,
   "id": "designed-maldives",
   "metadata": {},
   "outputs": [
    {
     "name": "stdout",
     "output_type": "stream",
     "text": [
      "425\n"
     ]
    }
   ],
   "source": [
    "#numero de llamadas a funciones primitivas\n",
    "print(p_simplex_stats.prim_calls)"
   ]
  },
  {
   "cell_type": "code",
   "execution_count": 30,
   "id": "polished-plaintiff",
   "metadata": {},
   "outputs": [
    {
     "name": "stdout",
     "output_type": "stream",
     "text": [
      "   Ordered by: cumulative time\n",
      "   List reduced from 77 to 10 due to restriction <10>\n",
      "\n",
      "Function                                                                 was called by...\n",
      "                                                                             ncalls  tottime  cumtime\n",
      "interactiveshell.py:3386(run_code)                                       <- \n",
      "{built-in method builtins.exec}                                          <-       3    0.000    0.002  interactiveshell.py:3386(run_code)\n",
      "<ipython-input-25-9a4092ce7cfb>:4(<module>)                              <-       1    0.000    0.002  {built-in method builtins.exec}\n",
      "{built-in method numpy.core._multiarray_umath.implement_array_function}  <-       1    0.000    0.000  <__array_function__ internals>:2(concatenate)\n",
      "                                                                                  1    0.000    0.000  <__array_function__ internals>:2(copy)\n",
      "                                                                                  6    0.000    0.000  <__array_function__ internals>:2(dot)\n",
      "                                                                                  2    0.000    0.000  <__array_function__ internals>:2(ndim)\n",
      "                                                                                  2    0.000    0.000  <__array_function__ internals>:2(size)\n",
      "                                                                                  4    0.000    0.001  <__array_function__ internals>:2(solve)\n",
      "iostream.py:384(write)                                                   <-      10    0.000    0.001  <ipython-input-25-9a4092ce7cfb>:4(<module>)\n",
      "<__array_function__ internals>:2(solve)                                  <-       4    0.000    0.001  <ipython-input-25-9a4092ce7cfb>:4(<module>)\n",
      "linalg.py:313(solve)                                                     <-       4    0.000    0.001  {built-in method numpy.core._multiarray_umath.implement_array_function}\n",
      "iostream.py:195(schedule)                                                <-       1    0.000    0.000  iostream.py:321(_schedule_flush)\n",
      "                                                                                 10    0.000    0.000  iostream.py:384(write)\n",
      "index_tricks.py:317(__getitem__)                                         <-       1    0.000    0.000  <ipython-input-25-9a4092ce7cfb>:4(<module>)\n",
      "<__array_function__ internals>:2(dot)                                    <-       6    0.000    0.000  <ipython-input-25-9a4092ce7cfb>:4(<module>)\n",
      "\n",
      "\n"
     ]
    },
    {
     "data": {
      "text/plain": [
       "<pstats.Stats at 0x7fb3a0938ee0>"
      ]
     },
     "execution_count": 30,
     "metadata": {},
     "output_type": "execute_result"
    }
   ],
   "source": [
    "p_simplex_stats.strip_dirs().sort_stats(\"cumulative\").print_callers(10)"
   ]
  },
  {
   "cell_type": "code",
   "execution_count": 31,
   "id": "reserved-personal",
   "metadata": {},
   "outputs": [
    {
     "name": "stdout",
     "output_type": "stream",
     "text": [
      "   Ordered by: cumulative time\n",
      "   List reduced from 77 to 8 due to restriction <'print|dot|ndim|solve'>\n",
      "\n",
      "Function                                 called...\n",
      "                                             ncalls  tottime  cumtime\n",
      "<__array_function__ internals>:2(solve)  ->       4    0.000    0.000  linalg.py:309(_solve_dispatcher)\n",
      "                                                  4    0.000    0.001  {built-in method numpy.core._multiarray_umath.implement_array_function}\n",
      "linalg.py:313(solve)                     ->       4    0.000    0.000  linalg.py:102(get_linalg_error_extobj)\n",
      "                                                  8    0.000    0.000  linalg.py:107(_makearray)\n",
      "                                                  4    0.000    0.000  linalg.py:112(isComplexType)\n",
      "                                                  4    0.000    0.000  linalg.py:135(_commonType)\n",
      "                                                  4    0.000    0.000  linalg.py:193(_assert_stacked_2d)\n",
      "                                                  4    0.000    0.000  linalg.py:199(_assert_stacked_square)\n",
      "                                                  4    0.000    0.000  {method '__array_prepare__' of 'numpy.ndarray' objects}\n",
      "                                                  4    0.000    0.000  {method 'astype' of 'numpy.ndarray' objects}\n",
      "<__array_function__ internals>:2(dot)    ->       6    0.000    0.000  multiarray.py:716(dot)\n",
      "                                                  6    0.000    0.000  {built-in method numpy.core._multiarray_umath.implement_array_function}\n",
      "<__array_function__ internals>:2(ndim)   ->       2    0.000    0.000  fromnumeric.py:3102(_ndim_dispatcher)\n",
      "                                                  2    0.000    0.000  {built-in method numpy.core._multiarray_umath.implement_array_function}\n",
      "multiarray.py:716(dot)                   -> \n",
      "linalg.py:309(_solve_dispatcher)         -> \n",
      "fromnumeric.py:3106(ndim)                -> \n",
      "fromnumeric.py:3102(_ndim_dispatcher)    -> \n",
      "\n",
      "\n"
     ]
    },
    {
     "data": {
      "text/plain": [
       "<pstats.Stats at 0x7fb3a0938ee0>"
      ]
     },
     "execution_count": 31,
     "metadata": {},
     "output_type": "execute_result"
    }
   ],
   "source": [
    "p_simplex_stats.strip_dirs().sort_stats(\"cumulative\").print_callees(\"print|dot|ndim|solve\")"
   ]
  },
  {
   "cell_type": "markdown",
   "id": "unknown-roads",
   "metadata": {},
   "source": [
    "Obs. Se observa que las partes del código que tienen un mayor número de llamadas son\n",
    "\n",
    "* **print**- El cual se utiliza al final del algoritmo para mostrar los valores óptimos \n",
    "* **dot**(producto punto)\n",
    "* **dim** y **size** que se ocupan al principio del algoritmo para saber la longuitud de las matrices a optimizar\n",
    "* **solve**- Este es el que tiene mayor número de llamadas"
   ]
  },
  {
   "cell_type": "markdown",
   "id": "governing-calcium",
   "metadata": {},
   "source": [
    "**Lineprofiler**\n",
    "\n",
    "Para saber línea por línea en que parte nuestro algoritmo se está tardano más en ejecutar"
   ]
  },
  {
   "cell_type": "code",
   "execution_count": 34,
   "id": "amazing-amateur",
   "metadata": {},
   "outputs": [
    {
     "name": "stdout",
     "output_type": "stream",
     "text": [
      "Optimization completed successfully !\n",
      "Solution for x vector:\n",
      "[2.0, 6.0]\n",
      "Optimal value:\n",
      "-36.0\n",
      "([2.0, 6.0], -36.0, 0)\n"
     ]
    }
   ],
   "source": [
    "import line_profiler\n",
    "\n",
    "problema = SimplexC.Simplex(c,A,b,problem='Max')\n",
    "line_prof = line_profiler.LineProfiler()\n",
    "print(line_prof(problema.solve)())"
   ]
  },
  {
   "cell_type": "code",
   "execution_count": 35,
   "id": "lesbian-nickname",
   "metadata": {},
   "outputs": [
    {
     "name": "stdout",
     "output_type": "stream",
     "text": [
      "Timer unit: 1e-06 s\n",
      "\n",
      "Total time: 0 s\n",
      "\n",
      "Could not find file SimplexC/__init__.pyx\n",
      "Are you sure you are running this program from the same directory\n",
      "that you ran the profiler from?\n",
      "Continuing without the function's contents.\n"
     ]
    },
    {
     "ename": "ValueError",
     "evalue": "max() arg is an empty sequence",
     "output_type": "error",
     "traceback": [
      "\u001b[0;31m---------------------------------------------------------------------------\u001b[0m",
      "\u001b[0;31mValueError\u001b[0m                                Traceback (most recent call last)",
      "\u001b[0;32m<ipython-input-35-5ef8d9ea08c2>\u001b[0m in \u001b[0;36m<module>\u001b[0;34m\u001b[0m\n\u001b[0;32m----> 1\u001b[0;31m \u001b[0mprint\u001b[0m\u001b[0;34m(\u001b[0m\u001b[0mline_prof\u001b[0m\u001b[0;34m.\u001b[0m\u001b[0mprint_stats\u001b[0m\u001b[0;34m(\u001b[0m\u001b[0;34m)\u001b[0m\u001b[0;34m)\u001b[0m\u001b[0;34m\u001b[0m\u001b[0;34m\u001b[0m\u001b[0m\n\u001b[0m",
      "\u001b[0;32m~/.pyenv/versions/3.9.2/envs/itam/lib/python3.9/site-packages/line_profiler/line_profiler.py\u001b[0m in \u001b[0;36mprint_stats\u001b[0;34m(self, stream, output_unit, stripzeros)\u001b[0m\n\u001b[1;32m    148\u001b[0m         \"\"\"\n\u001b[1;32m    149\u001b[0m         \u001b[0mlstats\u001b[0m \u001b[0;34m=\u001b[0m \u001b[0mself\u001b[0m\u001b[0;34m.\u001b[0m\u001b[0mget_stats\u001b[0m\u001b[0;34m(\u001b[0m\u001b[0;34m)\u001b[0m\u001b[0;34m\u001b[0m\u001b[0;34m\u001b[0m\u001b[0m\n\u001b[0;32m--> 150\u001b[0;31m         \u001b[0mshow_text\u001b[0m\u001b[0;34m(\u001b[0m\u001b[0mlstats\u001b[0m\u001b[0;34m.\u001b[0m\u001b[0mtimings\u001b[0m\u001b[0;34m,\u001b[0m \u001b[0mlstats\u001b[0m\u001b[0;34m.\u001b[0m\u001b[0munit\u001b[0m\u001b[0;34m,\u001b[0m \u001b[0moutput_unit\u001b[0m\u001b[0;34m=\u001b[0m\u001b[0moutput_unit\u001b[0m\u001b[0;34m,\u001b[0m \u001b[0mstream\u001b[0m\u001b[0;34m=\u001b[0m\u001b[0mstream\u001b[0m\u001b[0;34m,\u001b[0m \u001b[0mstripzeros\u001b[0m\u001b[0;34m=\u001b[0m\u001b[0mstripzeros\u001b[0m\u001b[0;34m)\u001b[0m\u001b[0;34m\u001b[0m\u001b[0;34m\u001b[0m\u001b[0m\n\u001b[0m\u001b[1;32m    151\u001b[0m \u001b[0;34m\u001b[0m\u001b[0m\n\u001b[1;32m    152\u001b[0m     \u001b[0;32mdef\u001b[0m \u001b[0mrun\u001b[0m\u001b[0;34m(\u001b[0m\u001b[0mself\u001b[0m\u001b[0;34m,\u001b[0m \u001b[0mcmd\u001b[0m\u001b[0;34m)\u001b[0m\u001b[0;34m:\u001b[0m\u001b[0;34m\u001b[0m\u001b[0;34m\u001b[0m\u001b[0m\n",
      "\u001b[0;32m~/.pyenv/versions/3.9.2/envs/itam/lib/python3.9/site-packages/line_profiler/line_profiler.py\u001b[0m in \u001b[0;36mshow_text\u001b[0;34m(stats, unit, output_unit, stream, stripzeros)\u001b[0m\n\u001b[1;32m    269\u001b[0m \u001b[0;34m\u001b[0m\u001b[0m\n\u001b[1;32m    270\u001b[0m     \u001b[0;32mfor\u001b[0m \u001b[0;34m(\u001b[0m\u001b[0mfn\u001b[0m\u001b[0;34m,\u001b[0m \u001b[0mlineno\u001b[0m\u001b[0;34m,\u001b[0m \u001b[0mname\u001b[0m\u001b[0;34m)\u001b[0m\u001b[0;34m,\u001b[0m \u001b[0mtimings\u001b[0m \u001b[0;32min\u001b[0m \u001b[0msorted\u001b[0m\u001b[0;34m(\u001b[0m\u001b[0mstats\u001b[0m\u001b[0;34m.\u001b[0m\u001b[0mitems\u001b[0m\u001b[0;34m(\u001b[0m\u001b[0;34m)\u001b[0m\u001b[0;34m)\u001b[0m\u001b[0;34m:\u001b[0m\u001b[0;34m\u001b[0m\u001b[0;34m\u001b[0m\u001b[0m\n\u001b[0;32m--> 271\u001b[0;31m         show_func(fn, lineno, name, stats[fn, lineno, name], unit,\n\u001b[0m\u001b[1;32m    272\u001b[0m             output_unit=output_unit, stream=stream, stripzeros=stripzeros)\n\u001b[1;32m    273\u001b[0m \u001b[0;34m\u001b[0m\u001b[0m\n",
      "\u001b[0;32m~/.pyenv/versions/3.9.2/envs/itam/lib/python3.9/site-packages/line_profiler/line_profiler.py\u001b[0m in \u001b[0;36mshow_func\u001b[0;34m(filename, start_lineno, func_name, timings, unit, output_unit, stream, stripzeros)\u001b[0m\n\u001b[1;32m    233\u001b[0m         \u001b[0mstream\u001b[0m\u001b[0;34m.\u001b[0m\u001b[0mwrite\u001b[0m\u001b[0;34m(\u001b[0m\u001b[0;34m\"Continuing without the function's contents.\\n\"\u001b[0m\u001b[0;34m)\u001b[0m\u001b[0;34m\u001b[0m\u001b[0;34m\u001b[0m\u001b[0m\n\u001b[1;32m    234\u001b[0m         \u001b[0;31m# Fake empty lines so we can see the timings, if not the code.\u001b[0m\u001b[0;34m\u001b[0m\u001b[0;34m\u001b[0m\u001b[0;34m\u001b[0m\u001b[0m\n\u001b[0;32m--> 235\u001b[0;31m         \u001b[0mnlines\u001b[0m \u001b[0;34m=\u001b[0m \u001b[0mmax\u001b[0m\u001b[0;34m(\u001b[0m\u001b[0mlinenos\u001b[0m\u001b[0;34m)\u001b[0m \u001b[0;34m-\u001b[0m \u001b[0mmin\u001b[0m\u001b[0;34m(\u001b[0m\u001b[0mmin\u001b[0m\u001b[0;34m(\u001b[0m\u001b[0mlinenos\u001b[0m\u001b[0;34m)\u001b[0m\u001b[0;34m,\u001b[0m \u001b[0mstart_lineno\u001b[0m\u001b[0;34m)\u001b[0m \u001b[0;34m+\u001b[0m \u001b[0;36m1\u001b[0m\u001b[0;34m\u001b[0m\u001b[0;34m\u001b[0m\u001b[0m\n\u001b[0m\u001b[1;32m    236\u001b[0m         \u001b[0msublines\u001b[0m \u001b[0;34m=\u001b[0m \u001b[0;34m[\u001b[0m\u001b[0;34m''\u001b[0m\u001b[0;34m]\u001b[0m \u001b[0;34m*\u001b[0m \u001b[0mnlines\u001b[0m\u001b[0;34m\u001b[0m\u001b[0;34m\u001b[0m\u001b[0m\n\u001b[1;32m    237\u001b[0m     \u001b[0;32mfor\u001b[0m \u001b[0mlineno\u001b[0m\u001b[0;34m,\u001b[0m \u001b[0mnhits\u001b[0m\u001b[0;34m,\u001b[0m \u001b[0mtime\u001b[0m \u001b[0;32min\u001b[0m \u001b[0mtimings\u001b[0m\u001b[0;34m:\u001b[0m\u001b[0;34m\u001b[0m\u001b[0;34m\u001b[0m\u001b[0m\n",
      "\u001b[0;31mValueError\u001b[0m: max() arg is an empty sequence"
     ]
    }
   ],
   "source": [
    "print(line_prof.print_stats())"
   ]
  },
  {
   "cell_type": "markdown",
   "id": "opposed-crawford",
   "metadata": {},
   "source": []
  }
 ],
 "metadata": {
  "kernelspec": {
   "display_name": "Python 3",
   "language": "python",
   "name": "python3"
  },
  "kubeflow_notebook": {
   "autosnapshot": false,
   "docker_image": "",
   "experiment": {
    "id": "",
    "name": ""
   },
   "experiment_name": "",
   "katib_metadata": {
    "algorithm": {
     "algorithmName": "grid"
    },
    "maxFailedTrialCount": 3,
    "maxTrialCount": 12,
    "objective": {
     "objectiveMetricName": "",
     "type": "minimize"
    },
    "parallelTrialCount": 3,
    "parameters": []
   },
   "katib_run": false,
   "pipeline_description": "",
   "pipeline_name": "",
   "snapshot_volumes": false,
   "steps_defaults": [],
   "volume_access_mode": "rwm",
   "volumes": []
  },
  "language_info": {
   "codemirror_mode": {
    "name": "ipython",
    "version": 3
   },
   "file_extension": ".py",
   "mimetype": "text/x-python",
   "name": "python",
   "nbconvert_exporter": "python",
   "pygments_lexer": "ipython3",
   "version": "3.9.2"
  }
 },
 "nbformat": 4,
 "nbformat_minor": 5
}

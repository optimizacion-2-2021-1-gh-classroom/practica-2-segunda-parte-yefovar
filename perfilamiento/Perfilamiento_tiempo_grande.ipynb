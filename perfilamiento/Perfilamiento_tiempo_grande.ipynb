{
 "cells": [
  {
   "cell_type": "markdown",
   "id": "7b03c1cb",
   "metadata": {},
   "source": [
    "# Perfilamiento sobre algoritmo Simplex\n",
    "\n",
    "### 1. Medición de tiempo\n",
    "\n",
    "Características de la instancia que utilizamos para el perfilamiento"
   ]
  },
  {
   "cell_type": "code",
   "execution_count": 1,
   "id": "9564af38",
   "metadata": {},
   "outputs": [
    {
     "name": "stdout",
     "output_type": "stream",
     "text": [
      "Architecture:        x86_64\n",
      "CPU op-mode(s):      32-bit, 64-bit\n",
      "Byte Order:          Little Endian\n",
      "CPU(s):              8\n",
      "On-line CPU(s) list: 0-7\n",
      "Thread(s) per core:  2\n",
      "Core(s) per socket:  4\n",
      "Socket(s):           1\n",
      "NUMA node(s):        1\n",
      "Vendor ID:           GenuineIntel\n",
      "CPU family:          6\n",
      "Model:               63\n",
      "Model name:          Intel(R) Xeon(R) CPU @ 2.30GHz\n",
      "Stepping:            0\n",
      "CPU MHz:             2299.998\n",
      "BogoMIPS:            4599.99\n",
      "Hypervisor vendor:   KVM\n",
      "Virtualization type: full\n",
      "L1d cache:           32K\n",
      "L1i cache:           32K\n",
      "L2 cache:            256K\n",
      "L3 cache:            46080K\n",
      "NUMA node0 CPU(s):   0-7\n",
      "Flags:               fpu vme de pse tsc msr pae mce cx8 apic sep mtrr pge mca cmov pat pse36 clflush mmx fxsr sse sse2 ss ht syscall nx pdpe1gb rdtscp lm constant_tsc rep_good nopl xtopology nonstop_tsc cpuid tsc_known_freq pni pclmulqdq ssse3 fma cx16 pcid sse4_1 sse4_2 x2apic movbe popcnt aes xsave avx f16c rdrand hypervisor lahf_lm abm invpcid_single pti ssbd ibrs ibpb stibp fsgsbase tsc_adjust bmi1 avx2 smep bmi2 erms invpcid xsaveopt arat md_clear arch_capabilities\n"
     ]
    }
   ],
   "source": [
    "%%bash\n",
    "lscpu"
   ]
  },
  {
   "cell_type": "code",
   "execution_count": 2,
   "id": "fb426d84",
   "metadata": {},
   "outputs": [],
   "source": [
    "#%%bash\n",
    "#sudo lshw -C memory"
   ]
  },
  {
   "cell_type": "code",
   "execution_count": 3,
   "id": "74f73a08",
   "metadata": {},
   "outputs": [],
   "source": [
    "import math\n",
    "import time\n",
    "from versiones import Simplex_v0\n",
    "import numpy as np\n",
    "from pytest import approx\n",
    "from scipy.optimize import linprog\n",
    "from pytest import approx"
   ]
  },
  {
   "cell_type": "markdown",
   "id": "50aad240",
   "metadata": {},
   "source": [
    "### Módulo time\n",
    "\n",
    "Ejemplo Maximización para evualuar tiempo de ejecución"
   ]
  },
  {
   "cell_type": "code",
   "execution_count": 4,
   "id": "85a6f602",
   "metadata": {},
   "outputs": [],
   "source": [
    "import random\n",
    "\n",
    "def listaAleatorios(n,m):\n",
    "      lista = [0]  * n\n",
    "      for i in range(n):\n",
    "          lista[i] = random.randint(0, m)\n",
    "      return lista"
   ]
  },
  {
   "cell_type": "code",
   "execution_count": 5,
   "id": "24a7e24a",
   "metadata": {},
   "outputs": [],
   "source": [
    "n=9000\n",
    "m=100"
   ]
  },
  {
   "cell_type": "code",
   "execution_count": 6,
   "id": "63756b89",
   "metadata": {},
   "outputs": [],
   "source": [
    "c=listaAleatorios(n,1)\n",
    "b=listaAleatorios(m,1)\n",
    "A_=listaAleatorios(n*m,1)\n",
    "A=np.resize(np.array(A_),(m,n))"
   ]
  },
  {
   "cell_type": "code",
   "execution_count": null,
   "id": "f13c8eb7",
   "metadata": {},
   "outputs": [],
   "source": [
    "start_time = time.time()\n",
    "problema = Simplex_v0.Simplex(c,A,b,problem='Max')\n",
    "method_result, opt, status = problema.solve()\n",
    "end_time = time.time()\n",
    "secs = end_time-start_time\n",
    "print(\"Simplex algorithm tomó\",secs,\"segundos\" )"
   ]
  },
  {
   "cell_type": "markdown",
   "id": "afa6f971",
   "metadata": {},
   "source": [
    "Con Scipy"
   ]
  },
  {
   "cell_type": "code",
   "execution_count": null,
   "id": "f79dd065",
   "metadata": {},
   "outputs": [],
   "source": [
    "c_scipu=[ -x for x in c]\n",
    "\n",
    "start_time = time.time()\n",
    "opt = linprog(c=c_scipu, A_ub=A, b_ub=b,\n",
    "              method=\"simplex\")\n",
    "end_time = time.time()\n",
    "secs = end_time-start_time\n",
    "print(\"Scipy  tomó\",secs,\"segundos\" )"
   ]
  },
  {
   "cell_type": "markdown",
   "id": "3298d008",
   "metadata": {},
   "source": [
    "Obs. En esta primera parte nos damos cuenta que el algoritmo implementado es un poco más rápido que el de Scipy."
   ]
  },
  {
   "cell_type": "code",
   "execution_count": null,
   "id": "e8969bb9",
   "metadata": {},
   "outputs": [],
   "source": [
    "method_result== approx(opt.x, abs=1e-6, rel=1e-6)"
   ]
  },
  {
   "cell_type": "markdown",
   "id": "a9dfa44d",
   "metadata": {},
   "source": [
    "### Comando Magic %time"
   ]
  },
  {
   "cell_type": "code",
   "execution_count": null,
   "id": "175bd935",
   "metadata": {},
   "outputs": [],
   "source": [
    "%time problema.solve()"
   ]
  },
  {
   "cell_type": "markdown",
   "id": "42b2bdd9",
   "metadata": {},
   "source": [
    "### Cprofile\n",
    "\n",
    "Para poder visualizar en que secciones de código se tarda más"
   ]
  },
  {
   "cell_type": "code",
   "execution_count": null,
   "id": "85e46958",
   "metadata": {},
   "outputs": [],
   "source": [
    "import cProfile"
   ]
  },
  {
   "cell_type": "code",
   "execution_count": null,
   "id": "7b389947",
   "metadata": {},
   "outputs": [],
   "source": [
    "cprof = cProfile.Profile()\n",
    "cprof.enable()\n",
    "problema = Simplex_v0.Simplex(c,A,b,problem='Max')\n",
    "method_result, opt, status = problema.solve()\n",
    "cprof.disable()\n",
    "cprof.print_stats(sort='cumtime')"
   ]
  },
  {
   "cell_type": "code",
   "execution_count": null,
   "id": "0a37ba62",
   "metadata": {},
   "outputs": [],
   "source": [
    "import pstats\n",
    "\n",
    "cprof.dump_stats(\"Simplex_stats\")"
   ]
  },
  {
   "cell_type": "code",
   "execution_count": null,
   "id": "aadd9ad2",
   "metadata": {},
   "outputs": [],
   "source": [
    "p_simplex_stats = pstats.Stats(\"Simplex_stats\")\n",
    "print(p_simplex_stats.sort_stats(\"cumulative\").print_stats(10))"
   ]
  },
  {
   "cell_type": "code",
   "execution_count": null,
   "id": "4d410c91",
   "metadata": {},
   "outputs": [],
   "source": [
    "print(p_simplex_stats.sort_stats(\"cumulative\").print_stats(\"solve|module\"))"
   ]
  },
  {
   "cell_type": "code",
   "execution_count": null,
   "id": "6b4cc8da",
   "metadata": {},
   "outputs": [],
   "source": [
    "#numero de llamadas a funciones primitivas\n",
    "print(p_simplex_stats.prim_calls)"
   ]
  },
  {
   "cell_type": "code",
   "execution_count": null,
   "id": "ecb99f0e",
   "metadata": {},
   "outputs": [],
   "source": [
    "p_simplex_stats.strip_dirs().sort_stats(\"cumulative\").print_callers(10)"
   ]
  },
  {
   "cell_type": "code",
   "execution_count": null,
   "id": "ba25cc25",
   "metadata": {},
   "outputs": [],
   "source": [
    "p_simplex_stats.strip_dirs().sort_stats(\"cumulative\").print_callees(\"print|dot|ndim|solve\")"
   ]
  },
  {
   "cell_type": "markdown",
   "id": "a092d7b5",
   "metadata": {},
   "source": [
    "Obs. Se observa que las partes del código que tienen un mayor número de llamadas son\n",
    "\n",
    "* **print**- El cual se utiliza al final del algoritmo para mostrar los valores óptimos \n",
    "* **dot**(producto punto)\n",
    "* **dim** y **size** que se ocupan al principio del algoritmo para saber la longuitud de las matrices a optimizar\n",
    "* **solve**- Este es el que tiene mayor número de llamadas"
   ]
  },
  {
   "cell_type": "markdown",
   "id": "cd483e53",
   "metadata": {},
   "source": [
    "### Lineprofiler\n",
    "\n",
    "Para saber línea por línea en que parte nuestro algoritmo se está tardano más en ejecutar"
   ]
  },
  {
   "cell_type": "code",
   "execution_count": null,
   "id": "389a12fc",
   "metadata": {},
   "outputs": [],
   "source": [
    "import line_profiler\n",
    "\n",
    "problema = Simplex_v0.Simplex(c,A,b,problem='Max')\n",
    "line_prof = line_profiler.LineProfiler()\n",
    "print(line_prof(problema.solve)())"
   ]
  },
  {
   "cell_type": "code",
   "execution_count": null,
   "id": "87989b94",
   "metadata": {},
   "outputs": [],
   "source": [
    "print(line_prof.print_stats())"
   ]
  },
  {
   "cell_type": "markdown",
   "id": "3739330a",
   "metadata": {},
   "source": [
    "De acuerdo a las estadísticas resultantes con line profiler se tienen 7 líneas en el código que tienen un porcentaje elevado de tiempo en ejecución:\n",
    "* Línea 64 - `A = np.c_[A,identity_A]` que es la parte que construye la matriz completa A al agregar la identidad por las variables de holgura\n",
    "* Línea 81 - `lista.append (-lambda_ + np.dot(nu, A[:, N_list_idx[i]]))` para crear la lista de las lambas a evaluar en el método\n",
    "* Línea 88 - ` d = np.linalg.solve(B, A[:,idx_x_N]) ` para la solución del problema de ecuaciones\n",
    "* Línea 97 -  `if np.isnan(lista2).all() == True:`para evular una solución *ounbounded*\n",
    "* Línea 117 - `nu = np.linalg.solve(B.T, c_B)`solución del problema de ecuaciones\n",
    "* Línea 137 - `print(\"Optimization completed successfully !\") `para imprimir si la optimización fue correcta\n",
    "\n",
    "\n",
    "Respecto a las demás líneas, lo que decidimos mejorar fue la línea 63 con otra función de Pyhton: `np.hstack`  y evaluar los resultados.\n",
    "\n",
    "**Modificando la línea 63 con la funcion `np.hstack`**"
   ]
  },
  {
   "cell_type": "code",
   "execution_count": null,
   "id": "f8389c82",
   "metadata": {},
   "outputs": [],
   "source": [
    "import line_profiler\n",
    "from versiones import Simplex_v0_1\n",
    "\n",
    "problema = Simplex_v0_1.Simplex(c,A,b,problem='Max')\n",
    "line_prof = line_profiler.LineProfiler()\n",
    "print(line_prof(problema.solve)())"
   ]
  },
  {
   "cell_type": "code",
   "execution_count": null,
   "id": "d395eeb6",
   "metadata": {},
   "outputs": [],
   "source": [
    "print(line_prof.print_stats())"
   ]
  },
  {
   "cell_type": "markdown",
   "id": "fe874c04",
   "metadata": {
    "tags": []
   },
   "source": [
    "Como se puede observar en las estadísticas de arriba la línea 64 si mejora bastante en las 3 columnas : Time, Per Hit y % Time. Con lo cual se logró reducir el % de tiempo de ejecución, se pasó de 11  a  5.9.\n",
    "\n",
    "Donde la línea que ocupa más recursos es la 137, únicamente se llama una vez a esa parte del código pero sabemos que los print siempre son computacionalmente costosos, por lo cual podríamos considerar eliminarlo o solo realizar la impresión si el usuario lo desea con un **verbose**. \n",
    "\n",
    "**Agregando un `verbose` para los prints de la solución**"
   ]
  },
  {
   "cell_type": "code",
   "execution_count": null,
   "id": "8faaf460",
   "metadata": {},
   "outputs": [],
   "source": [
    "import line_profiler\n",
    "import Simplex\n",
    "\n",
    "problema = Simplex.Simplex(c,A,b,problem='Max')\n",
    "line_prof = line_profiler.LineProfiler()\n",
    "print(line_prof(problema.solve)())"
   ]
  },
  {
   "cell_type": "code",
   "execution_count": null,
   "id": "bc66520c",
   "metadata": {},
   "outputs": [],
   "source": [
    "#Con verbose=True\n",
    "problema = Simplex.Simplex(c,A,b,problem='Max', verbose=True)\n",
    "line_prof = line_profiler.LineProfiler()\n",
    "print(line_prof(problema.solve)())"
   ]
  },
  {
   "cell_type": "markdown",
   "id": "bbca87bf",
   "metadata": {
    "tags": []
   },
   "source": [
    "Evaluado en `line_profiler` con las modificaciones"
   ]
  },
  {
   "cell_type": "code",
   "execution_count": null,
   "id": "74843abd",
   "metadata": {},
   "outputs": [],
   "source": [
    "problema = Simplex.Simplex(c,A,b,problem='Max')\n",
    "line_prof = line_profiler.LineProfiler()\n",
    "print(line_prof(problema.solve)())"
   ]
  },
  {
   "cell_type": "code",
   "execution_count": null,
   "id": "4e95ad1d",
   "metadata": {},
   "outputs": [],
   "source": [
    "print(line_prof.print_stats())"
   ]
  },
  {
   "cell_type": "markdown",
   "id": "083f75ae",
   "metadata": {
    "tags": []
   },
   "source": [
    "De acuerdo a los últimos estadísticos de con la nueva versión del paquete logramos reducir el tiempo que por default acumulaba el print anterior de la solución, ahora le dejamos al usuarios que si desea ver los print's en la ejecución lo haga poniendo el parámetro `verbose=True`, de otra manera podría acceder a los valores simplemente imprimiendo : x_result, opt y status.\n",
    "\n",
    "**Evalaución del tiempo en segundos con `time` con el último algoritmo:**"
   ]
  },
  {
   "cell_type": "code",
   "execution_count": null,
   "id": "5ef64829",
   "metadata": {},
   "outputs": [],
   "source": [
    "start_time = time.time()\n",
    "problema = Simplex.Simplex(c,A,b,problem='Max')\n",
    "method_result, opt, status = problema.solve()\n",
    "end_time = time.time()\n",
    "secs = end_time-start_time\n",
    "print(\"Simplex algorithm tomó\",secs,\"segundos\" )"
   ]
  },
  {
   "cell_type": "code",
   "execution_count": null,
   "id": "ad8f9d42",
   "metadata": {},
   "outputs": [],
   "source": [
    "#Versión anterior v0\n",
    "start_time = time.time()\n",
    "problema = Simplex_v0.Simplex(c,A,b,problem='Max')\n",
    "method_result, opt, status = problema.solve()\n",
    "end_time = time.time()\n",
    "secs = end_time-start_time\n",
    "print(\"Simplex algorithm tomó\",secs,\"segundos\" )"
   ]
  },
  {
   "cell_type": "markdown",
   "id": "9d4bc94d",
   "metadata": {
    "tags": []
   },
   "source": [
    "Conclusión:\n",
    "\n",
    "Si logramos mejorar el tiempo de ejecución del algoritmo y realmente comparado con nuestro benchamark de \"Scipy\" tiene un buen desempeño en tiempo."
   ]
  }
 ],
 "metadata": {
  "kernelspec": {
   "display_name": "Python 3",
   "language": "python",
   "name": "python3"
  },
  "kubeflow_notebook": {
   "autosnapshot": false,
   "docker_image": "",
   "experiment": {
    "id": "",
    "name": ""
   },
   "experiment_name": "",
   "katib_metadata": {
    "algorithm": {
     "algorithmName": "grid"
    },
    "maxFailedTrialCount": 3,
    "maxTrialCount": 12,
    "objective": {
     "objectiveMetricName": "",
     "type": "minimize"
    },
    "parallelTrialCount": 3,
    "parameters": []
   },
   "katib_run": false,
   "pipeline_description": "",
   "pipeline_name": "",
   "snapshot_volumes": false,
   "steps_defaults": [],
   "volume_access_mode": "rwm",
   "volumes": []
  },
  "language_info": {
   "codemirror_mode": {
    "name": "ipython",
    "version": 3
   },
   "file_extension": ".py",
   "mimetype": "text/x-python",
   "name": "python",
   "nbconvert_exporter": "python",
   "pygments_lexer": "ipython3",
   "version": "3.6.9"
  }
 },
 "nbformat": 4,
 "nbformat_minor": 5
}

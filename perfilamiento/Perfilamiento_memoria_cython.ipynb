{
 "cells": [
  {
   "cell_type": "markdown",
   "metadata": {},
   "source": [
    "# Perfilamiento sobre algoritmo Simplex con Blas\n",
    "\n",
    "### 1. Medición de memoria\n",
    "\n",
    "Características de la instancia que utilizamos para el perfilamiento"
   ]
  },
  {
   "cell_type": "code",
   "execution_count": 15,
   "metadata": {},
   "outputs": [
    {
     "name": "stdout",
     "output_type": "stream",
     "text": [
      "Architecture:        x86_64\n",
      "CPU op-mode(s):      32-bit, 64-bit\n",
      "Byte Order:          Little Endian\n",
      "CPU(s):              8\n",
      "On-line CPU(s) list: 0-7\n",
      "Thread(s) per core:  2\n",
      "Core(s) per socket:  4\n",
      "Socket(s):           1\n",
      "NUMA node(s):        1\n",
      "Vendor ID:           GenuineIntel\n",
      "CPU family:          6\n",
      "Model:               85\n",
      "Model name:          Intel(R) Xeon(R) Platinum 8175M CPU @ 2.50GHz\n",
      "Stepping:            4\n",
      "CPU MHz:             3099.986\n",
      "BogoMIPS:            5000.00\n",
      "Hypervisor vendor:   KVM\n",
      "Virtualization type: full\n",
      "L1d cache:           32K\n",
      "L1i cache:           32K\n",
      "L2 cache:            1024K\n",
      "L3 cache:            33792K\n",
      "NUMA node0 CPU(s):   0-7\n",
      "Flags:               fpu vme de pse tsc msr pae mce cx8 apic sep mtrr pge mca cmov pat pse36 clflush mmx fxsr sse sse2 ss ht syscall nx pdpe1gb rdtscp lm constant_tsc rep_good nopl xtopology nonstop_tsc cpuid aperfmperf tsc_known_freq pni pclmulqdq ssse3 fma cx16 pcid sse4_1 sse4_2 x2apic movbe popcnt tsc_deadline_timer aes xsave avx f16c rdrand hypervisor lahf_lm abm 3dnowprefetch invpcid_single pti fsgsbase tsc_adjust bmi1 hle avx2 smep bmi2 erms invpcid rtm mpx avx512f avx512dq rdseed adx smap clflushopt clwb avx512cd avx512bw avx512vl xsaveopt xsavec xgetbv1 xsaves ida arat pku ospke\n"
     ]
    }
   ],
   "source": [
    "%%bash\n",
    "lscpu"
   ]
  },
  {
   "cell_type": "code",
   "execution_count": 16,
   "metadata": {},
   "outputs": [
    {
     "name": "stdout",
     "output_type": "stream",
     "text": [
      "  *-memory\n",
      "       description: System memory\n",
      "       physical id: 0\n",
      "       size: 30GiB\n"
     ]
    }
   ],
   "source": [
    "%%bash\n",
    "sudo lshw -C memory"
   ]
  },
  {
   "cell_type": "markdown",
   "metadata": {
    "tags": []
   },
   "source": [
    "### memory_profiler"
   ]
  },
  {
   "cell_type": "markdown",
   "metadata": {
    "tags": []
   },
   "source": [
    "#### Versión 1"
   ]
  },
  {
   "cell_type": "code",
   "execution_count": 17,
   "metadata": {},
   "outputs": [],
   "source": [
    "from memory_profiler import memory_usage\n",
    "import SimplexC"
   ]
  },
  {
   "cell_type": "code",
   "execution_count": 18,
   "metadata": {},
   "outputs": [
    {
     "name": "stdout",
     "output_type": "stream",
     "text": [
      "Solution for x vector, optimization value and status:\n",
      "Solution for x vector, optimization value and status:\n",
      "Solution for x vector, optimization value and status:\n",
      "Solution for x vector, optimization value and status:\n",
      "Solution for x vector, optimization value and status:\n",
      "Solution for x vector, optimization value and status:\n",
      "Solution for x vector, optimization value and status:\n",
      "start mem 62.875\n",
      "max mem 62.87890625\n",
      "used mem 0.00390625\n",
      "fun output ([0, 0], 0, 0)\n"
     ]
    }
   ],
   "source": [
    "c = [3, 5]\n",
    "b = [4, 12, 18]\n",
    "A = [[1,  0],\n",
    "    [0,  2],\n",
    "    [3, 2]]\n",
    "\n",
    "problema = SimplexC.Simplex(c,A,b,problem='Max')\n",
    "t = (problema.solve)\n",
    "\n",
    "start_mem = memory_usage(max_usage=True)\n",
    "res = memory_usage(t, max_usage=True, retval=True)\n",
    "print('start mem', start_mem)\n",
    "print('max mem', res[0])\n",
    "print('used mem', res[0]-start_mem)\n",
    "print('fun output', res[1])"
   ]
  },
  {
   "cell_type": "code",
   "execution_count": 19,
   "metadata": {},
   "outputs": [
    {
     "name": "stdout",
     "output_type": "stream",
     "text": [
      "Solution for x vector, optimization value and status:\n",
      "Solution for x vector, optimization value and status:\n",
      "Solution for x vector, optimization value and status:\n",
      "Solution for x vector, optimization value and status:\n",
      "Solution for x vector, optimization value and status:\n",
      "Solution for x vector, optimization value and status:\n",
      "Solution for x vector, optimization value and status:\n",
      "start mem 62.87890625\n",
      "max mem 62.87890625\n",
      "used mem 0.0\n",
      "fun output ([0, 0], 0, 0)\n"
     ]
    }
   ],
   "source": [
    "c = [3, 5]\n",
    "b = [4, 12, 18]\n",
    "A = [[1,  0],\n",
    "    [0,  2],\n",
    "    [3, 2]]\n",
    "\n",
    "problema = SimplexC.Simplex(c,A,b,problem='Max')\n",
    "t = (problema.solve)\n",
    "\n",
    "start_mem = memory_usage(max_usage=True)\n",
    "res = memory_usage(t, max_usage=True, retval=True)\n",
    "print('start mem', start_mem)\n",
    "print('max mem', res[0])\n",
    "print('used mem', res[0]-start_mem)\n",
    "print('fun output', res[1])"
   ]
  },
  {
   "cell_type": "markdown",
   "metadata": {
    "tags": []
   },
   "source": [
    "### Decorador profiler"
   ]
  },
  {
   "cell_type": "code",
   "execution_count": 20,
   "metadata": {},
   "outputs": [
    {
     "name": "stdout",
     "output_type": "stream",
     "text": [
      "The memory_profiler extension is already loaded. To reload it, use:\n",
      "  %reload_ext memory_profiler\n"
     ]
    }
   ],
   "source": [
    "%load_ext memory_profiler"
   ]
  },
  {
   "cell_type": "code",
   "execution_count": 21,
   "metadata": {},
   "outputs": [
    {
     "name": "stdout",
     "output_type": "stream",
     "text": [
      "peak memory: 62.89 MiB, increment: 0.01 MiB\n"
     ]
    }
   ],
   "source": [
    "%memit #how much RAM this process is consuming"
   ]
  },
  {
   "cell_type": "code",
   "execution_count": 22,
   "metadata": {},
   "outputs": [
    {
     "name": "stdout",
     "output_type": "stream",
     "text": [
      "Solution for x vector, optimization value and status:\n",
      "Solution for x vector, optimization value and status:\n",
      "Solution for x vector, optimization value and status:\n",
      "Solution for x vector, optimization value and status:\n",
      "Solution for x vector, optimization value and status:\n",
      "Solution for x vector, optimization value and status:\n",
      "Solution for x vector, optimization value and status:\n",
      "peak memory: 110.78 MiB, increment: 47.89 MiB\n"
     ]
    }
   ],
   "source": [
    "c = [3, 5]\n",
    "b = [4, 12, 18]\n",
    "A = [[1,  0],\n",
    "    [0,  2],\n",
    "    [3, 2]]\n",
    "\n",
    "problema = SimplexC.Simplex(c,A,b,problem='Max')\n",
    "%memit -c problema.solve()"
   ]
  },
  {
   "cell_type": "code",
   "execution_count": 23,
   "metadata": {},
   "outputs": [
    {
     "name": "stdout",
     "output_type": "stream",
     "text": [
      "Solution for x vector, optimization value and status:\n",
      "Solution for x vector, optimization value and status:\n",
      "Solution for x vector, optimization value and status:\n",
      "Solution for x vector, optimization value and status:\n",
      "Solution for x vector, optimization value and status:\n",
      "Solution for x vector, optimization value and status:\n",
      "Solution for x vector, optimization value and status:\n",
      "peak memory: 110.71 MiB, increment: 47.82 MiB\n"
     ]
    }
   ],
   "source": [
    "c = [3, 5]\n",
    "b = [4, 12, 18]\n",
    "A = [[1,  0],\n",
    "    [0,  2],\n",
    "    [3, 2]]\n",
    "\n",
    "problema = SimplexC.Simplex(c,A,b,problem='Max')\n",
    "%memit -c problema.solve()"
   ]
  }
 ],
 "metadata": {
  "kernelspec": {
   "display_name": "Python 3",
   "language": "python",
   "name": "python3"
  },
  "kubeflow_notebook": {
   "autosnapshot": false,
   "docker_image": "",
   "experiment": {
    "id": "",
    "name": ""
   },
   "experiment_name": "",
   "katib_metadata": {
    "algorithm": {
     "algorithmName": "grid"
    },
    "maxFailedTrialCount": 3,
    "maxTrialCount": 12,
    "objective": {
     "objectiveMetricName": "",
     "type": "minimize"
    },
    "parallelTrialCount": 3,
    "parameters": []
   },
   "katib_run": false,
   "pipeline_description": "",
   "pipeline_name": "",
   "snapshot_volumes": false,
   "steps_defaults": [],
   "volume_access_mode": "rwm",
   "volumes": []
  },
  "language_info": {
   "codemirror_mode": {
    "name": "ipython",
    "version": 3
   },
   "file_extension": ".py",
   "mimetype": "text/x-python",
   "name": "python",
   "nbconvert_exporter": "python",
   "pygments_lexer": "ipython3",
   "version": "3.6.9"
  }
 },
 "nbformat": 4,
 "nbformat_minor": 5
}

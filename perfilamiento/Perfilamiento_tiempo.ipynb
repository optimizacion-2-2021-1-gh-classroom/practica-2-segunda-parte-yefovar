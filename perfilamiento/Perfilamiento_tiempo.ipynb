{
 "cells": [
  {
   "cell_type": "markdown",
   "id": "2ddfa0fb",
   "metadata": {},
   "source": [
    "# Perfilamiento sobre algoritmo Simplex\n",
    "\n",
    "### 1. Medición de tiempo\n",
    "\n",
    "Características de la instancia que utilizamos para el perfilamiento"
   ]
  },
  {
   "cell_type": "code",
   "execution_count": 1,
   "id": "e4500133",
   "metadata": {},
   "outputs": [
    {
     "name": "stdout",
     "output_type": "stream",
     "text": [
      "Architecture:                    x86_64\n",
      "CPU op-mode(s):                  32-bit, 64-bit\n",
      "Byte Order:                      Little Endian\n",
      "Address sizes:                   46 bits physical, 48 bits virtual\n",
      "CPU(s):                          4\n",
      "On-line CPU(s) list:             0-3\n",
      "Thread(s) per core:              2\n",
      "Core(s) per socket:              2\n",
      "Socket(s):                       1\n",
      "NUMA node(s):                    1\n",
      "Vendor ID:                       GenuineIntel\n",
      "CPU family:                      6\n",
      "Model:                           79\n",
      "Model name:                      Intel(R) Xeon(R) CPU E5-2686 v4 @ 2.30GHz\n",
      "Stepping:                        1\n",
      "CPU MHz:                         2300.060\n",
      "BogoMIPS:                        4600.19\n",
      "Hypervisor vendor:               Xen\n",
      "Virtualization type:             full\n",
      "L1d cache:                       64 KiB\n",
      "L1i cache:                       64 KiB\n",
      "L2 cache:                        512 KiB\n",
      "L3 cache:                        45 MiB\n",
      "NUMA node0 CPU(s):               0-3\n",
      "Vulnerability Itlb multihit:     KVM: Vulnerable\n",
      "Vulnerability L1tf:              Mitigation; PTE Inversion\n",
      "Vulnerability Mds:               Vulnerable: Clear CPU buffers attempted, no microcode; SMT Host state unknown\n",
      "Vulnerability Meltdown:          Mitigation; PTI\n",
      "Vulnerability Spec store bypass: Vulnerable\n",
      "Vulnerability Spectre v1:        Mitigation; usercopy/swapgs barriers and __user pointer sanitization\n",
      "Vulnerability Spectre v2:        Mitigation; Full generic retpoline, STIBP disabled, RSB filling\n",
      "Vulnerability Srbds:             Not affected\n",
      "Vulnerability Tsx async abort:   Not affected\n",
      "Flags:                           fpu vme de pse tsc msr pae mce cx8 apic sep mtrr pge mca cmov pat pse36 clflush mmx fxsr sse sse2 ht syscall nx pdpe1gb rdtscp lm constant_tsc rep_good nopl xtopology cpuid pni pclmulqdq ssse3 fma cx16 pcid sse4_1 sse4_2 x2apic movbe popcnt tsc_deadline_timer aes xsave avx f16c rdrand hypervisor lahf_lm abm cpuid_fault invpcid_single pti fsgsbase bmi1 avx2 smep bmi2 erms invpcid xsaveopt\n"
     ]
    }
   ],
   "source": [
    "%%bash\n",
    "lscpu"
   ]
  },
  {
   "cell_type": "code",
   "execution_count": 2,
   "id": "cf0ec390",
   "metadata": {},
   "outputs": [
    {
     "name": "stdout",
     "output_type": "stream",
     "text": [
      "  *-firmware\n",
      "       description: BIOS\n",
      "       vendor: Xen\n",
      "       physical id: 0\n",
      "       version: 4.2.amazon\n",
      "       date: 08/24/2006\n",
      "       size: 96KiB\n",
      "       capabilities: pci edd\n",
      "  *-memory\n",
      "       description: System Memory\n",
      "       physical id: 1000\n",
      "       size: 16GiB\n",
      "       capabilities: ecc\n",
      "       configuration: errordetection=multi-bit-ecc\n",
      "     *-bank\n",
      "          description: DIMM RAM\n",
      "          physical id: 0\n",
      "          slot: DIMM 0\n",
      "          size: 16GiB\n",
      "          width: 64 bits\n"
     ]
    }
   ],
   "source": [
    "%%bash\n",
    "sudo lshw -C memory"
   ]
  },
  {
   "cell_type": "code",
   "execution_count": 3,
   "id": "0ec86802",
   "metadata": {},
   "outputs": [],
   "source": [
    "import math\n",
    "import time\n",
    "import Simplex as Simplex\n",
    "import numpy as np\n",
    "from pytest import approx\n",
    "from scipy.optimize import linprog"
   ]
  },
  {
   "cell_type": "markdown",
   "id": "7e4aef98",
   "metadata": {},
   "source": [
    "**Módulo time**\n",
    "\n",
    "Ejemplo Maximización para evualuar tiempo de ejecución"
   ]
  },
  {
   "cell_type": "code",
   "execution_count": 4,
   "id": "74fe0954",
   "metadata": {},
   "outputs": [
    {
     "name": "stdout",
     "output_type": "stream",
     "text": [
      "Optimization completed successfully !\n",
      "Solution for x vector:\n",
      "[2.0, 6.0]\n",
      "Optimal value:\n",
      "-36.0\n",
      "Simplex algorithm tomó 0.0018892288208007812 segundos\n"
     ]
    }
   ],
   "source": [
    "c = [3, 5]\n",
    "b = [4, 12, 18]\n",
    "A = [[1,  0],\n",
    "    [0,  2],\n",
    "    [3, 2]]\n",
    "\n",
    "start_time = time.time()\n",
    "problema = Simplex.Simplex(c,A,b,problem='Max')\n",
    "method_result, opt, status = problema.solve()\n",
    "end_time = time.time()\n",
    "secs = end_time-start_time\n",
    "print(\"Simplex algorithm tomó\",secs,\"segundos\" )"
   ]
  },
  {
   "cell_type": "markdown",
   "id": "dfbd12fb",
   "metadata": {},
   "source": [
    "Con Scipy"
   ]
  },
  {
   "cell_type": "code",
   "execution_count": 5,
   "id": "cce97340",
   "metadata": {},
   "outputs": [
    {
     "name": "stdout",
     "output_type": "stream",
     "text": [
      "Scipy  tomó 0.004729032516479492 segundos\n"
     ]
    }
   ],
   "source": [
    "c_scipu=[-3, -5]\n",
    "\n",
    "start_time = time.time()\n",
    "opt = linprog(c=c_scipu, A_ub=A, b_ub=b,\n",
    "              method=\"simplex\")\n",
    "end_time = time.time()\n",
    "secs = end_time-start_time\n",
    "print(\"Scipy  tomó\",secs,\"segundos\" )"
   ]
  },
  {
   "cell_type": "markdown",
   "id": "8df048f3",
   "metadata": {},
   "source": [
    "Obs. En esta primera parte nos damos cuenta que el algoritmo implementado es un poco más rápido que el de Scipy."
   ]
  },
  {
   "cell_type": "markdown",
   "id": "9b68f8e2",
   "metadata": {},
   "source": [
    "**Comando Magic %time**"
   ]
  },
  {
   "cell_type": "code",
   "execution_count": 6,
   "id": "d9b65cb0",
   "metadata": {},
   "outputs": [
    {
     "name": "stdout",
     "output_type": "stream",
     "text": [
      "Optimization completed successfully !\n",
      "Solution for x vector:\n",
      "[0, 0]\n",
      "Optimal value:\n",
      "0\n",
      "CPU times: user 727 µs, sys: 227 µs, total: 954 µs\n",
      "Wall time: 610 µs\n"
     ]
    },
    {
     "data": {
      "text/plain": [
       "([0, 0], 0, 0)"
      ]
     },
     "execution_count": 6,
     "metadata": {},
     "output_type": "execute_result"
    }
   ],
   "source": [
    "%time problema.solve()"
   ]
  },
  {
   "cell_type": "markdown",
   "id": "5ceeb379",
   "metadata": {},
   "source": [
    "**Cprofile**\n",
    "\n",
    "Para poder visualizar en que secciones de código se tarda más"
   ]
  },
  {
   "cell_type": "code",
   "execution_count": 7,
   "id": "cd7377ef",
   "metadata": {},
   "outputs": [],
   "source": [
    "import cProfile"
   ]
  },
  {
   "cell_type": "code",
   "execution_count": 8,
   "id": "21a4393a",
   "metadata": {},
   "outputs": [
    {
     "name": "stdout",
     "output_type": "stream",
     "text": [
      "Optimization completed successfully !\n",
      "Solution for x vector:\n",
      "[2.0, 6.0]\n",
      "Optimal value:\n",
      "-36.0\n",
      "         473 function calls in 0.002 seconds\n",
      "\n",
      "   Ordered by: cumulative time\n",
      "\n",
      "   ncalls  tottime  percall  cumtime  percall filename:lineno(function)\n",
      "        3    0.000    0.000    0.002    0.001 interactiveshell.py:3400(run_code)\n",
      "        3    0.000    0.000    0.002    0.001 {built-in method builtins.exec}\n",
      "        1    0.000    0.000    0.002    0.002 <ipython-input-8-de806f07ed56>:4(<module>)\n",
      "        1    0.000    0.000    0.002    0.002 Simplex.py:44(solve)\n",
      "       16    0.000    0.000    0.001    0.000 {built-in method numpy.core._multiarray_umath.implement_array_function}\n",
      "        5    0.000    0.000    0.000    0.000 {built-in method builtins.print}\n",
      "       10    0.000    0.000    0.000    0.000 iostream.py:384(write)\n",
      "        1    0.000    0.000    0.000    0.000 index_tricks.py:317(__getitem__)\n",
      "        4    0.000    0.000    0.000    0.000 <__array_function__ internals>:2(solve)\n",
      "        4    0.000    0.000    0.000    0.000 linalg.py:313(solve)\n",
      "       11    0.000    0.000    0.000    0.000 iostream.py:195(schedule)\n",
      "        1    0.000    0.000    0.000    0.000 <__array_function__ internals>:2(concatenate)\n",
      "       11    0.000    0.000    0.000    0.000 socket.py:438(send)\n",
      "        6    0.000    0.000    0.000    0.000 <__array_function__ internals>:2(dot)\n",
      "        1    0.000    0.000    0.000    0.000 numerictypes.py:599(find_common_type)\n",
      "        4    0.000    0.000    0.000    0.000 linalg.py:135(_commonType)\n",
      "        3    0.000    0.000    0.000    0.000 codeop.py:140(__call__)\n",
      "       11    0.000    0.000    0.000    0.000 threading.py:1071(is_alive)\n",
      "        2    0.000    0.000    0.000    0.000 numerictypes.py:575(_can_coerce_all)\n",
      "        3    0.000    0.000    0.000    0.000 {built-in method builtins.compile}\n",
      "       16    0.000    0.000    0.000    0.000 {built-in method numpy.array}\n",
      "        1    0.000    0.000    0.000    0.000 <ipython-input-8-de806f07ed56>:3(<module>)\n",
      "        8    0.000    0.000    0.000    0.000 linalg.py:107(_makearray)\n",
      "        1    0.000    0.000    0.000    0.000 Simplex.py:9(__init__)\n",
      "       10    0.000    0.000    0.000    0.000 iostream.py:321(_schedule_flush)\n",
      "        1    0.000    0.000    0.000    0.000 <__array_function__ internals>:2(copy)\n",
      "       11    0.000    0.000    0.000    0.000 threading.py:1017(_wait_for_tstate_lock)\n",
      "       10    0.000    0.000    0.000    0.000 iostream.py:308(_is_master_process)\n",
      "        2    0.000    0.000    0.000    0.000 {method 'all' of 'numpy.ndarray' objects}\n",
      "       12    0.000    0.000    0.000    0.000 linalg.py:112(isComplexType)\n",
      "        2    0.000    0.000    0.000    0.000 _methods.py:59(_all)\n",
      "        8    0.000    0.000    0.000    0.000 _asarray.py:23(asarray)\n",
      "        1    0.000    0.000    0.000    0.000 function_base.py:715(copy)\n",
      "        2    0.000    0.000    0.000    0.000 twodim_base.py:156(eye)\n",
      "        8    0.000    0.000    0.000    0.000 linalg.py:125(_realType)\n",
      "        2    0.000    0.000    0.000    0.000 {method 'reduce' of 'numpy.ufunc' objects}\n",
      "        2    0.000    0.000    0.000    0.000 <__array_function__ internals>:2(size)\n",
      "        6    0.000    0.000    0.000    0.000 {built-in method builtins.next}\n",
      "        3    0.000    0.000    0.000    0.000 contextlib.py:238(helper)\n",
      "        3    0.000    0.000    0.000    0.000 contextlib.py:117(__exit__)\n",
      "        5    0.000    0.000    0.000    0.000 {built-in method numpy.zeros}\n",
      "        3    0.000    0.000    0.000    0.000 contextlib.py:108(__enter__)\n",
      "       23    0.000    0.000    0.000    0.000 {built-in method builtins.len}\n",
      "       11    0.000    0.000    0.000    0.000 {method 'acquire' of '_thread.lock' objects}\n",
      "       10    0.000    0.000    0.000    0.000 {built-in method posix.getpid}\n",
      "        2    0.000    0.000    0.000    0.000 <__array_function__ internals>:2(ndim)\n",
      "       14    0.000    0.000    0.000    0.000 numerictypes.py:584(<listcomp>)\n",
      "       20    0.000    0.000    0.000    0.000 {built-in method builtins.issubclass}\n",
      "       18    0.000    0.000    0.000    0.000 {method 'append' of 'list' objects}\n",
      "       18    0.000    0.000    0.000    0.000 {built-in method builtins.isinstance}\n",
      "       14    0.000    0.000    0.000    0.000 {built-in method builtins.getattr}\n",
      "        3    0.000    0.000    0.000    0.000 contextlib.py:82(__init__)\n",
      "        4    0.000    0.000    0.000    0.000 {method 'astype' of 'numpy.ndarray' objects}\n",
      "       11    0.000    0.000    0.000    0.000 iostream.py:91(_event_pipe)\n",
      "        3    0.000    0.000    0.000    0.000 traitlets.py:564(__get__)\n",
      "        3    0.000    0.000    0.000    0.000 hooks.py:103(__call__)\n",
      "        2    0.000    0.000    0.000    0.000 {built-in method builtins.min}\n",
      "        6    0.000    0.000    0.000    0.000 compilerop.py:166(extra_flags)\n",
      "       11    0.000    0.000    0.000    0.000 threading.py:513(is_set)\n",
      "       11    0.000    0.000    0.000    0.000 {method 'append' of 'collections.deque' objects}\n",
      "        3    0.000    0.000    0.000    0.000 {built-in method builtins.max}\n",
      "        4    0.000    0.000    0.000    0.000 linalg.py:199(_assert_stacked_square)\n",
      "        4    0.000    0.000    0.000    0.000 linalg.py:102(get_linalg_error_extobj)\n",
      "        4    0.000    0.000    0.000    0.000 linalg.py:193(_assert_stacked_2d)\n",
      "        8    0.000    0.000    0.000    0.000 {method 'get' of 'dict' objects}\n",
      "        5    0.000    0.000    0.000    0.000 {method 'index' of 'list' objects}\n",
      "        6    0.000    0.000    0.000    0.000 multiarray.py:716(dot)\n",
      "        2    0.000    0.000    0.000    0.000 fromnumeric.py:3148(size)\n",
      "        1    0.000    0.000    0.000    0.000 <ipython-input-8-de806f07ed56>:5(<module>)\n",
      "        3    0.000    0.000    0.000    0.000 interactiveshell.py:3338(compare)\n",
      "        4    0.000    0.000    0.000    0.000 linalg.py:309(_solve_dispatcher)\n",
      "        3    0.000    0.000    0.000    0.000 traitlets.py:533(get)\n",
      "        4    0.000    0.000    0.000    0.000 {method '__array_prepare__' of 'numpy.ndarray' objects}\n",
      "        3    0.000    0.000    0.000    0.000 ipstruct.py:125(__getattr__)\n",
      "        1    0.000    0.000    0.000    0.000 numerictypes.py:651(<listcomp>)\n",
      "        3    0.000    0.000    0.000    0.000 interactiveshell.py:1278(user_global_ns)\n",
      "        2    0.000    0.000    0.000    0.000 fromnumeric.py:3106(ndim)\n",
      "        3    0.000    0.000    0.000    0.000 hooks.py:168(pre_run_code_hook)\n",
      "        2    0.000    0.000    0.000    0.000 fromnumeric.py:3144(_size_dispatcher)\n",
      "        2    0.000    0.000    0.000    0.000 fromnumeric.py:3102(_ndim_dispatcher)\n",
      "        1    0.000    0.000    0.000    0.000 function_base.py:711(_copy_dispatcher)\n",
      "        1    0.000    0.000    0.000    0.000 multiarray.py:143(concatenate)\n",
      "        1    0.000    0.000    0.000    0.000 {method 'disable' of '_lsprof.Profiler' objects}\n",
      "        1    0.000    0.000    0.000    0.000 numerictypes.py:652(<listcomp>)\n",
      "\n",
      "\n"
     ]
    }
   ],
   "source": [
    "cprof = cProfile.Profile()\n",
    "cprof.enable()\n",
    "problema = Simplex.Simplex(c,A,b,problem='Max')\n",
    "method_result, opt, status = problema.solve()\n",
    "cprof.disable()\n",
    "cprof.print_stats(sort='cumtime')"
   ]
  },
  {
   "cell_type": "code",
   "execution_count": 9,
   "id": "faa630fe",
   "metadata": {},
   "outputs": [],
   "source": [
    "import pstats\n",
    "\n",
    "cprof.dump_stats(\"Simplex_stats\")"
   ]
  },
  {
   "cell_type": "code",
   "execution_count": 10,
   "id": "66d414fd",
   "metadata": {},
   "outputs": [
    {
     "name": "stdout",
     "output_type": "stream",
     "text": [
      "Sat May  8 02:59:10 2021    Simplex_stats\n",
      "\n",
      "         473 function calls in 0.002 seconds\n",
      "\n",
      "   Ordered by: cumulative time\n",
      "   List reduced from 84 to 10 due to restriction <10>\n",
      "\n",
      "   ncalls  tottime  percall  cumtime  percall filename:lineno(function)\n",
      "        3    0.000    0.000    0.002    0.001 /home/ubuntu/.local/lib/python3.8/site-packages/IPython/core/interactiveshell.py:3400(run_code)\n",
      "        3    0.000    0.000    0.002    0.001 {built-in method builtins.exec}\n",
      "        1    0.000    0.000    0.002    0.002 <ipython-input-8-de806f07ed56>:4(<module>)\n",
      "        1    0.000    0.000    0.002    0.002 /home/ubuntu/Simplex.py:44(solve)\n",
      "       16    0.000    0.000    0.001    0.000 {built-in method numpy.core._multiarray_umath.implement_array_function}\n",
      "        5    0.000    0.000    0.000    0.000 {built-in method builtins.print}\n",
      "       10    0.000    0.000    0.000    0.000 /home/ubuntu/.local/lib/python3.8/site-packages/ipykernel/iostream.py:384(write)\n",
      "        1    0.000    0.000    0.000    0.000 /home/ubuntu/.local/lib/python3.8/site-packages/numpy/lib/index_tricks.py:317(__getitem__)\n",
      "        4    0.000    0.000    0.000    0.000 <__array_function__ internals>:2(solve)\n",
      "        4    0.000    0.000    0.000    0.000 /home/ubuntu/.local/lib/python3.8/site-packages/numpy/linalg/linalg.py:313(solve)\n",
      "\n",
      "\n",
      "<pstats.Stats object at 0x7f6963dec310>\n"
     ]
    }
   ],
   "source": [
    "p_simplex_stats = pstats.Stats(\"Simplex_stats\")\n",
    "print(p_simplex_stats.sort_stats(\"cumulative\").print_stats(10))"
   ]
  },
  {
   "cell_type": "code",
   "execution_count": 11,
   "id": "f9aa7b05",
   "metadata": {},
   "outputs": [
    {
     "name": "stdout",
     "output_type": "stream",
     "text": [
      "Sat May  8 02:59:10 2021    Simplex_stats\n",
      "\n",
      "         473 function calls in 0.002 seconds\n",
      "\n",
      "   Ordered by: cumulative time\n",
      "   List reduced from 84 to 7 due to restriction <'solve|module'>\n",
      "\n",
      "   ncalls  tottime  percall  cumtime  percall filename:lineno(function)\n",
      "        1    0.000    0.000    0.002    0.002 <ipython-input-8-de806f07ed56>:4(<module>)\n",
      "        1    0.000    0.000    0.002    0.002 /home/ubuntu/Simplex.py:44(solve)\n",
      "        4    0.000    0.000    0.000    0.000 <__array_function__ internals>:2(solve)\n",
      "        4    0.000    0.000    0.000    0.000 /home/ubuntu/.local/lib/python3.8/site-packages/numpy/linalg/linalg.py:313(solve)\n",
      "        1    0.000    0.000    0.000    0.000 <ipython-input-8-de806f07ed56>:3(<module>)\n",
      "        1    0.000    0.000    0.000    0.000 <ipython-input-8-de806f07ed56>:5(<module>)\n",
      "        4    0.000    0.000    0.000    0.000 /home/ubuntu/.local/lib/python3.8/site-packages/numpy/linalg/linalg.py:309(_solve_dispatcher)\n",
      "\n",
      "\n",
      "<pstats.Stats object at 0x7f6963dec310>\n"
     ]
    }
   ],
   "source": [
    "print(p_simplex_stats.sort_stats(\"cumulative\").print_stats(\"solve|module\"))"
   ]
  },
  {
   "cell_type": "code",
   "execution_count": 12,
   "id": "b6e38b82",
   "metadata": {},
   "outputs": [
    {
     "name": "stdout",
     "output_type": "stream",
     "text": [
      "473\n"
     ]
    }
   ],
   "source": [
    "#numero de llamadas a funciones primitivas\n",
    "print(p_simplex_stats.prim_calls)"
   ]
  },
  {
   "cell_type": "code",
   "execution_count": 13,
   "id": "158365ef",
   "metadata": {},
   "outputs": [
    {
     "name": "stdout",
     "output_type": "stream",
     "text": [
      "   Ordered by: cumulative time\n",
      "   List reduced from 84 to 10 due to restriction <10>\n",
      "\n",
      "Function                                                                 was called by...\n",
      "                                                                             ncalls  tottime  cumtime\n",
      "interactiveshell.py:3400(run_code)                                       <- \n",
      "{built-in method builtins.exec}                                          <-       3    0.000    0.002  interactiveshell.py:3400(run_code)\n",
      "<ipython-input-8-de806f07ed56>:4(<module>)                               <-       1    0.000    0.002  {built-in method builtins.exec}\n",
      "Simplex.py:44(solve)                                                     <-       1    0.000    0.002  <ipython-input-8-de806f07ed56>:4(<module>)\n",
      "{built-in method numpy.core._multiarray_umath.implement_array_function}  <-       1    0.000    0.000  <__array_function__ internals>:2(concatenate)\n",
      "                                                                                  1    0.000    0.000  <__array_function__ internals>:2(copy)\n",
      "                                                                                  6    0.000    0.000  <__array_function__ internals>:2(dot)\n",
      "                                                                                  2    0.000    0.000  <__array_function__ internals>:2(ndim)\n",
      "                                                                                  2    0.000    0.000  <__array_function__ internals>:2(size)\n",
      "                                                                                  4    0.000    0.000  <__array_function__ internals>:2(solve)\n",
      "{built-in method builtins.print}                                         <-       5    0.000    0.000  Simplex.py:44(solve)\n",
      "iostream.py:384(write)                                                   <-      10    0.000    0.000  {built-in method builtins.print}\n",
      "index_tricks.py:317(__getitem__)                                         <-       1    0.000    0.000  Simplex.py:44(solve)\n",
      "<__array_function__ internals>:2(solve)                                  <-       4    0.000    0.000  Simplex.py:44(solve)\n",
      "linalg.py:313(solve)                                                     <-       4    0.000    0.000  {built-in method numpy.core._multiarray_umath.implement_array_function}\n",
      "\n",
      "\n"
     ]
    },
    {
     "data": {
      "text/plain": [
       "<pstats.Stats at 0x7f6963dec310>"
      ]
     },
     "execution_count": 13,
     "metadata": {},
     "output_type": "execute_result"
    }
   ],
   "source": [
    "p_simplex_stats.strip_dirs().sort_stats(\"cumulative\").print_callers(10)"
   ]
  },
  {
   "cell_type": "code",
   "execution_count": 14,
   "id": "fcd35546",
   "metadata": {},
   "outputs": [
    {
     "name": "stdout",
     "output_type": "stream",
     "text": [
      "   Ordered by: cumulative time\n",
      "   List reduced from 84 to 10 due to restriction <'print|dot|ndim|solve'>\n",
      "\n",
      "Function                                 called...\n",
      "                                             ncalls  tottime  cumtime\n",
      "Simplex.py:44(solve)                     ->       1    0.000    0.000  <__array_function__ internals>:2(copy)\n",
      "                                                  6    0.000    0.000  <__array_function__ internals>:2(dot)\n",
      "                                                  2    0.000    0.000  <__array_function__ internals>:2(size)\n",
      "                                                  4    0.000    0.000  <__array_function__ internals>:2(solve)\n",
      "                                                  1    0.000    0.000  index_tricks.py:317(__getitem__)\n",
      "                                                  2    0.000    0.000  twodim_base.py:156(eye)\n",
      "                                                  7    0.000    0.000  {built-in method builtins.len}\n",
      "                                                  3    0.000    0.000  {built-in method builtins.max}\n",
      "                                                  2    0.000    0.000  {built-in method builtins.min}\n",
      "                                                  5    0.000    0.000  {built-in method builtins.print}\n",
      "                                                  2    0.000    0.000  {built-in method numpy.array}\n",
      "                                                  2    0.000    0.000  {built-in method numpy.zeros}\n",
      "                                                  2    0.000    0.000  {method 'all' of 'numpy.ndarray' objects}\n",
      "                                                 14    0.000    0.000  {method 'append' of 'list' objects}\n",
      "                                                  5    0.000    0.000  {method 'index' of 'list' objects}\n",
      "{built-in method builtins.print}         ->      10    0.000    0.000  iostream.py:384(write)\n",
      "<__array_function__ internals>:2(solve)  ->       4    0.000    0.000  linalg.py:309(_solve_dispatcher)\n",
      "                                                  4    0.000    0.000  {built-in method numpy.core._multiarray_umath.implement_array_function}\n",
      "linalg.py:313(solve)                     ->       4    0.000    0.000  linalg.py:102(get_linalg_error_extobj)\n",
      "                                                  8    0.000    0.000  linalg.py:107(_makearray)\n",
      "                                                  4    0.000    0.000  linalg.py:112(isComplexType)\n",
      "                                                  4    0.000    0.000  linalg.py:135(_commonType)\n",
      "                                                  4    0.000    0.000  linalg.py:193(_assert_stacked_2d)\n",
      "                                                  4    0.000    0.000  linalg.py:199(_assert_stacked_square)\n",
      "                                                  4    0.000    0.000  {method '__array_prepare__' of 'numpy.ndarray' objects}\n",
      "                                                  4    0.000    0.000  {method 'astype' of 'numpy.ndarray' objects}\n",
      "<__array_function__ internals>:2(dot)    ->       6    0.000    0.000  multiarray.py:716(dot)\n",
      "                                                  6    0.000    0.000  {built-in method numpy.core._multiarray_umath.implement_array_function}\n",
      "<__array_function__ internals>:2(ndim)   ->       2    0.000    0.000  fromnumeric.py:3102(_ndim_dispatcher)\n",
      "                                                  2    0.000    0.000  {built-in method numpy.core._multiarray_umath.implement_array_function}\n",
      "multiarray.py:716(dot)                   -> \n",
      "linalg.py:309(_solve_dispatcher)         -> \n",
      "fromnumeric.py:3106(ndim)                -> \n",
      "fromnumeric.py:3102(_ndim_dispatcher)    -> \n",
      "\n",
      "\n"
     ]
    },
    {
     "data": {
      "text/plain": [
       "<pstats.Stats at 0x7f6963dec310>"
      ]
     },
     "execution_count": 14,
     "metadata": {},
     "output_type": "execute_result"
    }
   ],
   "source": [
    "p_simplex_stats.strip_dirs().sort_stats(\"cumulative\").print_callees(\"print|dot|ndim|solve\")"
   ]
  },
  {
   "cell_type": "markdown",
   "id": "d7b5bcf7",
   "metadata": {},
   "source": [
    "Obs. Se observa que las partes del código que tienen un mayor número de llamadas son\n",
    "\n",
    "* **print**- El cual se utiliza al final del algoritmo para mostrar los valores óptimos \n",
    "* **dot**(producto punto)\n",
    "* **dim** y **size** que se ocupan al principio del algoritmo para saber la longuitud de las matrices a optimizar\n",
    "* **solve**- Este es el que tiene mayor número de llamadas"
   ]
  },
  {
   "cell_type": "markdown",
   "id": "8199e453",
   "metadata": {},
   "source": [
    "**Lineprofiler**\n",
    "\n",
    "Para saber línea por línea en que parte nuestro algoritmo se está tardano más en ejecutar"
   ]
  },
  {
   "cell_type": "code",
   "execution_count": 15,
   "id": "d82a3f39",
   "metadata": {},
   "outputs": [
    {
     "name": "stdout",
     "output_type": "stream",
     "text": [
      "Optimization completed successfully !\n",
      "Solution for x vector:\n",
      "[2.0, 6.0]\n",
      "Optimal value:\n",
      "-36.0\n",
      "([2.0, 6.0], -36.0, 0)\n"
     ]
    }
   ],
   "source": [
    "import line_profiler\n",
    "\n",
    "problema = Simplex.Simplex(c,A,b,problem='Max')\n",
    "line_prof = line_profiler.LineProfiler()\n",
    "print(line_prof(problema.solve)())"
   ]
  },
  {
   "cell_type": "code",
   "execution_count": 16,
   "id": "8c81ac22",
   "metadata": {},
   "outputs": [
    {
     "name": "stdout",
     "output_type": "stream",
     "text": [
      "Timer unit: 1e-06 s\n",
      "\n",
      "Total time: 0.001334 s\n",
      "File: /home/ubuntu/Simplex.py\n",
      "Function: solve at line 44\n",
      "\n",
      "Line #      Hits         Time  Per Hit   % Time  Line Contents\n",
      "==============================================================\n",
      "    44                                               def solve(self):\n",
      "    45                                                   \n",
      "    46                                                   \"\"\"\n",
      "    47                                                   Solves the simplex algorithm. \n",
      "    48                                                   Returns\n",
      "    49                                                   -------\n",
      "    50                                                   :solution: Numpy array with solution\n",
      "    51                                                   \"\"\"\n",
      "    52         1          3.0      3.0      0.2          problem = self.problem\n",
      "    53         1          2.0      2.0      0.1          c_N = self.c\n",
      "    54         1          2.0      2.0      0.1          A = self.A\n",
      "    55         1          2.0      2.0      0.1          b = self.b\n",
      "    56         1          1.0      1.0      0.1          status = []\n",
      "    57         1         24.0     24.0      1.8          costo = np.copy(c_N)\n",
      "    58                                                 \n",
      "    59         1          2.0      2.0      0.1          n_c_N = c_N.size\n",
      "    60         1         12.0     12.0      0.9          n_A = np.size(A,0)\n",
      "    61         1         25.0     25.0      1.9          identity_A = np.eye(n_A)\n",
      "    62         1          8.0      8.0      0.6          B = np.eye(n_A)\n",
      "    63         1        147.0    147.0     11.0          A = np.c_[A,identity_A]\n",
      "    64                                                   \n",
      "    65         1          2.0      2.0      0.1          n_b = b.size\n",
      "    66         1          2.0      2.0      0.1          x_B = b\n",
      "    67                                                   \n",
      "    68         1          5.0      5.0      0.4          c_B = np.zeros(n_b)\n",
      "    69                                                   \n",
      "    70         1          6.0      6.0      0.4          n_A_ = np.size(A,1)\n",
      "    71                                                   \n",
      "    72         1          3.0      3.0      0.2          N_list_idx = list(range(0,n_c_N))\n",
      "    73         1          3.0      3.0      0.2          B_list_idx = list(range(n_c_N,n_A_))\n",
      "    74                                                   \n",
      "    75         1          3.0      3.0      0.2          nu = np.zeros(n_b)\n",
      "    76                                                   \n",
      "    77         1          1.0      1.0      0.1          lista = []\n",
      "    78         1          1.0      1.0      0.1          i = 0\n",
      "    79                                                   \n",
      "    80         3         13.0      4.3      1.0          for lambda_ in c_N:\n",
      "    81         2         62.0     31.0      4.6              lista.append (-lambda_ + np.dot(nu, A[:, N_list_idx[i]])) \n",
      "    82         2          5.0      2.5      0.4              i = i + 1\n",
      "    83                                                   \n",
      "    84         1          5.0      5.0      0.4          idx_x_N = lista.index(max(lista))\n",
      "    85                                                   \n",
      "    86         3          8.0      2.7      0.6          while lista[idx_x_N]>0:\n",
      "    87                                                       \n",
      "    88         2        131.0     65.5      9.8              d = np.linalg.solve(B, A[:,idx_x_N])    \n",
      "    89         2          3.0      1.5      0.2              lista2 = []\n",
      "    90                                                       \n",
      "    91         8         16.0      2.0      1.2              for indice in range(0,n_b):\n",
      "    92         6         15.0      2.5      1.1                  if d[indice]<=0:\n",
      "    93         2          4.0      2.0      0.3                      lista2.append(np.nan)\n",
      "    94                                                           else:\n",
      "    95         4         21.0      5.2      1.6                      lista2.append(x_B[indice]/d[indice])\n",
      "    96                                                               \n",
      "    97         2         52.0     26.0      3.9              if np.isnan(lista2).all() == True:  \n",
      "    98                                                           status = 3    \n",
      "    99                                                           return (\"simplex method failed, unbounded solution\",-1, status)\n",
      "   100                                                       \n",
      "   101         2         31.0     15.5      2.3              idx_x_B = lista2.index(min(np.array(lista2)[np.isfinite(lista2)]))\n",
      "   102                                                       \n",
      "   103         2          9.0      4.5      0.7              x_min_plus = x_B[idx_x_B]/d[idx_x_B]\n",
      "   104                                                       \n",
      "   105         2         17.0      8.5      1.3              x_B = x_B - d*x_min_plus\n",
      "   106         2          3.0      1.5      0.2              x_B[idx_x_B] = x_min_plus\n",
      "   107                                                       \n",
      "   108         2          8.0      4.0      0.6              B[:,idx_x_B] = A[:,idx_x_N]\n",
      "   109         2          4.0      2.0      0.3              aux = B_list_idx[idx_x_B]\n",
      "   110         2          4.0      2.0      0.3              B_list_idx[idx_x_B] = N_list_idx[idx_x_N]\n",
      "   111         2          3.0      1.5      0.2              N_list_idx[idx_x_N] = aux\n",
      "   112                                                       \n",
      "   113         2          4.0      2.0      0.3              aux = c_B[idx_x_B]\n",
      "   114         2          4.0      2.0      0.3              c_B[idx_x_B] = c_N[idx_x_N]\n",
      "   115         2          4.0      2.0      0.3              c_N[idx_x_N] = aux\n",
      "   116                                                       \n",
      "   117         2         86.0     43.0      6.4              nu = np.linalg.solve(B.T, c_B)\n",
      "   118                                                       \n",
      "   119         2          4.0      2.0      0.3              lista = []\n",
      "   120         2          4.0      2.0      0.3              i = 0\n",
      "   121         6         16.0      2.7      1.2              for lambda_ in c_N:\n",
      "   122         4         51.0     12.8      3.8                  lista.append (-lambda_ + np.dot(nu, A[:, N_list_idx[i]]))\n",
      "   123         4          6.0      1.5      0.4                  i = i + 1\n",
      "   124         2          5.0      2.5      0.4              idx_x_N = lista.index(max(lista))\n",
      "   125                                                   \n",
      "   126         1          2.0      2.0      0.1          solution = []\n",
      "   127                                           \n",
      "   128         3          5.0      1.7      0.4          for indice in range(0,n_c_N):\n",
      "   129         2          3.0      1.5      0.2              j=0\n",
      "   130         8         15.0      1.9      1.1              for indice2 in range(0,len(B_list_idx)):\n",
      "   131         6          7.0      1.2      0.5                  if B_list_idx[indice2] == indice:\n",
      "   132         2          4.0      2.0      0.3                      solution.append(x_B[indice])\n",
      "   133         2          3.0      1.5      0.2                      j = j + 1\n",
      "   134         4          7.0      1.8      0.5                  elif (indice2 == len(B_list_idx) - 1 and j == 0):\n",
      "   135                                                               solution.append(0) \n",
      "   136                                                       \n",
      "   137         1        154.0    154.0     11.5          print(\"Optimization completed successfully !\") \n",
      "   138         1         62.0     62.0      4.6          print(\"Solution for x vector:\") \n",
      "   139         1          4.0      4.0      0.3          self.x = solution\n",
      "   140         1         68.0     68.0      5.1          print(solution) \n",
      "   141         1         60.0     60.0      4.5          print(\"Optimal value:\") \n",
      "   142         1          3.0      3.0      0.2          n = len(solution) \n",
      "   143         1          2.0      2.0      0.1          opt = 0   \n",
      "   144         3          7.0      2.3      0.5          for i in range(n): \n",
      "   145         2          7.0      3.5      0.5              opt += solution[i]* costo[i] \n",
      "   146         1         63.0     63.0      4.7          print(opt) \n",
      "   147         1          3.0      3.0      0.2          status = 0\n",
      "   148                                                       \n",
      "   149                                                   #Solucion    \n",
      "   150         1          2.0      2.0      0.1          self.x = solution\n",
      "   151         1          1.0      1.0      0.1          return solution, opt, status\n",
      "\n",
      "None\n"
     ]
    }
   ],
   "source": [
    "print(line_prof.print_stats())"
   ]
  },
  {
   "cell_type": "markdown",
   "id": "94723d54",
   "metadata": {},
   "source": [
    "De acuerdo a las estadísticas resultantes con line profiler se tienen 7 líneas en el código que tienen un porcentaje elevado de tiempo en ejecución:\n",
    "* Línea 63 - `A = np.c_[A,identity_A]` que es la parte que construye la matriz completa A al agregar la identidad por las variables de holgura\n",
    "* Línea 81 - `lista.append (-lambda_ + np.dot(nu, A[:, N_list_idx[i]]))` para crear la lista de las lambas a evaluar en el método\n",
    "* Línea 88 - ` d = np.linalg.solve(B, A[:,idx_x_N]) ` para la solución del problema de ecuaciones\n",
    "* Línea 97 -  `if np.isnan(lista2).all() == True:`para evular una solución *ounbounded*\n",
    "* Línea 117 - `nu = np.linalg.solve(B.T, c_B)`solución del problema de ecuaciones\n",
    "* Línea 137 - `print(\"Optimization completed successfully !\") `para imprimir si la optimización fue correcta"
   ]
  },
  {
   "cell_type": "code",
   "execution_count": null,
   "id": "85693666",
   "metadata": {},
   "outputs": [],
   "source": [
    "#Develop"
   ]
  },
  {
   "cell_type": "code",
   "execution_count": null,
   "id": "082c15af",
   "metadata": {},
   "outputs": [],
   "source": []
  }
 ],
 "metadata": {
  "kernelspec": {
   "display_name": "Python 3",
   "language": "python",
   "name": "python3"
  },
  "language_info": {
   "codemirror_mode": {
    "name": "ipython",
    "version": 3
   },
   "file_extension": ".py",
   "mimetype": "text/x-python",
   "name": "python",
   "nbconvert_exporter": "python",
   "pygments_lexer": "ipython3",
   "version": "3.8.5"
  }
 },
 "nbformat": 4,
 "nbformat_minor": 5
}

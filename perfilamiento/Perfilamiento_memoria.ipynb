{
 "cells": [
  {
   "cell_type": "markdown",
   "metadata": {},
   "source": [
    "# Perfilamiento sobre algoritmo Simplex\n",
    "\n",
    "### 1. Medición de memoria\n",
    "\n",
    "Características de la instancia que utilizamos para el perfilamiento"
   ]
  },
  {
   "cell_type": "code",
   "execution_count": 1,
   "metadata": {},
   "outputs": [
    {
     "name": "stdout",
     "output_type": "stream",
     "text": [
      "Architecture:        x86_64\n",
      "CPU op-mode(s):      32-bit, 64-bit\n",
      "Byte Order:          Little Endian\n",
      "CPU(s):              8\n",
      "On-line CPU(s) list: 0-7\n",
      "Thread(s) per core:  2\n",
      "Core(s) per socket:  4\n",
      "Socket(s):           1\n",
      "NUMA node(s):        1\n",
      "Vendor ID:           GenuineIntel\n",
      "CPU family:          6\n",
      "Model:               85\n",
      "Model name:          Intel(R) Xeon(R) Platinum 8175M CPU @ 2.50GHz\n",
      "Stepping:            4\n",
      "CPU MHz:             3099.948\n",
      "BogoMIPS:            4999.99\n",
      "Hypervisor vendor:   KVM\n",
      "Virtualization type: full\n",
      "L1d cache:           32K\n",
      "L1i cache:           32K\n",
      "L2 cache:            1024K\n",
      "L3 cache:            33792K\n",
      "NUMA node0 CPU(s):   0-7\n",
      "Flags:               fpu vme de pse tsc msr pae mce cx8 apic sep mtrr pge mca cmov pat pse36 clflush mmx fxsr sse sse2 ss ht syscall nx pdpe1gb rdtscp lm constant_tsc rep_good nopl xtopology nonstop_tsc cpuid aperfmperf tsc_known_freq pni pclmulqdq ssse3 fma cx16 pcid sse4_1 sse4_2 x2apic movbe popcnt tsc_deadline_timer aes xsave avx f16c rdrand hypervisor lahf_lm abm 3dnowprefetch invpcid_single pti fsgsbase tsc_adjust bmi1 hle avx2 smep bmi2 erms invpcid rtm mpx avx512f avx512dq rdseed adx smap clflushopt clwb avx512cd avx512bw avx512vl xsaveopt xsavec xgetbv1 xsaves ida arat pku ospke\n"
     ]
    }
   ],
   "source": [
    "%%bash\n",
    "lscpu"
   ]
  },
  {
   "cell_type": "code",
   "execution_count": 2,
   "metadata": {},
   "outputs": [
    {
     "name": "stdout",
     "output_type": "stream",
     "text": [
      "  *-memory\n",
      "       description: System memory\n",
      "       physical id: 0\n",
      "       size: 30GiB\n"
     ]
    }
   ],
   "source": [
    "%%bash\n",
    "sudo lshw -C memory"
   ]
  },
  {
   "cell_type": "markdown",
   "metadata": {
    "tags": []
   },
   "source": [
    "### memory_profiler"
   ]
  },
  {
   "cell_type": "markdown",
   "metadata": {
    "tags": []
   },
   "source": [
    "#### Versión 1"
   ]
  },
  {
   "cell_type": "code",
   "execution_count": 11,
   "metadata": {},
   "outputs": [],
   "source": [
    "from memory_profiler import memory_usage\n",
    "from versiones import Simplex_v0 as Simplex_v0"
   ]
  },
  {
   "cell_type": "code",
   "execution_count": 12,
   "metadata": {},
   "outputs": [
    {
     "name": "stdout",
     "output_type": "stream",
     "text": [
      "Optimization completed successfully !\n",
      "Solution for x vector:\n",
      "[2.0, 6.0]\n",
      "Optimal value:\n",
      "-36.0\n",
      "Optimization completed successfully !\n",
      "Solution for x vector:\n",
      "[0, 0]\n",
      "Optimal value:\n",
      "0\n",
      "Optimization completed successfully !\n",
      "Solution for x vector:\n",
      "[0, 0]\n",
      "Optimal value:\n",
      "0\n",
      "Optimization completed successfully !\n",
      "Solution for x vector:\n",
      "[0, 0]\n",
      "Optimal value:\n",
      "0\n",
      "Optimization completed successfully !\n",
      "Solution for x vector:\n",
      "[0, 0]\n",
      "Optimal value:\n",
      "0\n",
      "Optimization completed successfully !\n",
      "Solution for x vector:\n",
      "[0, 0]\n",
      "Optimal value:\n",
      "0\n",
      "Optimization completed successfully !\n",
      "Solution for x vector:\n",
      "[0, 0]\n",
      "Optimal value:\n",
      "0\n",
      "start mem 74.89453125\n",
      "max mem 74.92578125\n",
      "used mem 0.03125\n",
      "fun output ([0, 0], 0, 0)\n"
     ]
    }
   ],
   "source": [
    "c = [3, 5]\n",
    "b = [4, 12, 18]\n",
    "A = [[1,  0],\n",
    "    [0,  2],\n",
    "    [3, 2]]\n",
    "\n",
    "problema = Simplex_v0.Simplex(c,A,b,problem='Max')\n",
    "t = (problema.solve)\n",
    "\n",
    "start_mem = memory_usage(max_usage=True)\n",
    "res = memory_usage(t, max_usage=True, retval=True)\n",
    "print('start mem', start_mem)\n",
    "print('max mem', res[0])\n",
    "print('used mem', res[0]-start_mem)\n",
    "print('fun output', res[1])"
   ]
  },
  {
   "cell_type": "markdown",
   "metadata": {
    "tags": []
   },
   "source": [
    "#### Versión 1"
   ]
  },
  {
   "cell_type": "markdown",
   "metadata": {
    "tags": []
   },
   "source": [
    "Nota: la versión 1 es considerando las mejoras de tiempo implementadas a partir del perfilamiento."
   ]
  },
  {
   "cell_type": "code",
   "execution_count": 8,
   "metadata": {},
   "outputs": [],
   "source": [
    "import Simplex"
   ]
  },
  {
   "cell_type": "code",
   "execution_count": 9,
   "metadata": {},
   "outputs": [
    {
     "name": "stdout",
     "output_type": "stream",
     "text": [
      "Solution for x vector, optimization value and status:\n",
      "Solution for x vector, optimization value and status:\n",
      "Solution for x vector, optimization value and status:\n",
      "Solution for x vector, optimization value and status:\n",
      "Solution for x vector, optimization value and status:\n",
      "Solution for x vector, optimization value and status:\n",
      "Solution for x vector, optimization value and status:\n",
      "start mem 63.3984375\n",
      "max mem 63.4296875\n",
      "used mem 0.03125\n",
      "fun output ([0, 0], 0, 0)\n"
     ]
    }
   ],
   "source": [
    "c = [3, 5]\n",
    "b = [4, 12, 18]\n",
    "A = [[1,  0],\n",
    "    [0,  2],\n",
    "    [3, 2]]\n",
    "\n",
    "problema = Simplex.Simplex(c,A,b,problem='Max')\n",
    "t = (problema.solve)\n",
    "\n",
    "start_mem = memory_usage(max_usage=True)\n",
    "res = memory_usage(t, max_usage=True, retval=True)\n",
    "print('start mem', start_mem)\n",
    "print('max mem', res[0])\n",
    "print('used mem', res[0]-start_mem)\n",
    "print('fun output', res[1])"
   ]
  },
  {
   "cell_type": "markdown",
   "metadata": {
    "tags": []
   },
   "source": [
    "### Decorador profiler"
   ]
  },
  {
   "cell_type": "code",
   "execution_count": 13,
   "metadata": {},
   "outputs": [],
   "source": [
    "%load_ext memory_profiler"
   ]
  },
  {
   "cell_type": "code",
   "execution_count": 14,
   "metadata": {},
   "outputs": [
    {
     "name": "stdout",
     "output_type": "stream",
     "text": [
      "peak memory: 74.93 MiB, increment: 0.00 MiB\n"
     ]
    }
   ],
   "source": [
    "%memit #how much RAM this process is consuming"
   ]
  },
  {
   "cell_type": "code",
   "execution_count": 15,
   "metadata": {},
   "outputs": [
    {
     "name": "stdout",
     "output_type": "stream",
     "text": [
      "Optimization completed successfully !\n",
      "Solution for x vector:\n",
      "[2.0, 6.0]\n",
      "Optimal value:\n",
      "-36.0\n",
      "Optimization completed successfully !\n",
      "Solution for x vector:\n",
      "[0, 0]\n",
      "Optimal value:\n",
      "0\n",
      "Optimization completed successfully !\n",
      "Solution for x vector:\n",
      "[0, 0]\n",
      "Optimal value:\n",
      "0\n",
      "Optimization completed successfully !\n",
      "Solution for x vector:\n",
      "[0, 0]\n",
      "Optimal value:\n",
      "0\n",
      "Optimization completed successfully !\n",
      "Solution for x vector:\n",
      "[0, 0]\n",
      "Optimal value:\n",
      "0\n",
      "Optimization completed successfully !\n",
      "Solution for x vector:\n",
      "[0, 0]\n",
      "Optimal value:\n",
      "0\n",
      "Optimization completed successfully !\n",
      "Solution for x vector:\n",
      "[0, 0]\n",
      "Optimal value:\n",
      "0\n",
      "peak memory: 133.69 MiB, increment: 58.76 MiB\n"
     ]
    }
   ],
   "source": [
    "c = [3, 5]\n",
    "b = [4, 12, 18]\n",
    "A = [[1,  0],\n",
    "    [0,  2],\n",
    "    [3, 2]]\n",
    "\n",
    "problema = Simplex_v0.Simplex(c,A,b,problem='Max')\n",
    "%memit -c problema.solve()"
   ]
  },
  {
   "cell_type": "code",
   "execution_count": 16,
   "metadata": {},
   "outputs": [
    {
     "name": "stdout",
     "output_type": "stream",
     "text": [
      "Solution for x vector, optimization value and status:\n",
      "Solution for x vector, optimization value and status:\n",
      "Solution for x vector, optimization value and status:\n",
      "Solution for x vector, optimization value and status:\n",
      "Solution for x vector, optimization value and status:\n",
      "Solution for x vector, optimization value and status:\n",
      "Solution for x vector, optimization value and status:\n",
      "peak memory: 133.69 MiB, increment: 58.75 MiB\n"
     ]
    }
   ],
   "source": [
    "c = [3, 5]\n",
    "b = [4, 12, 18]\n",
    "A = [[1,  0],\n",
    "    [0,  2],\n",
    "    [3, 2]]\n",
    "\n",
    "problema = Simplex.Simplex(c,A,b,problem='Max')\n",
    "%memit -c problema.solve()"
   ]
  },
  {
   "cell_type": "markdown",
   "metadata": {
    "tags": []
   },
   "source": [
    "#### Versión 0"
   ]
  },
  {
   "cell_type": "code",
   "execution_count": 18,
   "metadata": {},
   "outputs": [
    {
     "name": "stdout",
     "output_type": "stream",
     "text": [
      "Writing Simplex_v0_memory_profiler.py\n"
     ]
    }
   ],
   "source": [
    "%%file Simplex_v0_memory_profiler.py\n",
    "import numpy as np\n",
    "from memory_profiler import profile\n",
    "\n",
    "class Simplex:\n",
    "    \n",
    "    \"\"\"\n",
    "    This class creates a simplex solver for linear programming.\n",
    "    \"\"\"\n",
    "    \n",
    "    def __init__(self,c = None,A = None ,b = None, problem = None):\n",
    "        \"\"\"\n",
    "        Creates variables associated to the linear programing problem\n",
    "        \n",
    "        :type c: numpy 1D array\n",
    "        :param c: array asociated with the cost or coefficients of \n",
    "                    lineal objective function. \n",
    "        \n",
    "        :type A:  numpy NxM array\n",
    "        :param A: Matrix associated to the linear restrictions for\n",
    "                    the objective function. \n",
    "        \n",
    "        :type b:  numpy 1XM array\n",
    "        :param b: array asociated with constraints to the linear \n",
    "                    restrictions for the objective function.\n",
    "        \n",
    "        :type problem: str\n",
    "        :param problem: definition of maximization ('Max') or \n",
    "                        minimization ('Min') problem.\n",
    "        \n",
    "        :type x:  numpy 1D array\n",
    "        :param x: array of solution vector once the \n",
    "                    solve method is applied. \n",
    "        \n",
    "        \"\"\"\n",
    "        \n",
    "        if problem == 'Max':\n",
    "            self.c=-np.array(c) \n",
    "        else:\n",
    "            self.c= np.array(c)  \n",
    "        self.A=np.array(A)   \n",
    "        self.b=np.array(b)  \n",
    "        self.x = np.zeros(self.b.size)\n",
    "        self.problem = problem\n",
    "        \n",
    "    @profile    \n",
    "    def solve(self):\n",
    "        \n",
    "        \"\"\"\n",
    "        Solves the simplex algorithm. \n",
    "        Returns\n",
    "        -------\n",
    "        :solution: Numpy array with solution\n",
    "        \"\"\"\n",
    "        problem = self.problem\n",
    "        c_N = self.c\n",
    "        A = self.A\n",
    "        b = self.b\n",
    "        status = []\n",
    "        costo = np.copy(c_N)\n",
    "      \n",
    "        n_c_N = c_N.size\n",
    "        n_A = np.size(A,0)\n",
    "        identity_A = np.eye(n_A)\n",
    "        B = np.eye(n_A)\n",
    "        A = np.c_[A,identity_A]\n",
    "        \n",
    "        n_b = b.size\n",
    "        x_B = b\n",
    "        \n",
    "        c_B = np.zeros(n_b)\n",
    "        \n",
    "        n_A_ = np.size(A,1)\n",
    "        \n",
    "        N_list_idx = list(range(0,n_c_N))\n",
    "        B_list_idx = list(range(n_c_N,n_A_))\n",
    "        \n",
    "        nu = np.zeros(n_b)\n",
    "        \n",
    "        lista = []\n",
    "        i = 0\n",
    "        \n",
    "        for lambda_ in c_N:\n",
    "            lista.append (-lambda_ + np.dot(nu, A[:, N_list_idx[i]])) \n",
    "            i = i + 1\n",
    "        \n",
    "        idx_x_N = lista.index(max(lista))\n",
    "        \n",
    "        while lista[idx_x_N]>0:\n",
    "            \n",
    "            d = np.linalg.solve(B, A[:,idx_x_N])    \n",
    "            lista2 = []\n",
    "            \n",
    "            for indice in range(0,n_b):\n",
    "                if d[indice]<=0:\n",
    "                    lista2.append(np.nan)\n",
    "                else:\n",
    "                    lista2.append(x_B[indice]/d[indice])\n",
    "                    \n",
    "            if np.isnan(lista2).all() == True:  \n",
    "                status = 3    \n",
    "                return (\"simplex method failed, unbounded solution\",-1, status)\n",
    "            \n",
    "            idx_x_B = lista2.index(min(np.array(lista2)[np.isfinite(lista2)]))\n",
    "            \n",
    "            x_min_plus = x_B[idx_x_B]/d[idx_x_B]\n",
    "            \n",
    "            x_B = x_B - d*x_min_plus\n",
    "            x_B[idx_x_B] = x_min_plus\n",
    "            \n",
    "            B[:,idx_x_B] = A[:,idx_x_N]\n",
    "            aux = B_list_idx[idx_x_B]\n",
    "            B_list_idx[idx_x_B] = N_list_idx[idx_x_N]\n",
    "            N_list_idx[idx_x_N] = aux\n",
    "            \n",
    "            aux = c_B[idx_x_B]\n",
    "            c_B[idx_x_B] = c_N[idx_x_N]\n",
    "            c_N[idx_x_N] = aux\n",
    "            \n",
    "            nu = np.linalg.solve(B.T, c_B)\n",
    "            \n",
    "            lista = []\n",
    "            i = 0\n",
    "            for lambda_ in c_N:\n",
    "                lista.append (-lambda_ + np.dot(nu, A[:, N_list_idx[i]]))\n",
    "                i = i + 1\n",
    "            idx_x_N = lista.index(max(lista))\n",
    "        \n",
    "        solution = []\n",
    "\n",
    "        for indice in range(0,n_c_N):\n",
    "            j=0\n",
    "            for indice2 in range(0,len(B_list_idx)):\n",
    "                if B_list_idx[indice2] == indice:\n",
    "                    solution.append(x_B[indice])\n",
    "                    j = j + 1\n",
    "                elif (indice2 == len(B_list_idx) - 1 and j == 0):\n",
    "                    solution.append(0) \n",
    "            \n",
    "        print(\"Optimization completed successfully !\") \n",
    "        print(\"Solution for x vector:\") \n",
    "        self.x = solution\n",
    "        print(solution) \n",
    "        print(\"Optimal value:\") \n",
    "        n = len(solution) \n",
    "        opt = 0   \n",
    "        for i in range(n): \n",
    "            opt += solution[i]* costo[i] \n",
    "        print(opt) \n",
    "        status = 0\n",
    "            \n",
    "        #Solucion    \n",
    "        self.x = solution\n",
    "        return solution, opt, status"
   ]
  },
  {
   "cell_type": "code",
   "execution_count": 20,
   "metadata": {},
   "outputs": [
    {
     "name": "stdout",
     "output_type": "stream",
     "text": [
      "Overwriting run_Simplex_v0_memory_profiler.py\n"
     ]
    }
   ],
   "source": [
    "%%file run_Simplex_v0_memory_profiler.py\n",
    "import Simplex_v0_memory_profiler as Simplex_v0_mp\n",
    "  \n",
    "  \n",
    "if __name__ == \"__main__\":\n",
    "\n",
    "    A = [[0,1,1,0,0,0,0],\n",
    "        [0,0,0,1,1,0,0],\n",
    "        [0,0,0,0,0,1,1]]\n",
    "    b = [1,1,1]\n",
    "    c = [-393620.5,-125952.75,157378.2,-422192.75,-441465.5,-79897.75,-69856.85]\n",
    "\n",
    "    problema = Simplex_v0_mp.Simplex(c,A,b,problem='Max')  \n",
    "      \n",
    "    # calling solve function\n",
    "    problema.solve()"
   ]
  },
  {
   "cell_type": "code",
   "execution_count": 21,
   "metadata": {},
   "outputs": [
    {
     "name": "stdout",
     "output_type": "stream",
     "text": [
      "Optimization completed successfully !\n",
      "Solution for x vector:\n",
      "[0, 0, 1.0, 0, 0, 0, 0]\n",
      "Optimal value:\n",
      "-157378.2\n",
      "Filename: /shared_volume/practica-2-segunda-parte-yefovar/perfilamiento/Simplex_v0_memory_profiler.py\n",
      "\n",
      "Line #    Mem usage    Increment  Occurences   Line Contents\n",
      "============================================================\n",
      "    45     53.3 MiB     53.3 MiB           1       @profile    \n",
      "    46                                             def solve(self):\n",
      "    47                                                 \n",
      "    48                                                 \"\"\"\n",
      "    49                                                 Solves the simplex algorithm. \n",
      "    50                                                 Returns\n",
      "    51                                                 -------\n",
      "    52                                                 :solution: Numpy array with solution\n",
      "    53                                                 \"\"\"\n",
      "    54     53.3 MiB      0.0 MiB           1           problem = self.problem\n",
      "    55     53.3 MiB      0.0 MiB           1           c_N = self.c\n",
      "    56     53.3 MiB      0.0 MiB           1           A = self.A\n",
      "    57     53.3 MiB      0.0 MiB           1           b = self.b\n",
      "    58     53.3 MiB      0.0 MiB           1           status = []\n",
      "    59     53.3 MiB      0.0 MiB           1           costo = np.copy(c_N)\n",
      "    60                                               \n",
      "    61     53.3 MiB      0.0 MiB           1           n_c_N = c_N.size\n",
      "    62     53.3 MiB      0.0 MiB           1           n_A = np.size(A,0)\n",
      "    63     53.3 MiB      0.0 MiB           1           identity_A = np.eye(n_A)\n",
      "    64     53.3 MiB      0.0 MiB           1           B = np.eye(n_A)\n",
      "    65     53.3 MiB      0.0 MiB           1           A = np.c_[A,identity_A]\n",
      "    66                                                 \n",
      "    67     53.3 MiB      0.0 MiB           1           n_b = b.size\n",
      "    68     53.3 MiB      0.0 MiB           1           x_B = b\n",
      "    69                                                 \n",
      "    70     53.3 MiB      0.0 MiB           1           c_B = np.zeros(n_b)\n",
      "    71                                                 \n",
      "    72     53.3 MiB      0.0 MiB           1           n_A_ = np.size(A,1)\n",
      "    73                                                 \n",
      "    74     53.3 MiB      0.0 MiB           1           N_list_idx = list(range(0,n_c_N))\n",
      "    75     53.3 MiB      0.0 MiB           1           B_list_idx = list(range(n_c_N,n_A_))\n",
      "    76                                                 \n",
      "    77     53.3 MiB      0.0 MiB           1           nu = np.zeros(n_b)\n",
      "    78                                                 \n",
      "    79     53.3 MiB      0.0 MiB           1           lista = []\n",
      "    80     53.3 MiB      0.0 MiB           1           i = 0\n",
      "    81                                                 \n",
      "    82     53.3 MiB      0.0 MiB           8           for lambda_ in c_N:\n",
      "    83     53.3 MiB      0.0 MiB           7               lista.append (-lambda_ + np.dot(nu, A[:, N_list_idx[i]])) \n",
      "    84     53.3 MiB      0.0 MiB           7               i = i + 1\n",
      "    85                                                 \n",
      "    86     53.3 MiB      0.0 MiB           1           idx_x_N = lista.index(max(lista))\n",
      "    87                                                 \n",
      "    88     53.3 MiB      0.0 MiB           2           while lista[idx_x_N]>0:\n",
      "    89                                                     \n",
      "    90     53.3 MiB      0.0 MiB           1               d = np.linalg.solve(B, A[:,idx_x_N])    \n",
      "    91     53.3 MiB      0.0 MiB           1               lista2 = []\n",
      "    92                                                     \n",
      "    93     53.3 MiB      0.0 MiB           4               for indice in range(0,n_b):\n",
      "    94     53.3 MiB      0.0 MiB           3                   if d[indice]<=0:\n",
      "    95     53.3 MiB      0.0 MiB           2                       lista2.append(np.nan)\n",
      "    96                                                         else:\n",
      "    97     53.3 MiB      0.0 MiB           1                       lista2.append(x_B[indice]/d[indice])\n",
      "    98                                                             \n",
      "    99     53.3 MiB      0.0 MiB           1               if np.isnan(lista2).all() == True:  \n",
      "   100                                                         status = 3    \n",
      "   101                                                         return (\"simplex method failed, unbounded solution\",-1, status)\n",
      "   102                                                     \n",
      "   103     53.3 MiB      0.0 MiB           1               idx_x_B = lista2.index(min(np.array(lista2)[np.isfinite(lista2)]))\n",
      "   104                                                     \n",
      "   105     53.3 MiB      0.0 MiB           1               x_min_plus = x_B[idx_x_B]/d[idx_x_B]\n",
      "   106                                                     \n",
      "   107     53.3 MiB      0.0 MiB           1               x_B = x_B - d*x_min_plus\n",
      "   108     53.3 MiB      0.0 MiB           1               x_B[idx_x_B] = x_min_plus\n",
      "   109                                                     \n",
      "   110     53.3 MiB      0.0 MiB           1               B[:,idx_x_B] = A[:,idx_x_N]\n",
      "   111     53.3 MiB      0.0 MiB           1               aux = B_list_idx[idx_x_B]\n",
      "   112     53.3 MiB      0.0 MiB           1               B_list_idx[idx_x_B] = N_list_idx[idx_x_N]\n",
      "   113     53.3 MiB      0.0 MiB           1               N_list_idx[idx_x_N] = aux\n",
      "   114                                                     \n",
      "   115     53.3 MiB      0.0 MiB           1               aux = c_B[idx_x_B]\n",
      "   116     53.3 MiB      0.0 MiB           1               c_B[idx_x_B] = c_N[idx_x_N]\n",
      "   117     53.3 MiB      0.0 MiB           1               c_N[idx_x_N] = aux\n",
      "   118                                                     \n",
      "   119     53.3 MiB      0.0 MiB           1               nu = np.linalg.solve(B.T, c_B)\n",
      "   120                                                     \n",
      "   121     53.3 MiB      0.0 MiB           1               lista = []\n",
      "   122     53.3 MiB      0.0 MiB           1               i = 0\n",
      "   123     53.3 MiB      0.0 MiB           8               for lambda_ in c_N:\n",
      "   124     53.3 MiB      0.0 MiB           7                   lista.append (-lambda_ + np.dot(nu, A[:, N_list_idx[i]]))\n",
      "   125     53.3 MiB      0.0 MiB           7                   i = i + 1\n",
      "   126     53.3 MiB      0.0 MiB           1               idx_x_N = lista.index(max(lista))\n",
      "   127                                                 \n",
      "   128     53.3 MiB      0.0 MiB           1           solution = []\n",
      "   129                                         \n",
      "   130     53.3 MiB      0.0 MiB           8           for indice in range(0,n_c_N):\n",
      "   131     53.3 MiB      0.0 MiB           7               j=0\n",
      "   132     53.3 MiB      0.0 MiB          28               for indice2 in range(0,len(B_list_idx)):\n",
      "   133     53.3 MiB      0.0 MiB          21                   if B_list_idx[indice2] == indice:\n",
      "   134     53.3 MiB      0.0 MiB           1                       solution.append(x_B[indice])\n",
      "   135     53.3 MiB      0.0 MiB           1                       j = j + 1\n",
      "   136     53.3 MiB      0.0 MiB          20                   elif (indice2 == len(B_list_idx) - 1 and j == 0):\n",
      "   137     53.3 MiB      0.0 MiB           6                       solution.append(0) \n",
      "   138                                                     \n",
      "   139     53.3 MiB      0.0 MiB           1           print(\"Optimization completed successfully !\") \n",
      "   140     53.3 MiB      0.0 MiB           1           print(\"Solution for x vector:\") \n",
      "   141     53.3 MiB      0.0 MiB           1           self.x = solution\n",
      "   142     53.6 MiB      0.3 MiB           1           print(solution) \n",
      "   143     53.6 MiB      0.0 MiB           1           print(\"Optimal value:\") \n",
      "   144     53.6 MiB      0.0 MiB           1           n = len(solution) \n",
      "   145     53.6 MiB      0.0 MiB           1           opt = 0   \n",
      "   146     53.6 MiB      0.0 MiB           8           for i in range(n): \n",
      "   147     53.6 MiB      0.0 MiB           7               opt += solution[i]* costo[i] \n",
      "   148     53.6 MiB      0.0 MiB           1           print(opt) \n",
      "   149     53.6 MiB      0.0 MiB           1           status = 0\n",
      "   150                                                     \n",
      "   151                                                 #Solucion    \n",
      "   152     53.6 MiB      0.0 MiB           1           self.x = solution\n",
      "   153     53.6 MiB      0.0 MiB           1           return solution, opt, status\n",
      "\n",
      "\n"
     ]
    }
   ],
   "source": [
    "%%bash\n",
    "python3 run_Simplex_v0_memory_profiler.py"
   ]
  },
  {
   "cell_type": "markdown",
   "metadata": {
    "tags": []
   },
   "source": [
    "#### Versión 1"
   ]
  },
  {
   "cell_type": "code",
   "execution_count": 22,
   "metadata": {},
   "outputs": [
    {
     "name": "stdout",
     "output_type": "stream",
     "text": [
      "Writing Simplex_memory_profiler.py\n"
     ]
    }
   ],
   "source": [
    "%%file Simplex_memory_profiler.py\n",
    "import numpy as np\n",
    "from memory_profiler import profile\n",
    "\n",
    "class Simplex:\n",
    "    \n",
    "    \"\"\"\n",
    "    This class creates a simplex solver for linear programming.\n",
    "    \"\"\"\n",
    "    \n",
    "    def __init__(self,c = None,A = None ,b = None, problem = None, verbose = None):\n",
    "        \"\"\"\n",
    "        Creates variables associated to the linear programing problem\n",
    "        \n",
    "        :type c: numpy 1D array\n",
    "        :param c: array asociated with the cost or coefficients of \n",
    "                    lineal objective function. \n",
    "        \n",
    "        :type A:  numpy NxM array\n",
    "        :param A: Matrix associated to the linear restrictions for\n",
    "                    the objective function. \n",
    "        \n",
    "        :type b:  numpy 1XM array\n",
    "        :param b: array asociated with constraints to the linear \n",
    "                    restrictions for the objective function.\n",
    "        \n",
    "        :type problem: str\n",
    "        :param problem: definition of maximization ('Max') or \n",
    "                        minimization ('Min') problem.\n",
    "        \n",
    "        :type x:  numpy 1D array\n",
    "        :param x: array of solution vector once the \n",
    "                    solve method is applied. \n",
    "        \n",
    "        \"\"\"\n",
    "        \n",
    "        if problem == 'Max':\n",
    "            self.c=-np.array(c) \n",
    "        else:\n",
    "            self.c= np.array(c)  \n",
    "        self.A=np.array(A)   \n",
    "        self.b=np.array(b)  \n",
    "        self.x = np.zeros(self.b.size)\n",
    "        self.problem = problem\n",
    "        self.verbose = verbose\n",
    "    \n",
    "    @profile\n",
    "    def solve(self):\n",
    "        \n",
    "        \"\"\"\n",
    "        Solves the simplex algorithm. \n",
    "        Returns\n",
    "        -------\n",
    "        :solution: Numpy array with solution\n",
    "        \"\"\"\n",
    "        problem = self.problem\n",
    "        verbose = self.verbose\n",
    "        c_N = self.c\n",
    "        A = self.A\n",
    "        b = self.b\n",
    "        status = []\n",
    "        costo = np.copy(c_N)\n",
    "      \n",
    "        n_c_N = c_N.size\n",
    "        n_A = np.size(A,0)\n",
    "        identity_A = np.eye(n_A)\n",
    "        B = np.eye(n_A)\n",
    "        A= np.hstack((A,identity_A))\n",
    "        \n",
    "        n_b = b.size\n",
    "        x_B = b\n",
    "        \n",
    "        c_B = np.zeros(n_b)\n",
    "        \n",
    "        n_A_ = np.size(A,1)\n",
    "        \n",
    "        N_list_idx = list(range(0,n_c_N))\n",
    "        B_list_idx = list(range(n_c_N,n_A_))\n",
    "        \n",
    "        nu = np.zeros(n_b)\n",
    "        \n",
    "        lista = []\n",
    "        i = 0\n",
    "        \n",
    "        for lambda_ in c_N:\n",
    "            lista.append (-lambda_ + np.dot(nu, A[:, N_list_idx[i]])) \n",
    "            i = i + 1\n",
    "        \n",
    "        idx_x_N = lista.index(max(lista))\n",
    "        \n",
    "        while lista[idx_x_N]>0:\n",
    "            \n",
    "            d = np.linalg.solve(B, A[:,idx_x_N])    \n",
    "            lista2 = []\n",
    "            \n",
    "            for indice in range(0,n_b):\n",
    "                if d[indice]<=0:\n",
    "                    lista2.append(np.nan)\n",
    "                else:\n",
    "                    lista2.append(x_B[indice]/d[indice])\n",
    "                    \n",
    "            if np.isnan(lista2).all() == True:  \n",
    "                status = 3    \n",
    "                return (\"simplex method failed, unbounded solution\",-1, status)\n",
    "            \n",
    "            idx_x_B = lista2.index(min(np.array(lista2)[np.isfinite(lista2)]))\n",
    "            \n",
    "            x_min_plus = x_B[idx_x_B]/d[idx_x_B]\n",
    "            \n",
    "            x_B = x_B - d*x_min_plus\n",
    "            x_B[idx_x_B] = x_min_plus\n",
    "            \n",
    "            B[:,idx_x_B] = A[:,idx_x_N]\n",
    "            aux = B_list_idx[idx_x_B]\n",
    "            B_list_idx[idx_x_B] = N_list_idx[idx_x_N]\n",
    "            N_list_idx[idx_x_N] = aux\n",
    "            \n",
    "            aux = c_B[idx_x_B]\n",
    "            c_B[idx_x_B] = c_N[idx_x_N]\n",
    "            c_N[idx_x_N] = aux\n",
    "            \n",
    "            nu = np.linalg.solve(B.T, c_B)\n",
    "            \n",
    "            lista = []\n",
    "            i = 0\n",
    "            for lambda_ in c_N:\n",
    "                lista.append (-lambda_ + np.dot(nu, A[:, N_list_idx[i]]))\n",
    "                i = i + 1\n",
    "            idx_x_N = lista.index(max(lista))\n",
    "        \n",
    "        solution = []\n",
    "\n",
    "        for indice in range(0,n_c_N):\n",
    "            j=0\n",
    "            for indice2 in range(0,len(B_list_idx)):\n",
    "                if B_list_idx[indice2] == indice:\n",
    "                    solution.append(x_B[indice2])\n",
    "                    j = j + 1\n",
    "                elif (indice2 == len(B_list_idx) - 1 and j == 0):\n",
    "                    solution.append(0) \n",
    "                    \n",
    "        if verbose == True:\n",
    "            print(\"Optimization completed successfully !\") \n",
    "            print(\"Solution for x vector:\") \n",
    "            self.x = solution\n",
    "            print(solution) \n",
    "        \n",
    "        status = 0\n",
    "        n = len(solution)\n",
    "        opt = 0\n",
    "        for i in range(n):\n",
    "            opt += solution[i]* costo[i]\n",
    "        if verbose == True:\n",
    "            print(\"Optimal value:\")\n",
    "            print(opt)\n",
    "            \n",
    "        print(\"Solution for x vector, optimization value and status:\")\n",
    "            \n",
    "        #Solucion    \n",
    "        self.x = solution\n",
    "        return solution, opt, status"
   ]
  },
  {
   "cell_type": "code",
   "execution_count": 23,
   "metadata": {},
   "outputs": [
    {
     "name": "stdout",
     "output_type": "stream",
     "text": [
      "Writing run_Simplex_memory_profiler.py\n"
     ]
    }
   ],
   "source": [
    "%%file run_Simplex_memory_profiler.py\n",
    "import Simplex_memory_profiler as Simplex_mp\n",
    "  \n",
    "  \n",
    "if __name__ == \"__main__\":\n",
    "\n",
    "    A = [[0,1,1,0,0,0,0],\n",
    "        [0,0,0,1,1,0,0],\n",
    "        [0,0,0,0,0,1,1]]\n",
    "    b = [1,1,1]\n",
    "    c = [-393620.5,-125952.75,157378.2,-422192.75,-441465.5,-79897.75,-69856.85]\n",
    "\n",
    "    problema = Simplex_mp.Simplex(c,A,b,problem='Max')  \n",
    "      \n",
    "    # calling solve function\n",
    "    problema.solve()"
   ]
  },
  {
   "cell_type": "code",
   "execution_count": 24,
   "metadata": {},
   "outputs": [
    {
     "name": "stdout",
     "output_type": "stream",
     "text": [
      "Solution for x vector, optimization value and status:\n",
      "Filename: /shared_volume/practica-2-segunda-parte-yefovar/perfilamiento/Simplex_memory_profiler.py\n",
      "\n",
      "Line #    Mem usage    Increment  Occurences   Line Contents\n",
      "============================================================\n",
      "    46     53.3 MiB     53.3 MiB           1       @profile\n",
      "    47                                             def solve(self):\n",
      "    48                                                 \n",
      "    49                                                 \"\"\"\n",
      "    50                                                 Solves the simplex algorithm. \n",
      "    51                                                 Returns\n",
      "    52                                                 -------\n",
      "    53                                                 :solution: Numpy array with solution\n",
      "    54                                                 \"\"\"\n",
      "    55     53.3 MiB      0.0 MiB           1           problem = self.problem\n",
      "    56     53.3 MiB      0.0 MiB           1           verbose = self.verbose\n",
      "    57     53.3 MiB      0.0 MiB           1           c_N = self.c\n",
      "    58     53.3 MiB      0.0 MiB           1           A = self.A\n",
      "    59     53.3 MiB      0.0 MiB           1           b = self.b\n",
      "    60     53.3 MiB      0.0 MiB           1           status = []\n",
      "    61     53.3 MiB      0.0 MiB           1           costo = np.copy(c_N)\n",
      "    62                                               \n",
      "    63     53.3 MiB      0.0 MiB           1           n_c_N = c_N.size\n",
      "    64     53.3 MiB      0.0 MiB           1           n_A = np.size(A,0)\n",
      "    65     53.3 MiB      0.0 MiB           1           identity_A = np.eye(n_A)\n",
      "    66     53.3 MiB      0.0 MiB           1           B = np.eye(n_A)\n",
      "    67     53.3 MiB      0.0 MiB           1           A= np.hstack((A,identity_A))\n",
      "    68                                                 \n",
      "    69     53.3 MiB      0.0 MiB           1           n_b = b.size\n",
      "    70     53.3 MiB      0.0 MiB           1           x_B = b\n",
      "    71                                                 \n",
      "    72     53.3 MiB      0.0 MiB           1           c_B = np.zeros(n_b)\n",
      "    73                                                 \n",
      "    74     53.3 MiB      0.0 MiB           1           n_A_ = np.size(A,1)\n",
      "    75                                                 \n",
      "    76     53.3 MiB      0.0 MiB           1           N_list_idx = list(range(0,n_c_N))\n",
      "    77     53.3 MiB      0.0 MiB           1           B_list_idx = list(range(n_c_N,n_A_))\n",
      "    78                                                 \n",
      "    79     53.3 MiB      0.0 MiB           1           nu = np.zeros(n_b)\n",
      "    80                                                 \n",
      "    81     53.3 MiB      0.0 MiB           1           lista = []\n",
      "    82     53.3 MiB      0.0 MiB           1           i = 0\n",
      "    83                                                 \n",
      "    84     53.3 MiB      0.0 MiB           8           for lambda_ in c_N:\n",
      "    85     53.3 MiB      0.0 MiB           7               lista.append (-lambda_ + np.dot(nu, A[:, N_list_idx[i]])) \n",
      "    86     53.3 MiB      0.0 MiB           7               i = i + 1\n",
      "    87                                                 \n",
      "    88     53.3 MiB      0.0 MiB           1           idx_x_N = lista.index(max(lista))\n",
      "    89                                                 \n",
      "    90     53.3 MiB      0.0 MiB           2           while lista[idx_x_N]>0:\n",
      "    91                                                     \n",
      "    92     53.3 MiB      0.0 MiB           1               d = np.linalg.solve(B, A[:,idx_x_N])    \n",
      "    93     53.3 MiB      0.0 MiB           1               lista2 = []\n",
      "    94                                                     \n",
      "    95     53.3 MiB      0.0 MiB           4               for indice in range(0,n_b):\n",
      "    96     53.3 MiB      0.0 MiB           3                   if d[indice]<=0:\n",
      "    97     53.3 MiB      0.0 MiB           2                       lista2.append(np.nan)\n",
      "    98                                                         else:\n",
      "    99     53.3 MiB      0.0 MiB           1                       lista2.append(x_B[indice]/d[indice])\n",
      "   100                                                             \n",
      "   101     53.3 MiB      0.0 MiB           1               if np.isnan(lista2).all() == True:  \n",
      "   102                                                         status = 3    \n",
      "   103                                                         return (\"simplex method failed, unbounded solution\",-1, status)\n",
      "   104                                                     \n",
      "   105     53.3 MiB      0.0 MiB           1               idx_x_B = lista2.index(min(np.array(lista2)[np.isfinite(lista2)]))\n",
      "   106                                                     \n",
      "   107     53.3 MiB      0.0 MiB           1               x_min_plus = x_B[idx_x_B]/d[idx_x_B]\n",
      "   108                                                     \n",
      "   109     53.3 MiB      0.0 MiB           1               x_B = x_B - d*x_min_plus\n",
      "   110     53.3 MiB      0.0 MiB           1               x_B[idx_x_B] = x_min_plus\n",
      "   111                                                     \n",
      "   112     53.3 MiB      0.0 MiB           1               B[:,idx_x_B] = A[:,idx_x_N]\n",
      "   113     53.3 MiB      0.0 MiB           1               aux = B_list_idx[idx_x_B]\n",
      "   114     53.3 MiB      0.0 MiB           1               B_list_idx[idx_x_B] = N_list_idx[idx_x_N]\n",
      "   115     53.3 MiB      0.0 MiB           1               N_list_idx[idx_x_N] = aux\n",
      "   116                                                     \n",
      "   117     53.3 MiB      0.0 MiB           1               aux = c_B[idx_x_B]\n",
      "   118     53.3 MiB      0.0 MiB           1               c_B[idx_x_B] = c_N[idx_x_N]\n",
      "   119     53.3 MiB      0.0 MiB           1               c_N[idx_x_N] = aux\n",
      "   120                                                     \n",
      "   121     53.3 MiB      0.0 MiB           1               nu = np.linalg.solve(B.T, c_B)\n",
      "   122                                                     \n",
      "   123     53.3 MiB      0.0 MiB           1               lista = []\n",
      "   124     53.3 MiB      0.0 MiB           1               i = 0\n",
      "   125     53.3 MiB      0.0 MiB           8               for lambda_ in c_N:\n",
      "   126     53.3 MiB      0.0 MiB           7                   lista.append (-lambda_ + np.dot(nu, A[:, N_list_idx[i]]))\n",
      "   127     53.3 MiB      0.0 MiB           7                   i = i + 1\n",
      "   128     53.3 MiB      0.0 MiB           1               idx_x_N = lista.index(max(lista))\n",
      "   129                                                 \n",
      "   130     53.3 MiB      0.0 MiB           1           solution = []\n",
      "   131                                         \n",
      "   132     53.3 MiB      0.0 MiB           8           for indice in range(0,n_c_N):\n",
      "   133     53.3 MiB      0.0 MiB           7               j=0\n",
      "   134     53.3 MiB      0.0 MiB          28               for indice2 in range(0,len(B_list_idx)):\n",
      "   135     53.3 MiB      0.0 MiB          21                   if B_list_idx[indice2] == indice:\n",
      "   136     53.3 MiB      0.0 MiB           1                       solution.append(x_B[indice2])\n",
      "   137     53.3 MiB      0.0 MiB           1                       j = j + 1\n",
      "   138     53.3 MiB      0.0 MiB          20                   elif (indice2 == len(B_list_idx) - 1 and j == 0):\n",
      "   139     53.3 MiB      0.0 MiB           6                       solution.append(0) \n",
      "   140                                                             \n",
      "   141     53.3 MiB      0.0 MiB           1           if verbose == True:\n",
      "   142                                                     print(\"Optimization completed successfully !\") \n",
      "   143                                                     print(\"Solution for x vector:\") \n",
      "   144                                                     self.x = solution\n",
      "   145                                                     print(solution) \n",
      "   146                                                 \n",
      "   147     53.3 MiB      0.0 MiB           1           status = 0\n",
      "   148     53.3 MiB      0.0 MiB           1           n = len(solution)\n",
      "   149     53.3 MiB      0.0 MiB           1           opt = 0\n",
      "   150     53.3 MiB      0.0 MiB           8           for i in range(n):\n",
      "   151     53.3 MiB      0.0 MiB           7               opt += solution[i]* costo[i]\n",
      "   152     53.3 MiB      0.0 MiB           1           if verbose == True:\n",
      "   153                                                     print(\"Optimal value:\")\n",
      "   154                                                     print(opt)\n",
      "   155                                                     \n",
      "   156     53.3 MiB      0.0 MiB           1           print(\"Solution for x vector, optimization value and status:\")\n",
      "   157                                                     \n",
      "   158                                                 #Solucion    \n",
      "   159     53.3 MiB      0.0 MiB           1           self.x = solution\n",
      "   160     53.3 MiB      0.0 MiB           1           return solution, opt, status\n",
      "\n",
      "\n"
     ]
    }
   ],
   "source": [
    "%%bash\n",
    "python3 run_Simplex_memory_profiler.py"
   ]
  },
  {
   "cell_type": "markdown",
   "metadata": {
    "tags": []
   },
   "source": [
    "### guppy"
   ]
  },
  {
   "cell_type": "markdown",
   "metadata": {
    "tags": []
   },
   "source": [
    "#### Versión 0"
   ]
  },
  {
   "cell_type": "code",
   "execution_count": 27,
   "metadata": {},
   "outputs": [
    {
     "name": "stdout",
     "output_type": "stream",
     "text": [
      "Overwriting heapy_ex_1\n"
     ]
    }
   ],
   "source": [
    "%%file heapy_ex_1\n",
    "from versiones import Simplex_v0\n",
    "\n",
    "from guppy import hpy\n",
    "\n",
    "hp = hpy()\n",
    "hp.setrelheap() #Everything allocated before this call will not be in the objects you get later.\n",
    "c = [3, 5]\n",
    "b = [4, 12, 18]\n",
    "A = [[1,  0],\n",
    "    [0,  2],\n",
    "    [3, 2]]\n",
    "problema = Simplex_v0.Simplex(c,A,b,problem='Max')\n",
    "method_result, opt, status = problema.solve()\n",
    "h = hp.heap()\n",
    "print(h)"
   ]
  },
  {
   "cell_type": "code",
   "execution_count": 28,
   "metadata": {},
   "outputs": [
    {
     "name": "stdout",
     "output_type": "stream",
     "text": [
      "Optimization completed successfully !\n",
      "Solution for x vector:\n",
      "[2.0, 6.0]\n",
      "Optimal value:\n",
      "-36.0\n",
      "Partition of a set of 23 objects. Total size = 2159 bytes.\n",
      " Index  Count   %     Size   % Cumulative  % Kind (class / dict of class)\n",
      "     0      8  35      784  36       784  36 list\n",
      "     1      1   4      432  20      1216  56 types.FrameType\n",
      "     2      3  13      392  18      1608  74 numpy.ndarray\n",
      "     3      6  26      287  13      1895  88 bytes\n",
      "     4      1   4      112   5      2007  93 dict of versiones.Simplex_v0.Simplex\n",
      "     5      3  13       96   4      2103  97 numpy.float64\n",
      "     6      1   4       56   3      2159 100 versiones.Simplex_v0.Simplex\n"
     ]
    }
   ],
   "source": [
    "%%bash\n",
    "python3 heapy_ex_1"
   ]
  },
  {
   "cell_type": "code",
   "execution_count": 29,
   "metadata": {},
   "outputs": [
    {
     "name": "stdout",
     "output_type": "stream",
     "text": [
      "Writing heapy_ex_1_new\n"
     ]
    }
   ],
   "source": [
    "%%file heapy_ex_1_new\n",
    "import Simplex as Simplex\n",
    "\n",
    "from guppy import hpy\n",
    "\n",
    "hp = hpy()\n",
    "hp.setrelheap() #Everything allocated before this call will not be in the objects you get later.\n",
    "c = [3, 5]\n",
    "b = [4, 12, 18]\n",
    "A = [[1,  0],\n",
    "    [0,  2],\n",
    "    [3, 2]]\n",
    "problema = Simplex.Simplex(c,A,b,problem='Max')\n",
    "method_result, opt, status = problema.solve()\n",
    "h = hp.heap()\n",
    "print(h)"
   ]
  },
  {
   "cell_type": "code",
   "execution_count": 30,
   "metadata": {},
   "outputs": [
    {
     "name": "stdout",
     "output_type": "stream",
     "text": [
      "Solution for x vector, optimization value and status:\n",
      "Partition of a set of 19 objects. Total size = 1936 bytes.\n",
      " Index  Count   %     Size   % Cumulative  % Kind (class / dict of class)\n",
      "     0      8  42      688  36       688  36 list\n",
      "     1      1   5      432  22      1120  58 types.FrameType\n",
      "     2      3  16      392  20      1512  78 numpy.ndarray\n",
      "     3      1   5      152   8      1664  86 dict of Simplex.Simplex\n",
      "     4      2  11      120   6      1784  92 bytes\n",
      "     5      3  16       96   5      1880  97 numpy.float64\n",
      "     6      1   5       56   3      1936 100 Simplex.Simplex\n"
     ]
    }
   ],
   "source": [
    "%%bash\n",
    "python3 heapy_ex_1_new"
   ]
  },
  {
   "cell_type": "markdown",
   "metadata": {
    "tags": []
   },
   "source": [
    "### Conclusiones"
   ]
  },
  {
   "cell_type": "markdown",
   "metadata": {
    "tags": []
   },
   "source": [
    "Decidimos mejorar el tiempo de nuestro código, sin embargo, también hicimos el perfilamiento en memoria. Observamos que sí hubo una mejora en el tiempo pero que afecto de manera negativa en el conusmo de memoria, aunque fue mínimo."
   ]
  }
 ],
 "metadata": {
  "kernelspec": {
   "display_name": "Python 3",
   "language": "python",
   "name": "python3"
  },
  "kubeflow_notebook": {
   "autosnapshot": false,
   "docker_image": "",
   "experiment": {
    "id": "",
    "name": ""
   },
   "experiment_name": "",
   "katib_metadata": {
    "algorithm": {
     "algorithmName": "grid"
    },
    "maxFailedTrialCount": 3,
    "maxTrialCount": 12,
    "objective": {
     "objectiveMetricName": "",
     "type": "minimize"
    },
    "parallelTrialCount": 3,
    "parameters": []
   },
   "katib_run": false,
   "pipeline_description": "",
   "pipeline_name": "",
   "snapshot_volumes": false,
   "steps_defaults": [],
   "volume_access_mode": "rwm",
   "volumes": []
  },
  "language_info": {
   "codemirror_mode": {
    "name": "ipython",
    "version": 3
   },
   "file_extension": ".py",
   "mimetype": "text/x-python",
   "name": "python",
   "nbconvert_exporter": "python",
   "pygments_lexer": "ipython3",
   "version": "3.6.9"
  }
 },
 "nbformat": 4,
 "nbformat_minor": 5
}

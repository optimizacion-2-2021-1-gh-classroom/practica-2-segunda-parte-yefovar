{
 "cells": [
  {
   "cell_type": "markdown",
   "metadata": {},
   "source": [
    "# Perfilamiento sobre algoritmo Simplex con Blas\n",
    "\n",
    "### 1. Medición de tiempo\n",
    "\n",
    "Características de la instancia que utilizamos para el perfilamiento"
   ]
  },
  {
   "cell_type": "code",
   "execution_count": 1,
   "metadata": {},
   "outputs": [
    {
     "name": "stdout",
     "output_type": "stream",
     "text": [
      "Architecture:        x86_64\n",
      "CPU op-mode(s):      32-bit, 64-bit\n",
      "Byte Order:          Little Endian\n",
      "CPU(s):              8\n",
      "On-line CPU(s) list: 0-7\n",
      "Thread(s) per core:  2\n",
      "Core(s) per socket:  4\n",
      "Socket(s):           1\n",
      "NUMA node(s):        1\n",
      "Vendor ID:           GenuineIntel\n",
      "CPU family:          6\n",
      "Model:               85\n",
      "Model name:          Intel(R) Xeon(R) Platinum 8175M CPU @ 2.50GHz\n",
      "Stepping:            4\n",
      "CPU MHz:             3100.201\n",
      "BogoMIPS:            5000.00\n",
      "Hypervisor vendor:   KVM\n",
      "Virtualization type: full\n",
      "L1d cache:           32K\n",
      "L1i cache:           32K\n",
      "L2 cache:            1024K\n",
      "L3 cache:            33792K\n",
      "NUMA node0 CPU(s):   0-7\n",
      "Flags:               fpu vme de pse tsc msr pae mce cx8 apic sep mtrr pge mca cmov pat pse36 clflush mmx fxsr sse sse2 ss ht syscall nx pdpe1gb rdtscp lm constant_tsc rep_good nopl xtopology nonstop_tsc cpuid aperfmperf tsc_known_freq pni pclmulqdq ssse3 fma cx16 pcid sse4_1 sse4_2 x2apic movbe popcnt tsc_deadline_timer aes xsave avx f16c rdrand hypervisor lahf_lm abm 3dnowprefetch invpcid_single pti fsgsbase tsc_adjust bmi1 hle avx2 smep bmi2 erms invpcid rtm mpx avx512f avx512dq rdseed adx smap clflushopt clwb avx512cd avx512bw avx512vl xsaveopt xsavec xgetbv1 xsaves ida arat pku ospke\n"
     ]
    }
   ],
   "source": [
    "%%bash\n",
    "lscpu"
   ]
  },
  {
   "cell_type": "code",
   "execution_count": 2,
   "metadata": {},
   "outputs": [
    {
     "name": "stdout",
     "output_type": "stream",
     "text": [
      "  *-memory\n",
      "       description: System memory\n",
      "       physical id: 0\n",
      "       size: 30GiB\n"
     ]
    }
   ],
   "source": [
    "%%bash\n",
    "sudo lshw -C memory"
   ]
  },
  {
   "cell_type": "code",
   "execution_count": 3,
   "metadata": {},
   "outputs": [],
   "source": [
    "import math\n",
    "import time\n",
    "from versiones import Simplex_v0\n",
    "import numpy as np\n",
    "from pytest import approx\n",
    "from scipy.optimize import linprog"
   ]
  },
  {
   "cell_type": "markdown",
   "metadata": {},
   "source": [
    "### Módulo time\n",
    "\n",
    "Ejemplo Maximización para evualuar tiempo de ejecución"
   ]
  },
  {
   "cell_type": "code",
   "execution_count": 4,
   "metadata": {},
   "outputs": [
    {
     "name": "stdout",
     "output_type": "stream",
     "text": [
      "Optimization completed successfully !\n",
      "Solution for x vector:\n",
      "[2.0, 6.0]\n",
      "Optimal value:\n",
      "-36.0\n",
      "Simplex algorithm tomó 0.0009992122650146484 segundos\n"
     ]
    }
   ],
   "source": [
    "c = [3, 5]\n",
    "b = [4, 12, 18]\n",
    "A = [[1,  0],\n",
    "    [0,  2],\n",
    "    [3, 2]]\n",
    "\n",
    "start_time = time.time()\n",
    "problema = Simplex_v0.Simplex(c,A,b,problem='Max')\n",
    "method_result, opt, status = problema.solve()\n",
    "end_time = time.time()\n",
    "secs = end_time-start_time\n",
    "print(\"Simplex algorithm tomó\",secs,\"segundos\" )"
   ]
  },
  {
   "cell_type": "markdown",
   "metadata": {},
   "source": [
    "Con Scipy"
   ]
  },
  {
   "cell_type": "code",
   "execution_count": 5,
   "metadata": {},
   "outputs": [
    {
     "name": "stdout",
     "output_type": "stream",
     "text": [
      "Scipy  tomó 0.0031871795654296875 segundos\n"
     ]
    }
   ],
   "source": [
    "c_scipu=[-3, -5]\n",
    "\n",
    "start_time = time.time()\n",
    "opt = linprog(c=c_scipu, A_ub=A, b_ub=b,\n",
    "              method=\"simplex\")\n",
    "end_time = time.time()\n",
    "secs = end_time-start_time\n",
    "print(\"Scipy  tomó\",secs,\"segundos\" )"
   ]
  },
  {
   "cell_type": "markdown",
   "metadata": {},
   "source": [
    "Obs. En esta primera parte nos damos cuenta que el algoritmo implementado es un poco más rápido que el de Scipy."
   ]
  },
  {
   "cell_type": "markdown",
   "metadata": {},
   "source": [
    "### Comando Magic %time"
   ]
  },
  {
   "cell_type": "code",
   "execution_count": 6,
   "metadata": {},
   "outputs": [
    {
     "name": "stdout",
     "output_type": "stream",
     "text": [
      "Optimization completed successfully !\n",
      "Solution for x vector:\n",
      "[0, 0]\n",
      "Optimal value:\n",
      "0\n",
      "CPU times: user 365 µs, sys: 95 µs, total: 460 µs\n",
      "Wall time: 302 µs\n"
     ]
    },
    {
     "data": {
      "text/plain": [
       "([0, 0], 0, 0)"
      ]
     },
     "execution_count": 6,
     "metadata": {},
     "output_type": "execute_result"
    }
   ],
   "source": [
    "%time problema.solve()"
   ]
  },
  {
   "cell_type": "markdown",
   "metadata": {},
   "source": [
    "### Cprofile\n",
    "\n",
    "Para poder visualizar en que secciones de código se tarda más"
   ]
  },
  {
   "cell_type": "code",
   "execution_count": 7,
   "metadata": {},
   "outputs": [],
   "source": [
    "import cProfile"
   ]
  },
  {
   "cell_type": "code",
   "execution_count": 8,
   "metadata": {},
   "outputs": [
    {
     "name": "stdout",
     "output_type": "stream",
     "text": [
      "Optimization completed successfully !\n",
      "Solution for x vector:\n",
      "[2.0, 6.0]\n",
      "Optimal value:\n",
      "-36.0\n",
      "         476 function calls in 0.001 seconds\n",
      "\n",
      "   Ordered by: cumulative time\n",
      "\n",
      "   ncalls  tottime  percall  cumtime  percall filename:lineno(function)\n",
      "        3    0.000    0.000    0.001    0.000 interactiveshell.py:3288(run_code)\n",
      "        3    0.000    0.000    0.001    0.000 {built-in method builtins.exec}\n",
      "        1    0.000    0.000    0.001    0.001 <ipython-input-8-7a7c5a5f5a9a>:4(<module>)\n",
      "        1    0.000    0.000    0.001    0.001 Simplex_v0.py:44(solve)\n",
      "        5    0.000    0.000    0.000    0.000 {built-in method builtins.print}\n",
      "       10    0.000    0.000    0.000    0.000 iostream.py:384(write)\n",
      "       16    0.000    0.000    0.000    0.000 {built-in method numpy.core._multiarray_umath.implement_array_function}\n",
      "       11    0.000    0.000    0.000    0.000 iostream.py:195(schedule)\n",
      "        4    0.000    0.000    0.000    0.000 <__array_function__ internals>:2(solve)\n",
      "        4    0.000    0.000    0.000    0.000 linalg.py:314(solve)\n",
      "       11    0.000    0.000    0.000    0.000 socket.py:438(send)\n",
      "        1    0.000    0.000    0.000    0.000 index_tricks.py:316(__getitem__)\n",
      "        3    0.000    0.000    0.000    0.000 codeop.py:132(__call__)\n",
      "        3    0.000    0.000    0.000    0.000 {built-in method builtins.compile}\n",
      "        6    0.000    0.000    0.000    0.000 <__array_function__ internals>:2(dot)\n",
      "       16    0.000    0.000    0.000    0.000 {built-in method numpy.array}\n",
      "        1    0.000    0.000    0.000    0.000 <ipython-input-8-7a7c5a5f5a9a>:3(<module>)\n",
      "        1    0.000    0.000    0.000    0.000 Simplex_v0.py:9(__init__)\n",
      "        1    0.000    0.000    0.000    0.000 numerictypes.py:569(find_common_type)\n",
      "        4    0.000    0.000    0.000    0.000 linalg.py:135(_commonType)\n",
      "       11    0.000    0.000    0.000    0.000 threading.py:1104(is_alive)\n",
      "        2    0.000    0.000    0.000    0.000 numerictypes.py:545(_can_coerce_all)\n",
      "        1    0.000    0.000    0.000    0.000 <__array_function__ internals>:2(copy)\n",
      "       10    0.000    0.000    0.000    0.000 iostream.py:321(_schedule_flush)\n",
      "        8    0.000    0.000    0.000    0.000 linalg.py:107(_makearray)\n",
      "        2    0.000    0.000    0.000    0.000 {method 'all' of 'numpy.ndarray' objects}\n",
      "        2    0.000    0.000    0.000    0.000 _methods.py:56(_all)\n",
      "        1    0.000    0.000    0.000    0.000 <__array_function__ internals>:2(concatenate)\n",
      "       10    0.000    0.000    0.000    0.000 iostream.py:308(_is_master_process)\n",
      "       11    0.000    0.000    0.000    0.000 threading.py:1062(_wait_for_tstate_lock)\n",
      "        2    0.000    0.000    0.000    0.000 twodim_base.py:152(eye)\n",
      "        1    0.000    0.000    0.000    0.000 function_base.py:714(copy)\n",
      "        2    0.000    0.000    0.000    0.000 {method 'reduce' of 'numpy.ufunc' objects}\n",
      "        3    0.000    0.000    0.000    0.000 contextlib.py:157(helper)\n",
      "       14    0.000    0.000    0.000    0.000 {built-in method builtins.getattr}\n",
      "        5    0.000    0.000    0.000    0.000 {built-in method numpy.zeros}\n",
      "        8    0.000    0.000    0.000    0.000 linalg.py:125(_realType)\n",
      "       10    0.000    0.000    0.000    0.000 {built-in method posix.getpid}\n",
      "        4    0.000    0.000    0.000    0.000 {method 'astype' of 'numpy.ndarray' objects}\n",
      "        3    0.000    0.000    0.000    0.000 contextlib.py:59(__init__)\n",
      "        6    0.000    0.000    0.000    0.000 {built-in method builtins.next}\n",
      "        2    0.000    0.000    0.000    0.000 <__array_function__ internals>:2(size)\n",
      "        3    0.000    0.000    0.000    0.000 contextlib.py:85(__exit__)\n",
      "        3    0.000    0.000    0.000    0.000 contextlib.py:79(__enter__)\n",
      "        2    0.000    0.000    0.000    0.000 {built-in method builtins.min}\n",
      "       12    0.000    0.000    0.000    0.000 linalg.py:112(isComplexType)\n",
      "        8    0.000    0.000    0.000    0.000 _asarray.py:14(asarray)\n",
      "       11    0.000    0.000    0.000    0.000 {method 'acquire' of '_thread.lock' objects}\n",
      "       14    0.000    0.000    0.000    0.000 numerictypes.py:554(<listcomp>)\n",
      "       11    0.000    0.000    0.000    0.000 iostream.py:91(_event_pipe)\n",
      "        6    0.000    0.000    0.000    0.000 compilerop.py:138(extra_flags)\n",
      "        2    0.000    0.000    0.000    0.000 <__array_function__ internals>:2(ndim)\n",
      "        3    0.000    0.000    0.000    0.000 traitlets.py:545(__get__)\n",
      "        8    0.000    0.000    0.000    0.000 {method 'get' of 'dict' objects}\n",
      "        5    0.000    0.000    0.000    0.000 {method 'index' of 'list' objects}\n",
      "        4    0.000    0.000    0.000    0.000 linalg.py:102(get_linalg_error_extobj)\n",
      "        3    0.000    0.000    0.000    0.000 hooks.py:142(__call__)\n",
      "        3    0.000    0.000    0.000    0.000 interactiveshell.py:117(<lambda>)\n",
      "        3    0.000    0.000    0.000    0.000 ipstruct.py:125(__getattr__)\n",
      "        3    0.000    0.000    0.000    0.000 {built-in method builtins.max}\n",
      "        1    0.000    0.000    0.000    0.000 <ipython-input-8-7a7c5a5f5a9a>:5(<module>)\n",
      "        4    0.000    0.000    0.000    0.000 linalg.py:200(_assert_stacked_square)\n",
      "       11    0.000    0.000    0.000    0.000 {method 'append' of 'collections.deque' objects}\n",
      "       18    0.000    0.000    0.000    0.000 {built-in method builtins.isinstance}\n",
      "       20    0.000    0.000    0.000    0.000 {built-in method builtins.issubclass}\n",
      "        4    0.000    0.000    0.000    0.000 linalg.py:194(_assert_stacked_2d)\n",
      "       18    0.000    0.000    0.000    0.000 {method 'append' of 'list' objects}\n",
      "        2    0.000    0.000    0.000    0.000 fromnumeric.py:3071(_ndim_dispatcher)\n",
      "        2    0.000    0.000    0.000    0.000 fromnumeric.py:3075(ndim)\n",
      "        2    0.000    0.000    0.000    0.000 fromnumeric.py:3117(size)\n",
      "        1    0.000    0.000    0.000    0.000 numerictypes.py:621(<listcomp>)\n",
      "        3    0.000    0.000    0.000    0.000 interactiveshell.py:1272(user_global_ns)\n",
      "        3    0.000    0.000    0.000    0.000 traitlets.py:526(get)\n",
      "       23    0.000    0.000    0.000    0.000 {built-in method builtins.len}\n",
      "        4    0.000    0.000    0.000    0.000 {method '__array_prepare__' of 'numpy.ndarray' objects}\n",
      "        1    0.000    0.000    0.000    0.000 numerictypes.py:622(<listcomp>)\n",
      "        3    0.000    0.000    0.000    0.000 hooks.py:207(pre_run_code_hook)\n",
      "        4    0.000    0.000    0.000    0.000 linalg.py:310(_solve_dispatcher)\n",
      "        1    0.000    0.000    0.000    0.000 function_base.py:710(_copy_dispatcher)\n",
      "        2    0.000    0.000    0.000    0.000 fromnumeric.py:3113(_size_dispatcher)\n",
      "        1    0.000    0.000    0.000    0.000 multiarray.py:143(concatenate)\n",
      "        6    0.000    0.000    0.000    0.000 multiarray.py:706(dot)\n",
      "        1    0.000    0.000    0.000    0.000 {method 'disable' of '_lsprof.Profiler' objects}\n",
      "        3    0.000    0.000    0.000    0.000 interactiveshell.py:3230(compare)\n",
      "       11    0.000    0.000    0.000    0.000 threading.py:506(is_set)\n",
      "\n",
      "\n"
     ]
    }
   ],
   "source": [
    "cprof = cProfile.Profile()\n",
    "cprof.enable()\n",
    "problema = Simplex_v0.Simplex(c,A,b,problem='Max')\n",
    "method_result, opt, status = problema.solve()\n",
    "cprof.disable()\n",
    "cprof.print_stats(sort='cumtime')"
   ]
  },
  {
   "cell_type": "code",
   "execution_count": 9,
   "metadata": {},
   "outputs": [],
   "source": [
    "import pstats\n",
    "\n",
    "cprof.dump_stats(\"Simplex_stats\")"
   ]
  },
  {
   "cell_type": "code",
   "execution_count": 10,
   "metadata": {},
   "outputs": [
    {
     "name": "stdout",
     "output_type": "stream",
     "text": [
      "Sun May  9 15:22:09 2021    Simplex_stats\n",
      "\n",
      "         476 function calls in 0.001 seconds\n",
      "\n",
      "   Ordered by: cumulative time\n",
      "   List reduced from 85 to 10 due to restriction <10>\n",
      "\n",
      "   ncalls  tottime  percall  cumtime  percall filename:lineno(function)\n",
      "        3    0.000    0.000    0.001    0.000 /usr/local/lib/python3.6/dist-packages/IPython/core/interactiveshell.py:3288(run_code)\n",
      "        3    0.000    0.000    0.001    0.000 {built-in method builtins.exec}\n",
      "        1    0.000    0.000    0.001    0.001 <ipython-input-8-7a7c5a5f5a9a>:4(<module>)\n",
      "        1    0.000    0.000    0.001    0.001 /shared_volume/practica-2-segunda-parte-yefovar/perfilamiento/versiones/Simplex_v0.py:44(solve)\n",
      "        5    0.000    0.000    0.000    0.000 {built-in method builtins.print}\n",
      "       10    0.000    0.000    0.000    0.000 /usr/local/lib/python3.6/dist-packages/ipykernel/iostream.py:384(write)\n",
      "       16    0.000    0.000    0.000    0.000 {built-in method numpy.core._multiarray_umath.implement_array_function}\n",
      "       11    0.000    0.000    0.000    0.000 /usr/local/lib/python3.6/dist-packages/ipykernel/iostream.py:195(schedule)\n",
      "        4    0.000    0.000    0.000    0.000 <__array_function__ internals>:2(solve)\n",
      "        4    0.000    0.000    0.000    0.000 /usr/local/lib/python3.6/dist-packages/numpy/linalg/linalg.py:314(solve)\n",
      "\n",
      "\n",
      "<pstats.Stats object at 0x7efc99fc99e8>\n"
     ]
    }
   ],
   "source": [
    "p_simplex_stats = pstats.Stats(\"Simplex_stats\")\n",
    "print(p_simplex_stats.sort_stats(\"cumulative\").print_stats(10))"
   ]
  },
  {
   "cell_type": "code",
   "execution_count": 11,
   "metadata": {},
   "outputs": [
    {
     "name": "stdout",
     "output_type": "stream",
     "text": [
      "Sun May  9 15:22:09 2021    Simplex_stats\n",
      "\n",
      "         476 function calls in 0.001 seconds\n",
      "\n",
      "   Ordered by: cumulative time\n",
      "   List reduced from 85 to 7 due to restriction <'solve|module'>\n",
      "\n",
      "   ncalls  tottime  percall  cumtime  percall filename:lineno(function)\n",
      "        1    0.000    0.000    0.001    0.001 <ipython-input-8-7a7c5a5f5a9a>:4(<module>)\n",
      "        1    0.000    0.000    0.001    0.001 /shared_volume/practica-2-segunda-parte-yefovar/perfilamiento/versiones/Simplex_v0.py:44(solve)\n",
      "        4    0.000    0.000    0.000    0.000 <__array_function__ internals>:2(solve)\n",
      "        4    0.000    0.000    0.000    0.000 /usr/local/lib/python3.6/dist-packages/numpy/linalg/linalg.py:314(solve)\n",
      "        1    0.000    0.000    0.000    0.000 <ipython-input-8-7a7c5a5f5a9a>:3(<module>)\n",
      "        1    0.000    0.000    0.000    0.000 <ipython-input-8-7a7c5a5f5a9a>:5(<module>)\n",
      "        4    0.000    0.000    0.000    0.000 /usr/local/lib/python3.6/dist-packages/numpy/linalg/linalg.py:310(_solve_dispatcher)\n",
      "\n",
      "\n",
      "<pstats.Stats object at 0x7efc99fc99e8>\n"
     ]
    }
   ],
   "source": [
    "print(p_simplex_stats.sort_stats(\"cumulative\").print_stats(\"solve|module\"))"
   ]
  },
  {
   "cell_type": "code",
   "execution_count": 12,
   "metadata": {},
   "outputs": [
    {
     "name": "stdout",
     "output_type": "stream",
     "text": [
      "476\n"
     ]
    }
   ],
   "source": [
    "#numero de llamadas a funciones primitivas\n",
    "print(p_simplex_stats.prim_calls)"
   ]
  },
  {
   "cell_type": "code",
   "execution_count": 13,
   "metadata": {},
   "outputs": [
    {
     "name": "stdout",
     "output_type": "stream",
     "text": [
      "   Ordered by: cumulative time\n",
      "   List reduced from 85 to 10 due to restriction <10>\n",
      "\n",
      "Function                                                                 was called by...\n",
      "                                                                             ncalls  tottime  cumtime\n",
      "interactiveshell.py:3288(run_code)                                       <- \n",
      "{built-in method builtins.exec}                                          <-       3    0.000    0.001  interactiveshell.py:3288(run_code)\n",
      "<ipython-input-8-7a7c5a5f5a9a>:4(<module>)                               <-       1    0.000    0.001  {built-in method builtins.exec}\n",
      "Simplex_v0.py:44(solve)                                                  <-       1    0.000    0.001  <ipython-input-8-7a7c5a5f5a9a>:4(<module>)\n",
      "{built-in method builtins.print}                                         <-       5    0.000    0.000  Simplex_v0.py:44(solve)\n",
      "iostream.py:384(write)                                                   <-      10    0.000    0.000  {built-in method builtins.print}\n",
      "{built-in method numpy.core._multiarray_umath.implement_array_function}  <-       1    0.000    0.000  <__array_function__ internals>:2(concatenate)\n",
      "                                                                                  1    0.000    0.000  <__array_function__ internals>:2(copy)\n",
      "                                                                                  6    0.000    0.000  <__array_function__ internals>:2(dot)\n",
      "                                                                                  2    0.000    0.000  <__array_function__ internals>:2(ndim)\n",
      "                                                                                  2    0.000    0.000  <__array_function__ internals>:2(size)\n",
      "                                                                                  4    0.000    0.000  <__array_function__ internals>:2(solve)\n",
      "iostream.py:195(schedule)                                                <-       1    0.000    0.000  iostream.py:321(_schedule_flush)\n",
      "                                                                                 10    0.000    0.000  iostream.py:384(write)\n",
      "<__array_function__ internals>:2(solve)                                  <-       4    0.000    0.000  Simplex_v0.py:44(solve)\n",
      "linalg.py:314(solve)                                                     <-       4    0.000    0.000  {built-in method numpy.core._multiarray_umath.implement_array_function}\n",
      "\n",
      "\n"
     ]
    },
    {
     "data": {
      "text/plain": [
       "<pstats.Stats at 0x7efc99fc99e8>"
      ]
     },
     "execution_count": 13,
     "metadata": {},
     "output_type": "execute_result"
    }
   ],
   "source": [
    "p_simplex_stats.strip_dirs().sort_stats(\"cumulative\").print_callers(10)"
   ]
  },
  {
   "cell_type": "code",
   "execution_count": 14,
   "metadata": {},
   "outputs": [
    {
     "name": "stdout",
     "output_type": "stream",
     "text": [
      "   Ordered by: cumulative time\n",
      "   List reduced from 85 to 10 due to restriction <'print|dot|ndim|solve'>\n",
      "\n",
      "Function                                 called...\n",
      "                                             ncalls  tottime  cumtime\n",
      "Simplex_v0.py:44(solve)                  ->       1    0.000    0.000  <__array_function__ internals>:2(copy)\n",
      "                                                  6    0.000    0.000  <__array_function__ internals>:2(dot)\n",
      "                                                  2    0.000    0.000  <__array_function__ internals>:2(size)\n",
      "                                                  4    0.000    0.000  <__array_function__ internals>:2(solve)\n",
      "                                                  1    0.000    0.000  index_tricks.py:316(__getitem__)\n",
      "                                                  2    0.000    0.000  twodim_base.py:152(eye)\n",
      "                                                  7    0.000    0.000  {built-in method builtins.len}\n",
      "                                                  3    0.000    0.000  {built-in method builtins.max}\n",
      "                                                  2    0.000    0.000  {built-in method builtins.min}\n",
      "                                                  5    0.000    0.000  {built-in method builtins.print}\n",
      "                                                  2    0.000    0.000  {built-in method numpy.array}\n",
      "                                                  2    0.000    0.000  {built-in method numpy.zeros}\n",
      "                                                  2    0.000    0.000  {method 'all' of 'numpy.ndarray' objects}\n",
      "                                                 14    0.000    0.000  {method 'append' of 'list' objects}\n",
      "                                                  5    0.000    0.000  {method 'index' of 'list' objects}\n",
      "{built-in method builtins.print}         ->      10    0.000    0.000  iostream.py:384(write)\n",
      "<__array_function__ internals>:2(solve)  ->       4    0.000    0.000  linalg.py:310(_solve_dispatcher)\n",
      "                                                  4    0.000    0.000  {built-in method numpy.core._multiarray_umath.implement_array_function}\n",
      "linalg.py:314(solve)                     ->       4    0.000    0.000  linalg.py:102(get_linalg_error_extobj)\n",
      "                                                  8    0.000    0.000  linalg.py:107(_makearray)\n",
      "                                                  4    0.000    0.000  linalg.py:112(isComplexType)\n",
      "                                                  4    0.000    0.000  linalg.py:135(_commonType)\n",
      "                                                  4    0.000    0.000  linalg.py:194(_assert_stacked_2d)\n",
      "                                                  4    0.000    0.000  linalg.py:200(_assert_stacked_square)\n",
      "                                                  4    0.000    0.000  {method '__array_prepare__' of 'numpy.ndarray' objects}\n",
      "                                                  4    0.000    0.000  {method 'astype' of 'numpy.ndarray' objects}\n",
      "<__array_function__ internals>:2(dot)    ->       6    0.000    0.000  multiarray.py:706(dot)\n",
      "                                                  6    0.000    0.000  {built-in method numpy.core._multiarray_umath.implement_array_function}\n",
      "<__array_function__ internals>:2(ndim)   ->       2    0.000    0.000  fromnumeric.py:3071(_ndim_dispatcher)\n",
      "                                                  2    0.000    0.000  {built-in method numpy.core._multiarray_umath.implement_array_function}\n",
      "fromnumeric.py:3071(_ndim_dispatcher)    -> \n",
      "fromnumeric.py:3075(ndim)                -> \n",
      "linalg.py:310(_solve_dispatcher)         -> \n",
      "multiarray.py:706(dot)                   -> \n",
      "\n",
      "\n"
     ]
    },
    {
     "data": {
      "text/plain": [
       "<pstats.Stats at 0x7efc99fc99e8>"
      ]
     },
     "execution_count": 14,
     "metadata": {},
     "output_type": "execute_result"
    }
   ],
   "source": [
    "p_simplex_stats.strip_dirs().sort_stats(\"cumulative\").print_callees(\"print|dot|ndim|solve\")"
   ]
  },
  {
   "cell_type": "markdown",
   "metadata": {},
   "source": [
    "### Lineprofiler\n",
    "\n",
    "Para saber línea por línea en que parte nuestro algoritmo se está tardano más en ejecutar"
   ]
  },
  {
   "cell_type": "code",
   "execution_count": 15,
   "metadata": {},
   "outputs": [
    {
     "name": "stdout",
     "output_type": "stream",
     "text": [
      "Optimization completed successfully !\n",
      "Solution for x vector:\n",
      "[2.0, 6.0]\n",
      "Optimal value:\n",
      "-36.0\n",
      "([2.0, 6.0], -36.0, 0)\n"
     ]
    }
   ],
   "source": [
    "import line_profiler\n",
    "\n",
    "problema = Simplex_v0.Simplex(c,A,b,problem='Max')\n",
    "line_prof = line_profiler.LineProfiler()\n",
    "print(line_prof(problema.solve)())"
   ]
  },
  {
   "cell_type": "code",
   "execution_count": 16,
   "metadata": {},
   "outputs": [
    {
     "name": "stdout",
     "output_type": "stream",
     "text": [
      "Timer unit: 1e-06 s\n",
      "\n",
      "Total time: 0.000814 s\n",
      "File: /shared_volume/practica-2-segunda-parte-yefovar/perfilamiento/versiones/Simplex_v0.py\n",
      "Function: solve at line 44\n",
      "\n",
      "Line #      Hits         Time  Per Hit   % Time  Line Contents\n",
      "==============================================================\n",
      "    44                                               def solve(self):\n",
      "    45                                                   \n",
      "    46                                                   \"\"\"\n",
      "    47                                                   Solves the simplex algorithm. \n",
      "    48                                                   Returns\n",
      "    49                                                   -------\n",
      "    50                                                   :solution: Numpy array with solution\n",
      "    51                                                   \"\"\"\n",
      "    52         1          2.0      2.0      0.2          problem = self.problem\n",
      "    53         1          1.0      1.0      0.1          c_N = self.c\n",
      "    54         1          1.0      1.0      0.1          A = self.A\n",
      "    55         1          1.0      1.0      0.1          b = self.b\n",
      "    56         1          0.0      0.0      0.0          status = []\n",
      "    57         1         16.0     16.0      2.0          costo = np.copy(c_N)\n",
      "    58                                                 \n",
      "    59         1          1.0      1.0      0.1          n_c_N = c_N.size\n",
      "    60         1          8.0      8.0      1.0          n_A = np.size(A,0)\n",
      "    61         1         16.0     16.0      2.0          identity_A = np.eye(n_A)\n",
      "    62         1          5.0      5.0      0.6          B = np.eye(n_A)\n",
      "    63         1        105.0    105.0     12.9          A = np.c_[A,identity_A]\n",
      "    64                                                   \n",
      "    65         1          1.0      1.0      0.1          n_b = b.size\n",
      "    66         1          0.0      0.0      0.0          x_B = b\n",
      "    67                                                   \n",
      "    68         1          3.0      3.0      0.4          c_B = np.zeros(n_b)\n",
      "    69                                                   \n",
      "    70         1          3.0      3.0      0.4          n_A_ = np.size(A,1)\n",
      "    71                                                   \n",
      "    72         1          3.0      3.0      0.4          N_list_idx = list(range(0,n_c_N))\n",
      "    73         1          1.0      1.0      0.1          B_list_idx = list(range(n_c_N,n_A_))\n",
      "    74                                                   \n",
      "    75         1          2.0      2.0      0.2          nu = np.zeros(n_b)\n",
      "    76                                                   \n",
      "    77         1          0.0      0.0      0.0          lista = []\n",
      "    78         1          1.0      1.0      0.1          i = 0\n",
      "    79                                                   \n",
      "    80         3          9.0      3.0      1.1          for lambda_ in c_N:\n",
      "    81         2         31.0     15.5      3.8              lista.append (-lambda_ + np.dot(nu, A[:, N_list_idx[i]])) \n",
      "    82         2          2.0      1.0      0.2              i = i + 1\n",
      "    83                                                   \n",
      "    84         1          3.0      3.0      0.4          idx_x_N = lista.index(max(lista))\n",
      "    85                                                   \n",
      "    86         3          6.0      2.0      0.7          while lista[idx_x_N]>0:\n",
      "    87                                                       \n",
      "    88         2         87.0     43.5     10.7              d = np.linalg.solve(B, A[:,idx_x_N])    \n",
      "    89         2          2.0      1.0      0.2              lista2 = []\n",
      "    90                                                       \n",
      "    91         8          7.0      0.9      0.9              for indice in range(0,n_b):\n",
      "    92         6          9.0      1.5      1.1                  if d[indice]<=0:\n",
      "    93         2          3.0      1.5      0.4                      lista2.append(np.nan)\n",
      "    94                                                           else:\n",
      "    95         4         13.0      3.2      1.6                      lista2.append(x_B[indice]/d[indice])\n",
      "    96                                                               \n",
      "    97         2         36.0     18.0      4.4              if np.isnan(lista2).all() == True:  \n",
      "    98                                                           status = 3    \n",
      "    99                                                           return (\"simplex method failed, unbounded solution\",-1, status)\n",
      "   100                                                       \n",
      "   101         2         23.0     11.5      2.8              idx_x_B = lista2.index(min(np.array(lista2)[np.isfinite(lista2)]))\n",
      "   102                                                       \n",
      "   103         2          5.0      2.5      0.6              x_min_plus = x_B[idx_x_B]/d[idx_x_B]\n",
      "   104                                                       \n",
      "   105         2         10.0      5.0      1.2              x_B = x_B - d*x_min_plus\n",
      "   106         2          3.0      1.5      0.4              x_B[idx_x_B] = x_min_plus\n",
      "   107                                                       \n",
      "   108         2          5.0      2.5      0.6              B[:,idx_x_B] = A[:,idx_x_N]\n",
      "   109         2          2.0      1.0      0.2              aux = B_list_idx[idx_x_B]\n",
      "   110         2          2.0      1.0      0.2              B_list_idx[idx_x_B] = N_list_idx[idx_x_N]\n",
      "   111         2          1.0      0.5      0.1              N_list_idx[idx_x_N] = aux\n",
      "   112                                                       \n",
      "   113         2          2.0      1.0      0.2              aux = c_B[idx_x_B]\n",
      "   114         2          2.0      1.0      0.2              c_B[idx_x_B] = c_N[idx_x_N]\n",
      "   115         2          3.0      1.5      0.4              c_N[idx_x_N] = aux\n",
      "   116                                                       \n",
      "   117         2         55.0     27.5      6.8              nu = np.linalg.solve(B.T, c_B)\n",
      "   118                                                       \n",
      "   119         2          2.0      1.0      0.2              lista = []\n",
      "   120         2          1.0      0.5      0.1              i = 0\n",
      "   121         6         10.0      1.7      1.2              for lambda_ in c_N:\n",
      "   122         4         30.0      7.5      3.7                  lista.append (-lambda_ + np.dot(nu, A[:, N_list_idx[i]]))\n",
      "   123         4          4.0      1.0      0.5                  i = i + 1\n",
      "   124         2          2.0      1.0      0.2              idx_x_N = lista.index(max(lista))\n",
      "   125                                                   \n",
      "   126         1          1.0      1.0      0.1          solution = []\n",
      "   127                                           \n",
      "   128         3          3.0      1.0      0.4          for indice in range(0,n_c_N):\n",
      "   129         2          2.0      1.0      0.2              j=0\n",
      "   130         8          7.0      0.9      0.9              for indice2 in range(0,len(B_list_idx)):\n",
      "   131         6          6.0      1.0      0.7                  if B_list_idx[indice2] == indice:\n",
      "   132         2          2.0      1.0      0.2                      solution.append(x_B[indice])\n",
      "   133         2          2.0      1.0      0.2                      j = j + 1\n",
      "   134         4          4.0      1.0      0.5                  elif (indice2 == len(B_list_idx) - 1 and j == 0):\n",
      "   135                                                               solution.append(0) \n",
      "   136                                                       \n",
      "   137         1        107.0    107.0     13.1          print(\"Optimization completed successfully !\") \n",
      "   138         1         35.0     35.0      4.3          print(\"Solution for x vector:\") \n",
      "   139         1          3.0      3.0      0.4          self.x = solution\n",
      "   140         1         31.0     31.0      3.8          print(solution) \n",
      "   141         1         27.0     27.0      3.3          print(\"Optimal value:\") \n",
      "   142         1          1.0      1.0      0.1          n = len(solution) \n",
      "   143         1          0.0      0.0      0.0          opt = 0   \n",
      "   144         3          3.0      1.0      0.4          for i in range(n): \n",
      "   145         2          8.0      4.0      1.0              opt += solution[i]* costo[i] \n",
      "   146         1         28.0     28.0      3.4          print(opt) \n",
      "   147         1          2.0      2.0      0.2          status = 0\n",
      "   148                                                       \n",
      "   149                                                   #Solucion    \n",
      "   150         1          1.0      1.0      0.1          self.x = solution\n",
      "   151         1          1.0      1.0      0.1          return solution, opt, status\n",
      "\n",
      "None\n"
     ]
    }
   ],
   "source": [
    "print(line_prof.print_stats())"
   ]
  }
 ],
 "metadata": {
  "kernelspec": {
   "display_name": "Python 3",
   "language": "python",
   "name": "python3"
  },
  "kubeflow_notebook": {
   "autosnapshot": false,
   "docker_image": "",
   "experiment": {
    "id": "",
    "name": ""
   },
   "experiment_name": "",
   "katib_metadata": {
    "algorithm": {
     "algorithmName": "grid"
    },
    "maxFailedTrialCount": 3,
    "maxTrialCount": 12,
    "objective": {
     "objectiveMetricName": "",
     "type": "minimize"
    },
    "parallelTrialCount": 3,
    "parameters": []
   },
   "katib_run": false,
   "pipeline_description": "",
   "pipeline_name": "",
   "snapshot_volumes": false,
   "steps_defaults": [],
   "volume_access_mode": "rwm",
   "volumes": []
  },
  "language_info": {
   "codemirror_mode": {
    "name": "ipython",
    "version": 3
   },
   "file_extension": ".py",
   "mimetype": "text/x-python",
   "name": "python",
   "nbconvert_exporter": "python",
   "pygments_lexer": "ipython3",
   "version": "3.6.9"
  }
 },
 "nbformat": 4,
 "nbformat_minor": 5
}

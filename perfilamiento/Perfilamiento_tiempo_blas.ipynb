{
 "cells": [
  {
   "cell_type": "markdown",
   "metadata": {},
   "source": [
    "# Perfilamiento sobre algoritmo Simplex con Blas\n",
    "\n",
    "### 1. Medición de tiempo\n",
    "\n",
    "Características de la instancia que utilizamos para el perfilamiento"
   ]
  },
  {
   "cell_type": "code",
   "execution_count": 5,
   "metadata": {},
   "outputs": [
    {
     "name": "stdout",
     "output_type": "stream",
     "text": [
      "Architecture:        x86_64\n",
      "CPU op-mode(s):      32-bit, 64-bit\n",
      "Byte Order:          Little Endian\n",
      "CPU(s):              8\n",
      "On-line CPU(s) list: 0-7\n",
      "Thread(s) per core:  2\n",
      "Core(s) per socket:  4\n",
      "Socket(s):           1\n",
      "NUMA node(s):        1\n",
      "Vendor ID:           GenuineIntel\n",
      "CPU family:          6\n",
      "Model:               85\n",
      "Model name:          Intel(R) Xeon(R) Platinum 8175M CPU @ 2.50GHz\n",
      "Stepping:            4\n",
      "CPU MHz:             3099.747\n",
      "BogoMIPS:            5000.00\n",
      "Hypervisor vendor:   KVM\n",
      "Virtualization type: full\n",
      "L1d cache:           32K\n",
      "L1i cache:           32K\n",
      "L2 cache:            1024K\n",
      "L3 cache:            33792K\n",
      "NUMA node0 CPU(s):   0-7\n",
      "Flags:               fpu vme de pse tsc msr pae mce cx8 apic sep mtrr pge mca cmov pat pse36 clflush mmx fxsr sse sse2 ss ht syscall nx pdpe1gb rdtscp lm constant_tsc rep_good nopl xtopology nonstop_tsc cpuid aperfmperf tsc_known_freq pni pclmulqdq ssse3 fma cx16 pcid sse4_1 sse4_2 x2apic movbe popcnt tsc_deadline_timer aes xsave avx f16c rdrand hypervisor lahf_lm abm 3dnowprefetch invpcid_single pti fsgsbase tsc_adjust bmi1 hle avx2 smep bmi2 erms invpcid rtm mpx avx512f avx512dq rdseed adx smap clflushopt clwb avx512cd avx512bw avx512vl xsaveopt xsavec xgetbv1 xsaves ida arat pku ospke\n"
     ]
    }
   ],
   "source": [
    "%%bash\n",
    "lscpu"
   ]
  },
  {
   "cell_type": "code",
   "execution_count": 6,
   "metadata": {},
   "outputs": [
    {
     "name": "stdout",
     "output_type": "stream",
     "text": [
      "  *-memory\n",
      "       description: System memory\n",
      "       physical id: 0\n",
      "       size: 30GiB\n"
     ]
    }
   ],
   "source": [
    "%%bash\n",
    "sudo lshw -C memory"
   ]
  },
  {
   "cell_type": "code",
   "execution_count": 7,
   "metadata": {},
   "outputs": [],
   "source": [
    "import math\n",
    "import time\n",
    "import Simplex\n",
    "import numpy as np\n",
    "from pytest import approx\n",
    "from scipy.optimize import linprog"
   ]
  },
  {
   "cell_type": "markdown",
   "metadata": {},
   "source": [
    "### Módulo time\n",
    "\n",
    "Ejemplo Maximización para evualuar tiempo de ejecución"
   ]
  },
  {
   "cell_type": "code",
   "execution_count": 8,
   "metadata": {},
   "outputs": [
    {
     "name": "stdout",
     "output_type": "stream",
     "text": [
      "Solution for x vector, optimization value and status:\n",
      "Simplex algorithm tomó 0.0008554458618164062 segundos\n"
     ]
    }
   ],
   "source": [
    "c = [3, 5]\n",
    "b = [4, 12, 18]\n",
    "A = [[1,  0],\n",
    "    [0,  2],\n",
    "    [3, 2]]\n",
    "\n",
    "start_time = time.time()\n",
    "problema = Simplex.Simplex(c,A,b,problem='Max')\n",
    "method_result, opt, status = problema.solve()\n",
    "end_time = time.time()\n",
    "secs = end_time-start_time\n",
    "print(\"Simplex algorithm tomó\",secs,\"segundos\" )"
   ]
  },
  {
   "cell_type": "markdown",
   "metadata": {},
   "source": [
    "Con Scipy"
   ]
  },
  {
   "cell_type": "code",
   "execution_count": 9,
   "metadata": {},
   "outputs": [
    {
     "name": "stdout",
     "output_type": "stream",
     "text": [
      "Scipy  tomó 0.08662891387939453 segundos\n"
     ]
    }
   ],
   "source": [
    "c_scipu=[-3, -5]\n",
    "\n",
    "start_time = time.time()\n",
    "opt = linprog(c=c_scipu, A_ub=A, b_ub=b,\n",
    "              method=\"simplex\")\n",
    "end_time = time.time()\n",
    "secs = end_time-start_time\n",
    "print(\"Scipy  tomó\",secs,\"segundos\" )"
   ]
  },
  {
   "cell_type": "markdown",
   "metadata": {},
   "source": [
    "Obs. En esta primera parte nos damos cuenta que el algoritmo implementado es un poco más rápido que el de Scipy."
   ]
  },
  {
   "cell_type": "markdown",
   "metadata": {},
   "source": [
    "### Comando Magic %time"
   ]
  },
  {
   "cell_type": "code",
   "execution_count": 10,
   "metadata": {},
   "outputs": [
    {
     "name": "stdout",
     "output_type": "stream",
     "text": [
      "Solution for x vector, optimization value and status:\n",
      "CPU times: user 548 µs, sys: 118 µs, total: 666 µs\n",
      "Wall time: 456 µs\n"
     ]
    },
    {
     "data": {
      "text/plain": [
       "([0, 0], 0, 0)"
      ]
     },
     "execution_count": 10,
     "metadata": {},
     "output_type": "execute_result"
    }
   ],
   "source": [
    "%time problema.solve()"
   ]
  },
  {
   "cell_type": "markdown",
   "metadata": {},
   "source": [
    "### Cprofile\n",
    "\n",
    "Para poder visualizar en que secciones de código se tarda más"
   ]
  },
  {
   "cell_type": "code",
   "execution_count": 11,
   "metadata": {},
   "outputs": [],
   "source": [
    "import cProfile"
   ]
  },
  {
   "cell_type": "code",
   "execution_count": 12,
   "metadata": {},
   "outputs": [
    {
     "name": "stdout",
     "output_type": "stream",
     "text": [
      "Solution for x vector, optimization value and status:\n",
      "         310 function calls (308 primitive calls) in 0.001 seconds\n",
      "\n",
      "   Ordered by: cumulative time\n",
      "\n",
      "   ncalls  tottime  percall  cumtime  percall filename:lineno(function)\n",
      "        3    0.000    0.000    0.001    0.000 interactiveshell.py:3288(run_code)\n",
      "        3    0.000    0.000    0.001    0.000 {built-in method builtins.exec}\n",
      "        1    0.000    0.000    0.001    0.001 <ipython-input-12-de806f07ed56>:4(<module>)\n",
      "        1    0.000    0.000    0.001    0.001 __init__.py:45(solve)\n",
      "     10/8    0.000    0.000    0.000    0.000 {built-in method numpy.core._multiarray_umath.implement_array_function}\n",
      "        4    0.000    0.000    0.000    0.000 <__array_function__ internals>:2(solve)\n",
      "        4    0.000    0.000    0.000    0.000 linalg.py:314(solve)\n",
      "        1    0.000    0.000    0.000    0.000 {built-in method builtins.print}\n",
      "        2    0.000    0.000    0.000    0.000 iostream.py:384(write)\n",
      "        3    0.000    0.000    0.000    0.000 codeop.py:132(__call__)\n",
      "        1    0.000    0.000    0.000    0.000 <__array_function__ internals>:2(hstack)\n",
      "        1    0.000    0.000    0.000    0.000 shape_base.py:286(hstack)\n",
      "        3    0.000    0.000    0.000    0.000 {built-in method builtins.compile}\n",
      "        1    0.000    0.000    0.000    0.000 <ipython-input-12-de806f07ed56>:3(<module>)\n",
      "        3    0.000    0.000    0.000    0.000 iostream.py:195(schedule)\n",
      "       16    0.000    0.000    0.000    0.000 {built-in method numpy.array}\n",
      "        1    0.000    0.000    0.000    0.000 __init__.py:9(__init__)\n",
      "        1    0.000    0.000    0.000    0.000 <__array_function__ internals>:2(concatenate)\n",
      "        3    0.000    0.000    0.000    0.000 socket.py:438(send)\n",
      "        4    0.000    0.000    0.000    0.000 linalg.py:135(_commonType)\n",
      "        1    0.000    0.000    0.000    0.000 <__array_function__ internals>:2(copy)\n",
      "        2    0.000    0.000    0.000    0.000 iostream.py:321(_schedule_flush)\n",
      "        2    0.000    0.000    0.000    0.000 {method 'all' of 'numpy.ndarray' objects}\n",
      "        2    0.000    0.000    0.000    0.000 _methods.py:56(_all)\n",
      "        2    0.000    0.000    0.000    0.000 twodim_base.py:152(eye)\n",
      "        1    0.000    0.000    0.000    0.000 function_base.py:714(copy)\n",
      "        2    0.000    0.000    0.000    0.000 {method 'reduce' of 'numpy.ufunc' objects}\n",
      "        8    0.000    0.000    0.000    0.000 linalg.py:107(_makearray)\n",
      "        1    0.000    0.000    0.000    0.000 <__array_function__ internals>:2(atleast_1d)\n",
      "        5    0.000    0.000    0.000    0.000 {built-in method numpy.zeros}\n",
      "        3    0.000    0.000    0.000    0.000 threading.py:1104(is_alive)\n",
      "       14    0.000    0.000    0.000    0.000 {built-in method builtins.getattr}\n",
      "       12    0.000    0.000    0.000    0.000 linalg.py:112(isComplexType)\n",
      "        1    0.000    0.000    0.000    0.000 shape_base.py:24(atleast_1d)\n",
      "        2    0.000    0.000    0.000    0.000 <__array_function__ internals>:2(size)\n",
      "        8    0.000    0.000    0.000    0.000 _asarray.py:14(asarray)\n",
      "        3    0.000    0.000    0.000    0.000 contextlib.py:157(helper)\n",
      "        4    0.000    0.000    0.000    0.000 {method 'astype' of 'numpy.ndarray' objects}\n",
      "        6    0.000    0.000    0.000    0.000 {built-in method builtins.next}\n",
      "        3    0.000    0.000    0.000    0.000 contextlib.py:85(__exit__)\n",
      "        3    0.000    0.000    0.000    0.000 contextlib.py:79(__enter__)\n",
      "        2    0.000    0.000    0.000    0.000 {built-in method builtins.min}\n",
      "        8    0.000    0.000    0.000    0.000 linalg.py:125(_realType)\n",
      "        2    0.000    0.000    0.000    0.000 iostream.py:308(_is_master_process)\n",
      "        3    0.000    0.000    0.000    0.000 traitlets.py:545(__get__)\n",
      "        3    0.000    0.000    0.000    0.000 contextlib.py:59(__init__)\n",
      "        1    0.000    0.000    0.000    0.000 shape_base.py:219(_vhstack_dispatcher)\n",
      "        3    0.000    0.000    0.000    0.000 hooks.py:142(__call__)\n",
      "        3    0.000    0.000    0.000    0.000 threading.py:1062(_wait_for_tstate_lock)\n",
      "        5    0.000    0.000    0.000    0.000 {method 'index' of 'list' objects}\n",
      "       20    0.000    0.000    0.000    0.000 {built-in method builtins.issubclass}\n",
      "        3    0.000    0.000    0.000    0.000 {built-in method builtins.max}\n",
      "        4    0.000    0.000    0.000    0.000 linalg.py:194(_assert_stacked_2d)\n",
      "        4    0.000    0.000    0.000    0.000 linalg.py:200(_assert_stacked_square)\n",
      "        2    0.000    0.000    0.000    0.000 fromnumeric.py:3117(size)\n",
      "        1    0.000    0.000    0.000    0.000 <ipython-input-12-de806f07ed56>:5(<module>)\n",
      "        3    0.000    0.000    0.000    0.000 interactiveshell.py:117(<lambda>)\n",
      "        3    0.000    0.000    0.000    0.000 ipstruct.py:125(__getattr__)\n",
      "        2    0.000    0.000    0.000    0.000 {built-in method posix.getpid}\n",
      "        4    0.000    0.000    0.000    0.000 linalg.py:102(get_linalg_error_extobj)\n",
      "        4    0.000    0.000    0.000    0.000 linalg.py:310(_solve_dispatcher)\n",
      "        1    0.000    0.000    0.000    0.000 shape_base.py:208(_arrays_for_stack_dispatcher)\n",
      "        6    0.000    0.000    0.000    0.000 compilerop.py:138(extra_flags)\n",
      "       16    0.000    0.000    0.000    0.000 {method 'append' of 'list' objects}\n",
      "        3    0.000    0.000    0.000    0.000 {method 'acquire' of '_thread.lock' objects}\n",
      "        3    0.000    0.000    0.000    0.000 {method 'append' of 'collections.deque' objects}\n",
      "        1    0.000    0.000    0.000    0.000 {built-in method builtins.hasattr}\n",
      "        2    0.000    0.000    0.000    0.000 _asarray.py:86(asanyarray)\n",
      "        1    0.000    0.000    0.000    0.000 multiarray.py:143(concatenate)\n",
      "        3    0.000    0.000    0.000    0.000 iostream.py:91(_event_pipe)\n",
      "        3    0.000    0.000    0.000    0.000 interactiveshell.py:3230(compare)\n",
      "        3    0.000    0.000    0.000    0.000 interactiveshell.py:1272(user_global_ns)\n",
      "        3    0.000    0.000    0.000    0.000 traitlets.py:526(get)\n",
      "        8    0.000    0.000    0.000    0.000 {method 'get' of 'dict' objects}\n",
      "        3    0.000    0.000    0.000    0.000 {built-in method builtins.isinstance}\n",
      "        8    0.000    0.000    0.000    0.000 {built-in method builtins.len}\n",
      "        1    0.000    0.000    0.000    0.000 function_base.py:710(_copy_dispatcher)\n",
      "        1    0.000    0.000    0.000    0.000 shape_base.py:20(_atleast_1d_dispatcher)\n",
      "        2    0.000    0.000    0.000    0.000 fromnumeric.py:3113(_size_dispatcher)\n",
      "        4    0.000    0.000    0.000    0.000 {method '__array_prepare__' of 'numpy.ndarray' objects}\n",
      "        1    0.000    0.000    0.000    0.000 {method 'disable' of '_lsprof.Profiler' objects}\n",
      "        3    0.000    0.000    0.000    0.000 hooks.py:207(pre_run_code_hook)\n",
      "        3    0.000    0.000    0.000    0.000 threading.py:506(is_set)\n",
      "\n",
      "\n"
     ]
    }
   ],
   "source": [
    "cprof = cProfile.Profile()\n",
    "cprof.enable()\n",
    "problema = Simplex.Simplex(c,A,b,problem='Max')\n",
    "method_result, opt, status = problema.solve()\n",
    "cprof.disable()\n",
    "cprof.print_stats(sort='cumtime')"
   ]
  },
  {
   "cell_type": "code",
   "execution_count": 13,
   "metadata": {},
   "outputs": [],
   "source": [
    "import pstats\n",
    "\n",
    "cprof.dump_stats(\"Simplex_stats\")"
   ]
  },
  {
   "cell_type": "code",
   "execution_count": 14,
   "metadata": {},
   "outputs": [
    {
     "name": "stdout",
     "output_type": "stream",
     "text": [
      "Sun May  9 15:46:20 2021    Simplex_stats\n",
      "\n",
      "         310 function calls (308 primitive calls) in 0.001 seconds\n",
      "\n",
      "   Ordered by: cumulative time\n",
      "   List reduced from 83 to 10 due to restriction <10>\n",
      "\n",
      "   ncalls  tottime  percall  cumtime  percall filename:lineno(function)\n",
      "        3    0.000    0.000    0.001    0.000 /usr/local/lib/python3.6/dist-packages/IPython/core/interactiveshell.py:3288(run_code)\n",
      "        3    0.000    0.000    0.001    0.000 {built-in method builtins.exec}\n",
      "        1    0.000    0.000    0.001    0.001 <ipython-input-12-de806f07ed56>:4(<module>)\n",
      "        1    0.000    0.000    0.001    0.001 /usr/local/lib/python3.6/dist-packages/Simplex/__init__.py:45(solve)\n",
      "     10/8    0.000    0.000    0.000    0.000 {built-in method numpy.core._multiarray_umath.implement_array_function}\n",
      "        4    0.000    0.000    0.000    0.000 <__array_function__ internals>:2(solve)\n",
      "        4    0.000    0.000    0.000    0.000 /usr/local/lib/python3.6/dist-packages/numpy/linalg/linalg.py:314(solve)\n",
      "        1    0.000    0.000    0.000    0.000 {built-in method builtins.print}\n",
      "        2    0.000    0.000    0.000    0.000 /usr/local/lib/python3.6/dist-packages/ipykernel/iostream.py:384(write)\n",
      "        3    0.000    0.000    0.000    0.000 /usr/lib/python3.6/codeop.py:132(__call__)\n",
      "\n",
      "\n",
      "<pstats.Stats object at 0x7f2e07db28d0>\n"
     ]
    }
   ],
   "source": [
    "p_simplex_stats = pstats.Stats(\"Simplex_stats\")\n",
    "print(p_simplex_stats.sort_stats(\"cumulative\").print_stats(10))"
   ]
  },
  {
   "cell_type": "code",
   "execution_count": 15,
   "metadata": {},
   "outputs": [
    {
     "name": "stdout",
     "output_type": "stream",
     "text": [
      "Sun May  9 15:46:20 2021    Simplex_stats\n",
      "\n",
      "         310 function calls (308 primitive calls) in 0.001 seconds\n",
      "\n",
      "   Ordered by: cumulative time\n",
      "   List reduced from 83 to 7 due to restriction <'solve|module'>\n",
      "\n",
      "   ncalls  tottime  percall  cumtime  percall filename:lineno(function)\n",
      "        1    0.000    0.000    0.001    0.001 <ipython-input-12-de806f07ed56>:4(<module>)\n",
      "        1    0.000    0.000    0.001    0.001 /usr/local/lib/python3.6/dist-packages/Simplex/__init__.py:45(solve)\n",
      "        4    0.000    0.000    0.000    0.000 <__array_function__ internals>:2(solve)\n",
      "        4    0.000    0.000    0.000    0.000 /usr/local/lib/python3.6/dist-packages/numpy/linalg/linalg.py:314(solve)\n",
      "        1    0.000    0.000    0.000    0.000 <ipython-input-12-de806f07ed56>:3(<module>)\n",
      "        1    0.000    0.000    0.000    0.000 <ipython-input-12-de806f07ed56>:5(<module>)\n",
      "        4    0.000    0.000    0.000    0.000 /usr/local/lib/python3.6/dist-packages/numpy/linalg/linalg.py:310(_solve_dispatcher)\n",
      "\n",
      "\n",
      "<pstats.Stats object at 0x7f2e07db28d0>\n"
     ]
    }
   ],
   "source": [
    "print(p_simplex_stats.sort_stats(\"cumulative\").print_stats(\"solve|module\"))"
   ]
  },
  {
   "cell_type": "code",
   "execution_count": 16,
   "metadata": {},
   "outputs": [
    {
     "name": "stdout",
     "output_type": "stream",
     "text": [
      "308\n"
     ]
    }
   ],
   "source": [
    "#numero de llamadas a funciones primitivas\n",
    "print(p_simplex_stats.prim_calls)"
   ]
  },
  {
   "cell_type": "code",
   "execution_count": 17,
   "metadata": {},
   "outputs": [
    {
     "name": "stdout",
     "output_type": "stream",
     "text": [
      "   Ordered by: cumulative time\n",
      "   List reduced from 83 to 10 due to restriction <10>\n",
      "\n",
      "Function                                                                 was called by...\n",
      "                                                                             ncalls  tottime  cumtime\n",
      "interactiveshell.py:3288(run_code)                                       <- \n",
      "{built-in method builtins.exec}                                          <-       3    0.000    0.001  interactiveshell.py:3288(run_code)\n",
      "<ipython-input-12-de806f07ed56>:4(<module>)                              <-       1    0.000    0.001  {built-in method builtins.exec}\n",
      "__init__.py:45(solve)                                                    <-       1    0.000    0.001  <ipython-input-12-de806f07ed56>:4(<module>)\n",
      "{built-in method numpy.core._multiarray_umath.implement_array_function}  <-       1    0.000    0.000  <__array_function__ internals>:2(atleast_1d)\n",
      "                                                                                  1    0.000    0.000  <__array_function__ internals>:2(concatenate)\n",
      "                                                                                  1    0.000    0.000  <__array_function__ internals>:2(copy)\n",
      "                                                                                  1    0.000    0.000  <__array_function__ internals>:2(hstack)\n",
      "                                                                                  2    0.000    0.000  <__array_function__ internals>:2(size)\n",
      "                                                                                  4    0.000    0.000  <__array_function__ internals>:2(solve)\n",
      "<__array_function__ internals>:2(solve)                                  <-       4    0.000    0.000  __init__.py:45(solve)\n",
      "linalg.py:314(solve)                                                     <-       4    0.000    0.000  {built-in method numpy.core._multiarray_umath.implement_array_function}\n",
      "{built-in method builtins.print}                                         <-       1    0.000    0.000  __init__.py:45(solve)\n",
      "iostream.py:384(write)                                                   <-       2    0.000    0.000  {built-in method builtins.print}\n",
      "codeop.py:132(__call__)                                                  <- \n",
      "\n",
      "\n"
     ]
    },
    {
     "data": {
      "text/plain": [
       "<pstats.Stats at 0x7f2e07db28d0>"
      ]
     },
     "execution_count": 17,
     "metadata": {},
     "output_type": "execute_result"
    }
   ],
   "source": [
    "p_simplex_stats.strip_dirs().sort_stats(\"cumulative\").print_callers(10)"
   ]
  },
  {
   "cell_type": "code",
   "execution_count": 18,
   "metadata": {},
   "outputs": [
    {
     "name": "stdout",
     "output_type": "stream",
     "text": [
      "   Ordered by: cumulative time\n",
      "   List reduced from 83 to 5 due to restriction <'print|dot|ndim|solve'>\n",
      "\n",
      "Function                                 called...\n",
      "                                             ncalls  tottime  cumtime\n",
      "__init__.py:45(solve)                    ->       1    0.000    0.000  <__array_function__ internals>:2(copy)\n",
      "                                                  1    0.000    0.000  <__array_function__ internals>:2(hstack)\n",
      "                                                  2    0.000    0.000  <__array_function__ internals>:2(size)\n",
      "                                                  4    0.000    0.000  <__array_function__ internals>:2(solve)\n",
      "                                                  2    0.000    0.000  twodim_base.py:152(eye)\n",
      "                                                  7    0.000    0.000  {built-in method builtins.len}\n",
      "                                                  3    0.000    0.000  {built-in method builtins.max}\n",
      "                                                  2    0.000    0.000  {built-in method builtins.min}\n",
      "                                                  1    0.000    0.000  {built-in method builtins.print}\n",
      "                                                  2    0.000    0.000  {built-in method numpy.array}\n",
      "                                                  2    0.000    0.000  {built-in method numpy.zeros}\n",
      "                                                  2    0.000    0.000  {method 'all' of 'numpy.ndarray' objects}\n",
      "                                                 14    0.000    0.000  {method 'append' of 'list' objects}\n",
      "                                                  5    0.000    0.000  {method 'index' of 'list' objects}\n",
      "<__array_function__ internals>:2(solve)  ->       4    0.000    0.000  linalg.py:310(_solve_dispatcher)\n",
      "                                                  4    0.000    0.000  {built-in method numpy.core._multiarray_umath.implement_array_function}\n",
      "linalg.py:314(solve)                     ->       4    0.000    0.000  linalg.py:102(get_linalg_error_extobj)\n",
      "                                                  8    0.000    0.000  linalg.py:107(_makearray)\n",
      "                                                  4    0.000    0.000  linalg.py:112(isComplexType)\n",
      "                                                  4    0.000    0.000  linalg.py:135(_commonType)\n",
      "                                                  4    0.000    0.000  linalg.py:194(_assert_stacked_2d)\n",
      "                                                  4    0.000    0.000  linalg.py:200(_assert_stacked_square)\n",
      "                                                  4    0.000    0.000  {method '__array_prepare__' of 'numpy.ndarray' objects}\n",
      "                                                  4    0.000    0.000  {method 'astype' of 'numpy.ndarray' objects}\n",
      "{built-in method builtins.print}         ->       2    0.000    0.000  iostream.py:384(write)\n",
      "linalg.py:310(_solve_dispatcher)         -> \n",
      "\n",
      "\n"
     ]
    },
    {
     "data": {
      "text/plain": [
       "<pstats.Stats at 0x7f2e07db28d0>"
      ]
     },
     "execution_count": 18,
     "metadata": {},
     "output_type": "execute_result"
    }
   ],
   "source": [
    "p_simplex_stats.strip_dirs().sort_stats(\"cumulative\").print_callees(\"print|dot|ndim|solve\")"
   ]
  },
  {
   "cell_type": "markdown",
   "metadata": {},
   "source": [
    "### Lineprofiler\n",
    "\n",
    "Para saber línea por línea en que parte nuestro algoritmo se está tardano más en ejecutar"
   ]
  },
  {
   "cell_type": "code",
   "execution_count": 19,
   "metadata": {},
   "outputs": [
    {
     "name": "stdout",
     "output_type": "stream",
     "text": [
      "Solution for x vector, optimization value and status:\n",
      "([2.0, 6.0], -36.0, 0)\n"
     ]
    }
   ],
   "source": [
    "import line_profiler\n",
    "\n",
    "problema = Simplex.Simplex(c,A,b,problem='Max')\n",
    "line_prof = line_profiler.LineProfiler()\n",
    "print(line_prof(problema.solve)())"
   ]
  },
  {
   "cell_type": "code",
   "execution_count": 20,
   "metadata": {},
   "outputs": [
    {
     "name": "stdout",
     "output_type": "stream",
     "text": [
      "Timer unit: 1e-06 s\n",
      "\n",
      "Total time: 0.00066 s\n",
      "File: /usr/local/lib/python3.6/dist-packages/Simplex/__init__.py\n",
      "Function: solve at line 45\n",
      "\n",
      "Line #      Hits         Time  Per Hit   % Time  Line Contents\n",
      "==============================================================\n",
      "    45                                               def solve(self):\n",
      "    46                                                   \n",
      "    47                                                   \"\"\"\n",
      "    48                                                   Solves the simplex algorithm. \n",
      "    49                                                   Returns\n",
      "    50                                                   -------\n",
      "    51                                                   :solution: Numpy array with solution\n",
      "    52                                           \n",
      "    53                                                   \"\"\"\n",
      "    54         1          2.0      2.0      0.3          problem = self.problem\n",
      "    55         1          1.0      1.0      0.2          verbose = self.verbose\n",
      "    56         1          1.0      1.0      0.2          c_N = self.c\n",
      "    57         1          0.0      0.0      0.0          A = self.A\n",
      "    58         1          1.0      1.0      0.2          b = self.b\n",
      "    59         1          1.0      1.0      0.2          status = []\n",
      "    60         1         21.0     21.0      3.2          costo = np.copy(c_N)\n",
      "    61                                                 \n",
      "    62         1          1.0      1.0      0.2          n_c_N = c_N.size\n",
      "    63         1         12.0     12.0      1.8          n_A = np.size(A,0)\n",
      "    64         1         17.0     17.0      2.6          identity_A = np.eye(n_A)\n",
      "    65         1          5.0      5.0      0.8          B = np.eye(n_A)\n",
      "    66         1         54.0     54.0      8.2          A= np.hstack((A,identity_A))\n",
      "    67                                                   \n",
      "    68         1          1.0      1.0      0.2          n_b = b.size\n",
      "    69         1          1.0      1.0      0.2          x_B = b\n",
      "    70                                                   \n",
      "    71         1          3.0      3.0      0.5          c_B = np.zeros(n_b)\n",
      "    72                                                   \n",
      "    73         1          3.0      3.0      0.5          n_A_ = np.size(A,1)\n",
      "    74                                                   \n",
      "    75         1          3.0      3.0      0.5          N_list_idx = list(range(0,n_c_N))\n",
      "    76         1          1.0      1.0      0.2          B_list_idx = list(range(n_c_N,n_A_))\n",
      "    77                                                   \n",
      "    78         1          2.0      2.0      0.3          nu = np.zeros(n_b)\n",
      "    79                                                   \n",
      "    80         1          1.0      1.0      0.2          lista = []\n",
      "    81         1          1.0      1.0      0.2          i = 0\n",
      "    82                                                   \n",
      "    83         3          7.0      2.3      1.1          for lambda_ in c_N:\n",
      "    84         2         33.0     16.5      5.0              lista.append (-lambda_ + nu@A[:, N_list_idx[i]]) ##Adding blas optimization\n",
      "    85         2          2.0      1.0      0.3              i = i + 1\n",
      "    86                                                   \n",
      "    87         1          3.0      3.0      0.5          idx_x_N = lista.index(max(lista))\n",
      "    88                                                   \n",
      "    89         3          6.0      2.0      0.9          while lista[idx_x_N]>0:\n",
      "    90                                                       \n",
      "    91         2         90.0     45.0     13.6              d = np.linalg.solve(B, A[:,idx_x_N])    \n",
      "    92         2          2.0      1.0      0.3              lista2 = []\n",
      "    93                                                       \n",
      "    94         8          9.0      1.1      1.4              for indice in range(0,n_b):\n",
      "    95         6          7.0      1.2      1.1                  if d[indice]<=0:\n",
      "    96         2          3.0      1.5      0.5                      lista2.append(np.nan)\n",
      "    97                                                           else:\n",
      "    98         4         14.0      3.5      2.1                      lista2.append(x_B[indice]/d[indice])\n",
      "    99                                                               \n",
      "   100         2         37.0     18.5      5.6              if np.isnan(lista2).all() == True:  \n",
      "   101                                                           status = 3    \n",
      "   102                                                           return (\"simplex method failed, unbounded solution\",-1, status)\n",
      "   103                                                       \n",
      "   104         2         24.0     12.0      3.6              idx_x_B = lista2.index(min(np.array(lista2)[np.isfinite(lista2)]))\n",
      "   105                                                       \n",
      "   106         2          6.0      3.0      0.9              x_min_plus = x_B[idx_x_B]/d[idx_x_B]\n",
      "   107                                                       \n",
      "   108         2         10.0      5.0      1.5              x_B = x_B - d*x_min_plus\n",
      "   109         2          2.0      1.0      0.3              x_B[idx_x_B] = x_min_plus\n",
      "   110                                                       \n",
      "   111         2          6.0      3.0      0.9              B[:,idx_x_B] = A[:,idx_x_N]\n",
      "   112         2          2.0      1.0      0.3              aux = B_list_idx[idx_x_B]\n",
      "   113         2          2.0      1.0      0.3              B_list_idx[idx_x_B] = N_list_idx[idx_x_N]\n",
      "   114         2          1.0      0.5      0.2              N_list_idx[idx_x_N] = aux\n",
      "   115                                                       \n",
      "   116         2          1.0      0.5      0.2              aux = c_B[idx_x_B]\n",
      "   117         2          4.0      2.0      0.6              c_B[idx_x_B] = c_N[idx_x_N]\n",
      "   118         2          2.0      1.0      0.3              c_N[idx_x_N] = aux\n",
      "   119                                                       \n",
      "   120         2         53.0     26.5      8.0              nu = np.linalg.solve(B.T, c_B)\n",
      "   121                                                       \n",
      "   122         2          2.0      1.0      0.3              lista = []\n",
      "   123         2          2.0      1.0      0.3              i = 0\n",
      "   124         6          8.0      1.3      1.2              for lambda_ in c_N:\n",
      "   125         4         28.0      7.0      4.2                  lista.append (-lambda_ + nu@A[:, N_list_idx[i]]) ###adding blas optimization\n",
      "   126         4          4.0      1.0      0.6                  i = i + 1\n",
      "   127         2          4.0      2.0      0.6              idx_x_N = lista.index(max(lista))\n",
      "   128                                                   \n",
      "   129         1          1.0      1.0      0.2          solution = []\n",
      "   130                                           \n",
      "   131         3          3.0      1.0      0.5          for indice in range(0,n_c_N):\n",
      "   132         2          2.0      1.0      0.3              j=0\n",
      "   133         8          8.0      1.0      1.2              for indice2 in range(0,len(B_list_idx)):\n",
      "   134         6          5.0      0.8      0.8                  if B_list_idx[indice2] == indice:\n",
      "   135         2          3.0      1.5      0.5                      solution.append(x_B[indice2])\n",
      "   136         2          2.0      1.0      0.3                      j = j + 1\n",
      "   137         4          4.0      1.0      0.6                  elif (indice2 == len(B_list_idx) - 1 and j == 0):\n",
      "   138                                                               solution.append(0) \n",
      "   139                                                               \n",
      "   140         1          1.0      1.0      0.2          if verbose == True:\n",
      "   141                                                       print(\"Optimization completed successfully !\") \n",
      "   142                                                       print(\"Solution for x vector:\") \n",
      "   143                                                       self.x = solution\n",
      "   144                                                       print(solution) \n",
      "   145                                                   \n",
      "   146         1          1.0      1.0      0.2          status = 0\n",
      "   147         1          1.0      1.0      0.2          n = len(solution)\n",
      "   148         1          1.0      1.0      0.2          opt = 0\n",
      "   149         3          3.0      1.0      0.5          for i in range(n):\n",
      "   150         2          4.0      2.0      0.6              opt += solution[i]* costo[i] ###Blas optimization\n",
      "   151         1          1.0      1.0      0.2          if verbose == True:\n",
      "   152                                                       print(\"Optimal value:\")\n",
      "   153                                                       print(opt)\n",
      "   154                                                       \n",
      "   155         1        111.0    111.0     16.8          print(\"Solution for x vector, optimization value and status:\")\n",
      "   156                                                       \n",
      "   157                                                   #Solucion    \n",
      "   158         1          2.0      2.0      0.3          self.x = solution\n",
      "   159         1          1.0      1.0      0.2          return solution, opt, status\n",
      "\n",
      "None\n"
     ]
    }
   ],
   "source": [
    "print(line_prof.print_stats())"
   ]
  }
 ],
 "metadata": {
  "kernelspec": {
   "display_name": "Python 3",
   "language": "python",
   "name": "python3"
  },
  "kubeflow_notebook": {
   "autosnapshot": false,
   "docker_image": "",
   "experiment": {
    "id": "",
    "name": ""
   },
   "experiment_name": "",
   "katib_metadata": {
    "algorithm": {
     "algorithmName": "grid"
    },
    "maxFailedTrialCount": 3,
    "maxTrialCount": 12,
    "objective": {
     "objectiveMetricName": "",
     "type": "minimize"
    },
    "parallelTrialCount": 3,
    "parameters": []
   },
   "katib_run": false,
   "pipeline_description": "",
   "pipeline_name": "",
   "snapshot_volumes": false,
   "steps_defaults": [],
   "volume_access_mode": "rwm",
   "volumes": []
  },
  "language_info": {
   "codemirror_mode": {
    "name": "ipython",
    "version": 3
   },
   "file_extension": ".py",
   "mimetype": "text/x-python",
   "name": "python",
   "nbconvert_exporter": "python",
   "pygments_lexer": "ipython3",
   "version": "3.6.9"
  }
 },
 "nbformat": 4,
 "nbformat_minor": 5
}
